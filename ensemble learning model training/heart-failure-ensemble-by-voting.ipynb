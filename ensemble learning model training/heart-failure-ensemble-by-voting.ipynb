{
 "cells": [
  {
   "cell_type": "code",
   "execution_count": 1,
   "id": "b8a52a31",
   "metadata": {
    "execution": {
     "iopub.execute_input": "2023-03-09T18:22:39.712291Z",
     "iopub.status.busy": "2023-03-09T18:22:39.711816Z",
     "iopub.status.idle": "2023-03-09T18:22:39.735970Z",
     "shell.execute_reply": "2023-03-09T18:22:39.734654Z"
    },
    "papermill": {
     "duration": 0.053259,
     "end_time": "2023-03-09T18:22:39.740074",
     "exception": false,
     "start_time": "2023-03-09T18:22:39.686815",
     "status": "completed"
    },
    "tags": []
   },
   "outputs": [],
   "source": [
    "import numpy as np \n",
    "import pandas as pd\n",
    "import category_encoders as encoders\n",
    "from sklearn.preprocessing import RobustScaler\n",
    "from sklearn import model_selection, metrics, naive_bayes\n",
    "from sklearn.neighbors import KNeighborsClassifier\n",
    "from sklearn.tree import DecisionTreeClassifier \n",
    "from sklearn.linear_model import LogisticRegression\n",
    "from sklearn.ensemble import RandomForestClassifier, VotingClassifier, BaggingClassifier\n",
    "from xgboost import XGBClassifier\n",
    "from sklearn.svm import SVC \n",
    "from lightgbm import LGBMClassifier\n",
    "%matplotlib inline\n",
    "import matplotlib.pyplot as plt\n",
    "import seaborn as sns"
   ]
  },
  {
   "cell_type": "markdown",
   "id": "77039b9d",
   "metadata": {
    "papermill": {
     "duration": 0.024252,
     "end_time": "2023-03-09T18:22:43.849268",
     "exception": false,
     "start_time": "2023-03-09T18:22:43.825016",
     "status": "completed"
    },
    "tags": []
   },
   "source": [
    "#### Import the Data"
   ]
  },
  {
   "cell_type": "code",
   "execution_count": 2,
   "id": "7df20a13",
   "metadata": {
    "execution": {
     "iopub.execute_input": "2023-03-09T18:22:43.900069Z",
     "iopub.status.busy": "2023-03-09T18:22:43.899317Z",
     "iopub.status.idle": "2023-03-09T18:22:43.920343Z",
     "shell.execute_reply": "2023-03-09T18:22:43.918708Z"
    },
    "papermill": {
     "duration": 0.049835,
     "end_time": "2023-03-09T18:22:43.923385",
     "exception": false,
     "start_time": "2023-03-09T18:22:43.873550",
     "status": "completed"
    },
    "tags": []
   },
   "outputs": [
    {
     "data": {
      "text/plain": [
       "(918, 12)"
      ]
     },
     "execution_count": 2,
     "metadata": {},
     "output_type": "execute_result"
    }
   ],
   "source": [
    "df_heart = pd.read_csv('heart.csv')\n",
    "df_heart.shape"
   ]
  },
  {
   "cell_type": "code",
   "execution_count": 3,
   "id": "a5c161b7",
   "metadata": {
    "execution": {
     "iopub.execute_input": "2023-03-09T18:22:44.528117Z",
     "iopub.status.busy": "2023-03-09T18:22:44.527655Z",
     "iopub.status.idle": "2023-03-09T18:22:44.538663Z",
     "shell.execute_reply": "2023-03-09T18:22:44.537749Z"
    },
    "papermill": {
     "duration": 0.03946,
     "end_time": "2023-03-09T18:22:44.540953",
     "exception": false,
     "start_time": "2023-03-09T18:22:44.501493",
     "status": "completed"
    },
    "tags": []
   },
   "outputs": [
    {
     "data": {
      "text/plain": [
       "Age               0\n",
       "Sex               0\n",
       "ChestPainType     0\n",
       "RestingBP         0\n",
       "Cholesterol       0\n",
       "FastingBS         0\n",
       "RestingECG        0\n",
       "MaxHR             0\n",
       "ExerciseAngina    0\n",
       "Oldpeak           0\n",
       "ST_Slope          0\n",
       "HeartDisease      0\n",
       "dtype: int64"
      ]
     },
     "execution_count": 3,
     "metadata": {},
     "output_type": "execute_result"
    }
   ],
   "source": [
    "df_heart.isnull().sum()"
   ]
  },
  {
   "cell_type": "code",
   "execution_count": 5,
   "id": "24880792",
   "metadata": {
    "execution": {
     "iopub.execute_input": "2023-03-09T18:22:44.814099Z",
     "iopub.status.busy": "2023-03-09T18:22:44.813606Z",
     "iopub.status.idle": "2023-03-09T18:22:44.862999Z",
     "shell.execute_reply": "2023-03-09T18:22:44.861060Z"
    },
    "papermill": {
     "duration": 0.078985,
     "end_time": "2023-03-09T18:22:44.866404",
     "exception": false,
     "start_time": "2023-03-09T18:22:44.787419",
     "status": "completed"
    },
    "tags": []
   },
   "outputs": [
    {
     "data": {
      "text/html": [
       "<div>\n",
       "<style scoped>\n",
       "    .dataframe tbody tr th:only-of-type {\n",
       "        vertical-align: middle;\n",
       "    }\n",
       "\n",
       "    .dataframe tbody tr th {\n",
       "        vertical-align: top;\n",
       "    }\n",
       "\n",
       "    .dataframe thead th {\n",
       "        text-align: right;\n",
       "    }\n",
       "</style>\n",
       "<table border=\"1\" class=\"dataframe\">\n",
       "  <thead>\n",
       "    <tr style=\"text-align: right;\">\n",
       "      <th></th>\n",
       "      <th>Age</th>\n",
       "      <th>RestingBP</th>\n",
       "      <th>Cholesterol</th>\n",
       "      <th>MaxHR</th>\n",
       "      <th>Oldpeak</th>\n",
       "    </tr>\n",
       "  </thead>\n",
       "  <tbody>\n",
       "    <tr>\n",
       "      <th>count</th>\n",
       "      <td>918.000000</td>\n",
       "      <td>918.000000</td>\n",
       "      <td>918.000000</td>\n",
       "      <td>918.000000</td>\n",
       "      <td>918.000000</td>\n",
       "    </tr>\n",
       "    <tr>\n",
       "      <th>mean</th>\n",
       "      <td>53.510893</td>\n",
       "      <td>132.396514</td>\n",
       "      <td>198.799564</td>\n",
       "      <td>136.809368</td>\n",
       "      <td>0.887364</td>\n",
       "    </tr>\n",
       "    <tr>\n",
       "      <th>std</th>\n",
       "      <td>9.432617</td>\n",
       "      <td>18.514154</td>\n",
       "      <td>109.384145</td>\n",
       "      <td>25.460334</td>\n",
       "      <td>1.066570</td>\n",
       "    </tr>\n",
       "    <tr>\n",
       "      <th>min</th>\n",
       "      <td>28.000000</td>\n",
       "      <td>0.000000</td>\n",
       "      <td>0.000000</td>\n",
       "      <td>60.000000</td>\n",
       "      <td>-2.600000</td>\n",
       "    </tr>\n",
       "    <tr>\n",
       "      <th>25%</th>\n",
       "      <td>47.000000</td>\n",
       "      <td>120.000000</td>\n",
       "      <td>173.250000</td>\n",
       "      <td>120.000000</td>\n",
       "      <td>0.000000</td>\n",
       "    </tr>\n",
       "    <tr>\n",
       "      <th>50%</th>\n",
       "      <td>54.000000</td>\n",
       "      <td>130.000000</td>\n",
       "      <td>223.000000</td>\n",
       "      <td>138.000000</td>\n",
       "      <td>0.600000</td>\n",
       "    </tr>\n",
       "    <tr>\n",
       "      <th>75%</th>\n",
       "      <td>60.000000</td>\n",
       "      <td>140.000000</td>\n",
       "      <td>267.000000</td>\n",
       "      <td>156.000000</td>\n",
       "      <td>1.500000</td>\n",
       "    </tr>\n",
       "    <tr>\n",
       "      <th>max</th>\n",
       "      <td>77.000000</td>\n",
       "      <td>200.000000</td>\n",
       "      <td>603.000000</td>\n",
       "      <td>202.000000</td>\n",
       "      <td>6.200000</td>\n",
       "    </tr>\n",
       "  </tbody>\n",
       "</table>\n",
       "</div>"
      ],
      "text/plain": [
       "              Age   RestingBP  Cholesterol       MaxHR     Oldpeak\n",
       "count  918.000000  918.000000   918.000000  918.000000  918.000000\n",
       "mean    53.510893  132.396514   198.799564  136.809368    0.887364\n",
       "std      9.432617   18.514154   109.384145   25.460334    1.066570\n",
       "min     28.000000    0.000000     0.000000   60.000000   -2.600000\n",
       "25%     47.000000  120.000000   173.250000  120.000000    0.000000\n",
       "50%     54.000000  130.000000   223.000000  138.000000    0.600000\n",
       "75%     60.000000  140.000000   267.000000  156.000000    1.500000\n",
       "max     77.000000  200.000000   603.000000  202.000000    6.200000"
      ]
     },
     "execution_count": 5,
     "metadata": {},
     "output_type": "execute_result"
    }
   ],
   "source": [
    "df_heart[numerical].describe()"
   ]
  },
  {
   "cell_type": "code",
   "execution_count": 6,
   "id": "0756ea41",
   "metadata": {
    "execution": {
     "iopub.execute_input": "2023-03-09T18:22:49.920824Z",
     "iopub.status.busy": "2023-03-09T18:22:49.919915Z",
     "iopub.status.idle": "2023-03-09T18:22:49.938380Z",
     "shell.execute_reply": "2023-03-09T18:22:49.936676Z"
    },
    "papermill": {
     "duration": 0.052333,
     "end_time": "2023-03-09T18:22:49.942047",
     "exception": false,
     "start_time": "2023-03-09T18:22:49.889714",
     "status": "completed"
    },
    "tags": []
   },
   "outputs": [
    {
     "name": "stdout",
     "output_type": "stream",
     "text": [
      "        Age  RestingBP  Cholesterol     MaxHR   Oldpeak\n",
      "0 -1.076923        0.5     0.704000  0.944444 -0.400000\n",
      "1 -0.384615        1.5    -0.458667  0.500000  0.266667\n",
      "2 -1.307692        0.0     0.640000 -1.111111 -0.400000\n",
      "3 -0.461538        0.4    -0.096000 -0.833333  0.600000\n",
      "4  0.000000        1.0    -0.298667 -0.444444 -0.400000\n",
      "5 -1.153846       -0.5     1.237333  0.888889 -0.400000\n",
      "6 -0.692308        0.0     0.149333  0.888889 -0.400000\n",
      "7  0.000000       -1.0    -0.160000  0.111111 -0.400000\n",
      "8 -1.307692        0.5    -0.170667 -0.222222  0.600000\n",
      "9 -0.461538       -0.5     0.650667 -0.500000 -0.400000\n"
     ]
    }
   ],
   "source": [
    "scaler = RobustScaler()\n",
    "encoder_num = scaler.fit_transform(df_heart[numerical])\n",
    "encoded_num = pd.DataFrame(encoder_num, columns =['Age', 'RestingBP', 'Cholesterol', 'MaxHR', 'Oldpeak'])\n",
    "encoded_num.shape\n",
    "print(encoded_num.head(10))"
   ]
  },
  {
   "cell_type": "code",
   "execution_count": 7,
   "id": "037a6d1e",
   "metadata": {
    "execution": {
     "iopub.execute_input": "2023-03-09T18:22:51.285416Z",
     "iopub.status.busy": "2023-03-09T18:22:51.284823Z",
     "iopub.status.idle": "2023-03-09T18:22:51.297138Z",
     "shell.execute_reply": "2023-03-09T18:22:51.295785Z"
    },
    "papermill": {
     "duration": 0.048844,
     "end_time": "2023-03-09T18:22:51.300527",
     "exception": false,
     "start_time": "2023-03-09T18:22:51.251683",
     "status": "completed"
    },
    "tags": []
   },
   "outputs": [
    {
     "data": {
      "text/plain": [
       "1    508\n",
       "0    410\n",
       "Name: HeartDisease, dtype: int64"
      ]
     },
     "execution_count": 7,
     "metadata": {},
     "output_type": "execute_result"
    }
   ],
   "source": [
    "# First, we get the target label\n",
    "\n",
    "df_target = df_heart['HeartDisease']\n",
    "df_target.columns = ['target']\n",
    "df_target.value_counts()"
   ]
  },
  {
   "cell_type": "code",
   "execution_count": 8,
   "id": "9adaf31e",
   "metadata": {
    "execution": {
     "iopub.execute_input": "2023-03-09T18:22:51.365362Z",
     "iopub.status.busy": "2023-03-09T18:22:51.364398Z",
     "iopub.status.idle": "2023-03-09T18:22:51.435829Z",
     "shell.execute_reply": "2023-03-09T18:22:51.434497Z"
    },
    "papermill": {
     "duration": 0.107043,
     "end_time": "2023-03-09T18:22:51.438777",
     "exception": false,
     "start_time": "2023-03-09T18:22:51.331734",
     "status": "completed"
    },
    "tags": []
   },
   "outputs": [],
   "source": [
    "\n",
    "CATBoostENCODE = encoders.CatBoostEncoder()\n",
    "\n",
    "encoder_cat = CATBoostENCODE.fit_transform(df_heart[categorical], df_target)\n",
    "encoded_cat = pd.DataFrame(encoder_cat)\n"
   ]
  },
  {
   "cell_type": "code",
   "execution_count": 9,
   "id": "d48129e4",
   "metadata": {
    "execution": {
     "iopub.execute_input": "2023-03-09T18:22:51.503459Z",
     "iopub.status.busy": "2023-03-09T18:22:51.502815Z",
     "iopub.status.idle": "2023-03-09T18:22:51.535011Z",
     "shell.execute_reply": "2023-03-09T18:22:51.533766Z"
    },
    "papermill": {
     "duration": 0.068417,
     "end_time": "2023-03-09T18:22:51.537837",
     "exception": false,
     "start_time": "2023-03-09T18:22:51.469420",
     "status": "completed"
    },
    "tags": []
   },
   "outputs": [
    {
     "data": {
      "text/html": [
       "<div>\n",
       "<style scoped>\n",
       "    .dataframe tbody tr th:only-of-type {\n",
       "        vertical-align: middle;\n",
       "    }\n",
       "\n",
       "    .dataframe tbody tr th {\n",
       "        vertical-align: top;\n",
       "    }\n",
       "\n",
       "    .dataframe thead th {\n",
       "        text-align: right;\n",
       "    }\n",
       "</style>\n",
       "<table border=\"1\" class=\"dataframe\">\n",
       "  <thead>\n",
       "    <tr style=\"text-align: right;\">\n",
       "      <th></th>\n",
       "      <th>Sex</th>\n",
       "      <th>ChestPainType</th>\n",
       "      <th>RestingECG</th>\n",
       "      <th>ExerciseAngina</th>\n",
       "      <th>ST_Slope</th>\n",
       "      <th>FastingBS</th>\n",
       "    </tr>\n",
       "  </thead>\n",
       "  <tbody>\n",
       "    <tr>\n",
       "      <th>count</th>\n",
       "      <td>918.000000</td>\n",
       "      <td>918.000000</td>\n",
       "      <td>918.000000</td>\n",
       "      <td>918.000000</td>\n",
       "      <td>918.000000</td>\n",
       "      <td>918.000000</td>\n",
       "    </tr>\n",
       "    <tr>\n",
       "      <th>mean</th>\n",
       "      <td>0.494726</td>\n",
       "      <td>0.539156</td>\n",
       "      <td>0.490911</td>\n",
       "      <td>0.511991</td>\n",
       "      <td>0.529615</td>\n",
       "      <td>0.233115</td>\n",
       "    </tr>\n",
       "    <tr>\n",
       "      <th>std</th>\n",
       "      <td>0.164178</td>\n",
       "      <td>0.266597</td>\n",
       "      <td>0.104111</td>\n",
       "      <td>0.276616</td>\n",
       "      <td>0.378010</td>\n",
       "      <td>0.423046</td>\n",
       "    </tr>\n",
       "    <tr>\n",
       "      <th>min</th>\n",
       "      <td>0.092229</td>\n",
       "      <td>0.079198</td>\n",
       "      <td>0.221911</td>\n",
       "      <td>0.119491</td>\n",
       "      <td>0.003274</td>\n",
       "      <td>0.000000</td>\n",
       "    </tr>\n",
       "    <tr>\n",
       "      <th>25%</th>\n",
       "      <td>0.423444</td>\n",
       "      <td>0.284799</td>\n",
       "      <td>0.376379</td>\n",
       "      <td>0.262432</td>\n",
       "      <td>0.164025</td>\n",
       "      <td>0.000000</td>\n",
       "    </tr>\n",
       "    <tr>\n",
       "      <th>50%</th>\n",
       "      <td>0.534265</td>\n",
       "      <td>0.662145</td>\n",
       "      <td>0.527602</td>\n",
       "      <td>0.370408</td>\n",
       "      <td>0.802769</td>\n",
       "      <td>0.000000</td>\n",
       "    </tr>\n",
       "    <tr>\n",
       "      <th>75%</th>\n",
       "      <td>0.642816</td>\n",
       "      <td>0.792397</td>\n",
       "      <td>0.566703</td>\n",
       "      <td>0.845685</td>\n",
       "      <td>0.866773</td>\n",
       "      <td>0.000000</td>\n",
       "    </tr>\n",
       "    <tr>\n",
       "      <th>max</th>\n",
       "      <td>0.851126</td>\n",
       "      <td>0.925563</td>\n",
       "      <td>0.776688</td>\n",
       "      <td>0.925563</td>\n",
       "      <td>0.925563</td>\n",
       "      <td>1.000000</td>\n",
       "    </tr>\n",
       "  </tbody>\n",
       "</table>\n",
       "</div>"
      ],
      "text/plain": [
       "              Sex  ChestPainType  RestingECG  ExerciseAngina    ST_Slope  \\\n",
       "count  918.000000     918.000000  918.000000      918.000000  918.000000   \n",
       "mean     0.494726       0.539156    0.490911        0.511991    0.529615   \n",
       "std      0.164178       0.266597    0.104111        0.276616    0.378010   \n",
       "min      0.092229       0.079198    0.221911        0.119491    0.003274   \n",
       "25%      0.423444       0.284799    0.376379        0.262432    0.164025   \n",
       "50%      0.534265       0.662145    0.527602        0.370408    0.802769   \n",
       "75%      0.642816       0.792397    0.566703        0.845685    0.866773   \n",
       "max      0.851126       0.925563    0.776688        0.925563    0.925563   \n",
       "\n",
       "        FastingBS  \n",
       "count  918.000000  \n",
       "mean     0.233115  \n",
       "std      0.423046  \n",
       "min      0.000000  \n",
       "25%      0.000000  \n",
       "50%      0.000000  \n",
       "75%      0.000000  \n",
       "max      1.000000  "
      ]
     },
     "execution_count": 9,
     "metadata": {},
     "output_type": "execute_result"
    }
   ],
   "source": [
    "encoded_cat.describe()"
   ]
  },
  {
   "cell_type": "markdown",
   "id": "2de8eca5",
   "metadata": {
    "papermill": {
     "duration": 0.029952,
     "end_time": "2023-03-09T18:22:51.659902",
     "exception": false,
     "start_time": "2023-03-09T18:22:51.629950",
     "status": "completed"
    },
    "tags": []
   },
   "source": [
    "#### Model Preparation"
   ]
  },
  {
   "cell_type": "code",
   "execution_count": 10,
   "id": "86483db2",
   "metadata": {
    "execution": {
     "iopub.execute_input": "2023-03-09T18:22:51.782249Z",
     "iopub.status.busy": "2023-03-09T18:22:51.781773Z",
     "iopub.status.idle": "2023-03-09T18:22:51.797679Z",
     "shell.execute_reply": "2023-03-09T18:22:51.796189Z"
    },
    "papermill": {
     "duration": 0.050602,
     "end_time": "2023-03-09T18:22:51.800718",
     "exception": false,
     "start_time": "2023-03-09T18:22:51.750116",
     "status": "completed"
    },
    "tags": []
   },
   "outputs": [
    {
     "name": "stdout",
     "output_type": "stream",
     "text": [
      "<class 'pandas.core.frame.DataFrame'>\n",
      "RangeIndex: 918 entries, 0 to 917\n",
      "Data columns (total 12 columns):\n",
      " #   Column          Non-Null Count  Dtype  \n",
      "---  ------          --------------  -----  \n",
      " 0   Age             918 non-null    int64  \n",
      " 1   Sex             918 non-null    object \n",
      " 2   ChestPainType   918 non-null    object \n",
      " 3   RestingBP       918 non-null    int64  \n",
      " 4   Cholesterol     918 non-null    int64  \n",
      " 5   FastingBS       918 non-null    int64  \n",
      " 6   RestingECG      918 non-null    object \n",
      " 7   MaxHR           918 non-null    int64  \n",
      " 8   ExerciseAngina  918 non-null    object \n",
      " 9   Oldpeak         918 non-null    float64\n",
      " 10  ST_Slope        918 non-null    object \n",
      " 11  HeartDisease    918 non-null    int64  \n",
      "dtypes: float64(1), int64(6), object(5)\n",
      "memory usage: 86.2+ KB\n"
     ]
    }
   ],
   "source": [
    "# Prepare the training data set\n",
    "df_train = df_heart.copy()\n",
    "df_train.info()"
   ]
  },
  {
   "cell_type": "code",
   "execution_count": 11,
   "id": "d9eb0fed",
   "metadata": {
    "execution": {
     "iopub.execute_input": "2023-03-09T18:22:51.864763Z",
     "iopub.status.busy": "2023-03-09T18:22:51.864323Z",
     "iopub.status.idle": "2023-03-09T18:22:51.890211Z",
     "shell.execute_reply": "2023-03-09T18:22:51.888823Z"
    },
    "papermill": {
     "duration": 0.061752,
     "end_time": "2023-03-09T18:22:51.892942",
     "exception": false,
     "start_time": "2023-03-09T18:22:51.831190",
     "status": "completed"
    },
    "tags": []
   },
   "outputs": [
    {
     "data": {
      "text/html": [
       "<div>\n",
       "<style scoped>\n",
       "    .dataframe tbody tr th:only-of-type {\n",
       "        vertical-align: middle;\n",
       "    }\n",
       "\n",
       "    .dataframe tbody tr th {\n",
       "        vertical-align: top;\n",
       "    }\n",
       "\n",
       "    .dataframe thead th {\n",
       "        text-align: right;\n",
       "    }\n",
       "</style>\n",
       "<table border=\"1\" class=\"dataframe\">\n",
       "  <thead>\n",
       "    <tr style=\"text-align: right;\">\n",
       "      <th></th>\n",
       "      <th>HeartDisease</th>\n",
       "      <th>Age</th>\n",
       "      <th>RestingBP</th>\n",
       "      <th>Cholesterol</th>\n",
       "      <th>MaxHR</th>\n",
       "      <th>Oldpeak</th>\n",
       "      <th>Sex</th>\n",
       "      <th>ChestPainType</th>\n",
       "      <th>RestingECG</th>\n",
       "      <th>ExerciseAngina</th>\n",
       "      <th>ST_Slope</th>\n",
       "      <th>FastingBS</th>\n",
       "    </tr>\n",
       "  </thead>\n",
       "  <tbody>\n",
       "    <tr>\n",
       "      <th>0</th>\n",
       "      <td>0</td>\n",
       "      <td>-1.076923</td>\n",
       "      <td>0.5</td>\n",
       "      <td>0.704000</td>\n",
       "      <td>0.944444</td>\n",
       "      <td>-0.400000</td>\n",
       "      <td>0.553377</td>\n",
       "      <td>0.553377</td>\n",
       "      <td>0.553377</td>\n",
       "      <td>0.553377</td>\n",
       "      <td>0.553377</td>\n",
       "      <td>0</td>\n",
       "    </tr>\n",
       "    <tr>\n",
       "      <th>1</th>\n",
       "      <td>1</td>\n",
       "      <td>-0.384615</td>\n",
       "      <td>1.5</td>\n",
       "      <td>-0.458667</td>\n",
       "      <td>0.500000</td>\n",
       "      <td>0.266667</td>\n",
       "      <td>0.553377</td>\n",
       "      <td>0.553377</td>\n",
       "      <td>0.276688</td>\n",
       "      <td>0.276688</td>\n",
       "      <td>0.553377</td>\n",
       "      <td>0</td>\n",
       "    </tr>\n",
       "    <tr>\n",
       "      <th>2</th>\n",
       "      <td>0</td>\n",
       "      <td>-1.307692</td>\n",
       "      <td>0.0</td>\n",
       "      <td>0.640000</td>\n",
       "      <td>-1.111111</td>\n",
       "      <td>-0.400000</td>\n",
       "      <td>0.276688</td>\n",
       "      <td>0.276688</td>\n",
       "      <td>0.553377</td>\n",
       "      <td>0.517792</td>\n",
       "      <td>0.276688</td>\n",
       "      <td>0</td>\n",
       "    </tr>\n",
       "    <tr>\n",
       "      <th>3</th>\n",
       "      <td>1</td>\n",
       "      <td>-0.461538</td>\n",
       "      <td>0.4</td>\n",
       "      <td>-0.096000</td>\n",
       "      <td>-0.833333</td>\n",
       "      <td>0.600000</td>\n",
       "      <td>0.776688</td>\n",
       "      <td>0.553377</td>\n",
       "      <td>0.517792</td>\n",
       "      <td>0.553377</td>\n",
       "      <td>0.776688</td>\n",
       "      <td>0</td>\n",
       "    </tr>\n",
       "    <tr>\n",
       "      <th>4</th>\n",
       "      <td>0</td>\n",
       "      <td>0.000000</td>\n",
       "      <td>1.0</td>\n",
       "      <td>-0.298667</td>\n",
       "      <td>-0.444444</td>\n",
       "      <td>-0.400000</td>\n",
       "      <td>0.184459</td>\n",
       "      <td>0.776688</td>\n",
       "      <td>0.638344</td>\n",
       "      <td>0.388344</td>\n",
       "      <td>0.184459</td>\n",
       "      <td>0</td>\n",
       "    </tr>\n",
       "    <tr>\n",
       "      <th>5</th>\n",
       "      <td>0</td>\n",
       "      <td>-1.153846</td>\n",
       "      <td>-0.5</td>\n",
       "      <td>1.237333</td>\n",
       "      <td>0.888889</td>\n",
       "      <td>-0.400000</td>\n",
       "      <td>0.138344</td>\n",
       "      <td>0.517792</td>\n",
       "      <td>0.510675</td>\n",
       "      <td>0.310675</td>\n",
       "      <td>0.138344</td>\n",
       "      <td>0</td>\n",
       "    </tr>\n",
       "    <tr>\n",
       "      <th>6</th>\n",
       "      <td>0</td>\n",
       "      <td>-0.692308</td>\n",
       "      <td>0.0</td>\n",
       "      <td>0.149333</td>\n",
       "      <td>0.888889</td>\n",
       "      <td>-0.400000</td>\n",
       "      <td>0.851126</td>\n",
       "      <td>0.184459</td>\n",
       "      <td>0.425563</td>\n",
       "      <td>0.258896</td>\n",
       "      <td>0.110675</td>\n",
       "      <td>0</td>\n",
       "    </tr>\n",
       "    <tr>\n",
       "      <th>7</th>\n",
       "      <td>0</td>\n",
       "      <td>0.000000</td>\n",
       "      <td>-1.0</td>\n",
       "      <td>-0.160000</td>\n",
       "      <td>0.111111</td>\n",
       "      <td>-0.400000</td>\n",
       "      <td>0.110675</td>\n",
       "      <td>0.138344</td>\n",
       "      <td>0.364768</td>\n",
       "      <td>0.221911</td>\n",
       "      <td>0.092229</td>\n",
       "      <td>0</td>\n",
       "    </tr>\n",
       "    <tr>\n",
       "      <th>8</th>\n",
       "      <td>1</td>\n",
       "      <td>-1.307692</td>\n",
       "      <td>0.5</td>\n",
       "      <td>-0.170667</td>\n",
       "      <td>-0.222222</td>\n",
       "      <td>0.600000</td>\n",
       "      <td>0.092229</td>\n",
       "      <td>0.776688</td>\n",
       "      <td>0.319172</td>\n",
       "      <td>0.776688</td>\n",
       "      <td>0.851126</td>\n",
       "      <td>0</td>\n",
       "    </tr>\n",
       "    <tr>\n",
       "      <th>9</th>\n",
       "      <td>0</td>\n",
       "      <td>-0.461538</td>\n",
       "      <td>-0.5</td>\n",
       "      <td>0.650667</td>\n",
       "      <td>-0.500000</td>\n",
       "      <td>-0.400000</td>\n",
       "      <td>0.638344</td>\n",
       "      <td>0.110675</td>\n",
       "      <td>0.394820</td>\n",
       "      <td>0.194172</td>\n",
       "      <td>0.079054</td>\n",
       "      <td>0</td>\n",
       "    </tr>\n",
       "  </tbody>\n",
       "</table>\n",
       "</div>"
      ],
      "text/plain": [
       "   HeartDisease       Age  RestingBP  Cholesterol     MaxHR   Oldpeak  \\\n",
       "0             0 -1.076923        0.5     0.704000  0.944444 -0.400000   \n",
       "1             1 -0.384615        1.5    -0.458667  0.500000  0.266667   \n",
       "2             0 -1.307692        0.0     0.640000 -1.111111 -0.400000   \n",
       "3             1 -0.461538        0.4    -0.096000 -0.833333  0.600000   \n",
       "4             0  0.000000        1.0    -0.298667 -0.444444 -0.400000   \n",
       "5             0 -1.153846       -0.5     1.237333  0.888889 -0.400000   \n",
       "6             0 -0.692308        0.0     0.149333  0.888889 -0.400000   \n",
       "7             0  0.000000       -1.0    -0.160000  0.111111 -0.400000   \n",
       "8             1 -1.307692        0.5    -0.170667 -0.222222  0.600000   \n",
       "9             0 -0.461538       -0.5     0.650667 -0.500000 -0.400000   \n",
       "\n",
       "        Sex  ChestPainType  RestingECG  ExerciseAngina  ST_Slope  FastingBS  \n",
       "0  0.553377       0.553377    0.553377        0.553377  0.553377          0  \n",
       "1  0.553377       0.553377    0.276688        0.276688  0.553377          0  \n",
       "2  0.276688       0.276688    0.553377        0.517792  0.276688          0  \n",
       "3  0.776688       0.553377    0.517792        0.553377  0.776688          0  \n",
       "4  0.184459       0.776688    0.638344        0.388344  0.184459          0  \n",
       "5  0.138344       0.517792    0.510675        0.310675  0.138344          0  \n",
       "6  0.851126       0.184459    0.425563        0.258896  0.110675          0  \n",
       "7  0.110675       0.138344    0.364768        0.221911  0.092229          0  \n",
       "8  0.092229       0.776688    0.319172        0.776688  0.851126          0  \n",
       "9  0.638344       0.110675    0.394820        0.194172  0.079054          0  "
      ]
     },
     "execution_count": 11,
     "metadata": {},
     "output_type": "execute_result"
    }
   ],
   "source": [
    "df_train.drop(numerical, axis=1, inplace=True)\n",
    "df_train.drop(categorical, axis=1, inplace=True)\n",
    "df_train = pd.concat([df_train, encoded_num, encoded_cat], axis=1) \n",
    "df_train.head(10)"
   ]
  },
  {
   "cell_type": "code",
   "execution_count": 12,
   "id": "64599f69",
   "metadata": {
    "execution": {
     "iopub.execute_input": "2023-03-09T18:22:52.018710Z",
     "iopub.status.busy": "2023-03-09T18:22:52.017350Z",
     "iopub.status.idle": "2023-03-09T18:22:52.024520Z",
     "shell.execute_reply": "2023-03-09T18:22:52.023604Z"
    },
    "papermill": {
     "duration": 0.041813,
     "end_time": "2023-03-09T18:22:52.026890",
     "exception": false,
     "start_time": "2023-03-09T18:22:51.985077",
     "status": "completed"
    },
    "tags": []
   },
   "outputs": [],
   "source": [
    "y = df_train.iloc[:,0:1]\n",
    "X = df_train.iloc[:,1:]"
   ]
  },
  {
   "cell_type": "code",
   "execution_count": 13,
   "id": "e67472b6",
   "metadata": {
    "execution": {
     "iopub.execute_input": "2023-03-09T18:22:52.090351Z",
     "iopub.status.busy": "2023-03-09T18:22:52.089610Z",
     "iopub.status.idle": "2023-03-09T18:22:52.098309Z",
     "shell.execute_reply": "2023-03-09T18:22:52.097298Z"
    },
    "papermill": {
     "duration": 0.043585,
     "end_time": "2023-03-09T18:22:52.100989",
     "exception": false,
     "start_time": "2023-03-09T18:22:52.057404",
     "status": "completed"
    },
    "tags": []
   },
   "outputs": [],
   "source": [
    "X_train, X_test, y_train, y_test = model_selection.train_test_split(X, y, test_size=0.2)"
   ]
  },
  {
   "cell_type": "code",
   "execution_count": 14,
   "id": "35b21704",
   "metadata": {
    "execution": {
     "iopub.execute_input": "2023-03-09T18:22:52.226562Z",
     "iopub.status.busy": "2023-03-09T18:22:52.225681Z",
     "iopub.status.idle": "2023-03-09T18:22:52.240086Z",
     "shell.execute_reply": "2023-03-09T18:22:52.238748Z"
    },
    "papermill": {
     "duration": 0.04972,
     "end_time": "2023-03-09T18:22:52.242861",
     "exception": false,
     "start_time": "2023-03-09T18:22:52.193141",
     "status": "completed"
    },
    "tags": []
   },
   "outputs": [
    {
     "data": {
      "text/html": [
       "<div>\n",
       "<style scoped>\n",
       "    .dataframe tbody tr th:only-of-type {\n",
       "        vertical-align: middle;\n",
       "    }\n",
       "\n",
       "    .dataframe tbody tr th {\n",
       "        vertical-align: top;\n",
       "    }\n",
       "\n",
       "    .dataframe thead th {\n",
       "        text-align: right;\n",
       "    }\n",
       "</style>\n",
       "<table border=\"1\" class=\"dataframe\">\n",
       "  <thead>\n",
       "    <tr style=\"text-align: right;\">\n",
       "      <th></th>\n",
       "      <th>Model</th>\n",
       "      <th>Balanced Accuracy</th>\n",
       "      <th>Accuracy</th>\n",
       "      <th>Precision</th>\n",
       "      <th>F1</th>\n",
       "      <th>Recall</th>\n",
       "      <th>ROC AUC</th>\n",
       "    </tr>\n",
       "  </thead>\n",
       "  <tbody>\n",
       "  </tbody>\n",
       "</table>\n",
       "</div>"
      ],
      "text/plain": [
       "Empty DataFrame\n",
       "Columns: [Model, Balanced Accuracy, Accuracy, Precision, F1, Recall, ROC AUC]\n",
       "Index: []"
      ]
     },
     "execution_count": 14,
     "metadata": {},
     "output_type": "execute_result"
    }
   ],
   "source": [
    "df_performance = pd.DataFrame(columns=['Model', 'Balanced Accuracy', 'Accuracy', 'Precision', 'F1', 'Recall', 'ROC AUC'])\n",
    "df_performance"
   ]
  },
  {
   "cell_type": "code",
   "execution_count": 15,
   "id": "35852071",
   "metadata": {
    "_kg_hide-input": true,
    "execution": {
     "iopub.execute_input": "2023-03-09T18:22:52.369488Z",
     "iopub.status.busy": "2023-03-09T18:22:52.368564Z",
     "iopub.status.idle": "2023-03-09T18:22:52.393101Z",
     "shell.execute_reply": "2023-03-09T18:22:52.392014Z"
    },
    "papermill": {
     "duration": 0.061034,
     "end_time": "2023-03-09T18:22:52.396111",
     "exception": false,
     "start_time": "2023-03-09T18:22:52.335077",
     "status": "completed"
    },
    "tags": []
   },
   "outputs": [],
   "source": [
    "def model_performance (p_test, p_train, p_test_prob, p_train_prob, Y_test, y_train, model_name):\n",
    "    global df_performance\n",
    "    predicted_test = pd.DataFrame(p_test)\n",
    "    predicted_train = pd.DataFrame(p_train)\n",
    "    print('=============================================')\n",
    "    print('Scoring Metrics for {} (Validation)'.format(model_name))\n",
    "    print('=============================================')\n",
    "    print('Balanced Accuracy Score = {:2.3f}'.format(metrics.balanced_accuracy_score(Y_test, predicted_test)))\n",
    "    print('Accuracy Score = {:2.3f}'.format(metrics.accuracy_score(Y_test, predicted_test)))\n",
    "    print('Precision Score = {:2.3f}'.format(metrics.precision_score(Y_test, predicted_test)))\n",
    "    print('F1 Score = {:2.3f}'.format(metrics.f1_score(Y_test, predicted_test, labels=['0','1'])))\n",
    "    print('Recall Score = {:2.3f}'.format(metrics.recall_score(Y_test, predicted_test, labels=['0','1'])))\n",
    "    print('ROC AUC Score = {:2.3f}'.format(metrics.roc_auc_score(Y_test, predicted_test, labels=['0','1'])))\n",
    "    print('Confusion Matrix')\n",
    "    print('==================')\n",
    "    print(metrics.confusion_matrix(Y_test, predicted_test))\n",
    "    print('==================')\n",
    "    print(metrics.classification_report(Y_test, predicted_test, target_names=['0','1']))\n",
    "    metrics.ConfusionMatrixDisplay(metrics.confusion_matrix(Y_test, predicted_test)).plot()\n",
    "\n",
    "    df_performance = df_performance.append({'Model':model_name\n",
    "                                            , 'Balanced Accuracy': metrics.balanced_accuracy_score(Y_test, predicted_test)\n",
    "                                            , 'Accuracy' :metrics.accuracy_score(Y_test, predicted_test)\n",
    "                                            , 'Precision' :metrics.precision_score(Y_test, predicted_test)\n",
    "                                            , 'F1':metrics.f1_score(Y_test, predicted_test, labels=['0','1'])\n",
    "                                            , 'Recall': metrics.recall_score(Y_test, predicted_test, labels=['0','1'])\n",
    "                                            , 'ROC AUC': metrics.roc_auc_score(Y_test, predicted_test, labels=['0','1'])\n",
    "                                           }, ignore_index = True)\n",
    "\n",
    "    \n",
    "    fpr_test, tpr_test, _ = metrics.roc_curve(Y_test, p_test_prob)\n",
    "\n",
    "    roc_auc_test = metrics.roc_auc_score(Y_test, predicted_test, labels=['0','1'])\n",
    "\n",
    "    # Precision x Recall Curve\n",
    "    precision_test, recall_test, thresholds_test = metrics.precision_recall_curve(Y_test, p_test_prob)\n",
    "\n",
    "    print('=============================================')\n",
    "    print('Scoring Metrics for {} (Training)'.format(model_name))\n",
    "    print('=============================================')\n",
    "    print('Balanced Accuracy Score = {:2.3f}'.format(metrics.balanced_accuracy_score(y_train, predicted_train)))\n",
    "    print('Accuracy Score = {:2.3f}'.format(metrics.accuracy_score(y_train, predicted_train)))\n",
    "    print('Precision Score = {:2.3f}'.format(metrics.precision_score(y_train, predicted_train)))\n",
    "    print('F1 Score = {:2.3f}'.format(metrics.f1_score(y_train, predicted_train)))\n",
    "    print('Recall Score = {:2.3f}'.format(metrics.recall_score(y_train, predicted_train, labels=['0','1'])))\n",
    "    print('ROC AUC Score = {:2.3f}'.format(metrics.roc_auc_score(y_train, predicted_train, labels=['0','1'])))\n",
    "    print('Confusion Matrix')\n",
    "    print('==================')\n",
    "    print(metrics.confusion_matrix(y_train, predicted_train))\n",
    "    print('==================')\n",
    "    print(metrics.classification_report(y_train, predicted_train, target_names=['0','1']))\n",
    "    metrics.ConfusionMatrixDisplay(metrics.confusion_matrix(y_train, predicted_train)).plot()\n",
    "\n",
    "    fpr_train, tpr_train, _ = metrics.roc_curve(y_train, p_train_prob)\n",
    "\n",
    "    roc_auc_train = metrics.roc_auc_score(y_train, predicted_train, labels=['0','1'])\n",
    "\n",
    "    # Subplot of 1 x 2 matrix \n",
    "    print('======= ROC Curve and Precision x Recall Curve =======')\n",
    "    fig, ax = plt.subplots(1, 2, figsize=(16, 6))\n",
    "    ax[0].plot(fpr_test, tpr_test, color='darkorange', label='ROC curve - Validation (area = %0.3f)' % roc_auc_test)\n",
    "    ax[0].plot(fpr_train, tpr_train, color='darkblue', label='ROC curve - Training (area = %0.3f)' % roc_auc_train)\n",
    "    ax[0].plot([0, 1], [0, 1], color='navy', lw=2, linestyle='--')\n",
    "    # plt.xlim([0.0, 1.0])\n",
    "    # plt.ylim([0.0, 1.05])\n",
    "    ax[0].set_xlabel('False Positive Rate')\n",
    "    ax[0].set_ylabel('True Positive Rate')\n",
    "    ax[0].set_title('ROC Curve')\n",
    "    ax[0].legend(loc=\"lower right\")\n",
    "\n",
    "    # Precision x Recall Curve\n",
    "    precision_train, recall_train, thresholds_train = metrics.precision_recall_curve(y_train, p_train_prob)\n",
    "    ax[1].plot(recall_test, precision_test, color='darkorange')\n",
    "    ax[1].plot(recall_train, precision_train, color='darkblue')\n",
    "    ax[1].set_title('Precision-Recall Curve')\n",
    "    ax[1].set_ylabel('Precision')\n",
    "    ax[1].set_xlabel('Recall')\n",
    "\n",
    "    plt.show()"
   ]
  },
  {
   "cell_type": "markdown",
   "id": "6ab6ca19",
   "metadata": {
    "papermill": {
     "duration": 0.030895,
     "end_time": "2023-03-09T18:22:52.458982",
     "exception": false,
     "start_time": "2023-03-09T18:22:52.428087",
     "status": "completed"
    },
    "tags": []
   },
   "source": [
    "### Model 1 - Regression"
   ]
  },
  {
   "cell_type": "code",
   "execution_count": 19,
   "id": "5731bdaa",
   "metadata": {
    "execution": {
     "iopub.execute_input": "2023-03-09T18:22:52.522720Z",
     "iopub.status.busy": "2023-03-09T18:22:52.522224Z",
     "iopub.status.idle": "2023-03-09T18:22:52.527700Z",
     "shell.execute_reply": "2023-03-09T18:22:52.526429Z"
    },
    "papermill": {
     "duration": 0.040677,
     "end_time": "2023-03-09T18:22:52.530359",
     "exception": false,
     "start_time": "2023-03-09T18:22:52.489682",
     "status": "completed"
    },
    "tags": []
   },
   "outputs": [],
   "source": [
    "p_cv = 5\n",
    "p_score = 'accuracy'\n"
   ]
  },
  {
   "cell_type": "code",
   "execution_count": 20,
   "id": "c5e12b25",
   "metadata": {
    "execution": {
     "iopub.execute_input": "2023-03-09T18:22:52.596064Z",
     "iopub.status.busy": "2023-03-09T18:22:52.594634Z",
     "iopub.status.idle": "2023-03-09T18:22:52.601289Z",
     "shell.execute_reply": "2023-03-09T18:22:52.600310Z"
    },
    "papermill": {
     "duration": 0.042096,
     "end_time": "2023-03-09T18:22:52.603885",
     "exception": false,
     "start_time": "2023-03-09T18:22:52.561789",
     "status": "completed"
    },
    "tags": []
   },
   "outputs": [],
   "source": [
    "reg_param_grid = {\n",
    "    'penalty': ['l1', 'l2'],\n",
    "    'solver': ['newton-cg', 'lbfgs', 'liblinear', 'sag', 'saga']\n",
    "}"
   ]
  },
  {
   "cell_type": "code",
   "execution_count": 21,
   "id": "221c53cf",
   "metadata": {
    "execution": {
     "iopub.execute_input": "2023-03-09T18:22:52.668507Z",
     "iopub.status.busy": "2023-03-09T18:22:52.667220Z",
     "iopub.status.idle": "2023-03-09T18:22:52.673619Z",
     "shell.execute_reply": "2023-03-09T18:22:52.672248Z"
    },
    "papermill": {
     "duration": 0.041419,
     "end_time": "2023-03-09T18:22:52.676014",
     "exception": false,
     "start_time": "2023-03-09T18:22:52.634595",
     "status": "completed"
    },
    "tags": []
   },
   "outputs": [
    {
     "name": "stdout",
     "output_type": "stream",
     "text": [
      "Train X = (734, 11), Train Y =(734, 1)\n"
     ]
    }
   ],
   "source": [
    "print('Train X = {}, Train Y ={}'.format(X_train.shape, y_train.shape))"
   ]
  },
  {
   "cell_type": "code",
   "execution_count": 22,
   "id": "3aeaee38",
   "metadata": {
    "_kg_hide-output": true,
    "execution": {
     "iopub.execute_input": "2023-03-09T18:22:52.740497Z",
     "iopub.status.busy": "2023-03-09T18:22:52.740024Z",
     "iopub.status.idle": "2023-03-09T18:22:54.847618Z",
     "shell.execute_reply": "2023-03-09T18:22:54.846080Z"
    },
    "papermill": {
     "duration": 2.14298,
     "end_time": "2023-03-09T18:22:54.850198",
     "exception": false,
     "start_time": "2023-03-09T18:22:52.707218",
     "status": "completed"
    },
    "tags": []
   },
   "outputs": [
    {
     "name": "stdout",
     "output_type": "stream",
     "text": [
      "Fitting 5 folds for each of 10 candidates, totalling 50 fits\n"
     ]
    },
    {
     "name": "stderr",
     "output_type": "stream",
     "text": [
      "C:\\Users\\jinen\\AppData\\Local\\Programs\\Python\\Python310\\lib\\site-packages\\sklearn\\model_selection\\_validation.py:378: FitFailedWarning: \n",
      "15 fits failed out of a total of 50.\n",
      "The score on these train-test partitions for these parameters will be set to nan.\n",
      "If these failures are not expected, you can try to debug them by setting error_score='raise'.\n",
      "\n",
      "Below are more details about the failures:\n",
      "--------------------------------------------------------------------------------\n",
      "5 fits failed with the following error:\n",
      "Traceback (most recent call last):\n",
      "  File \"C:\\Users\\jinen\\AppData\\Local\\Programs\\Python\\Python310\\lib\\site-packages\\sklearn\\model_selection\\_validation.py\", line 686, in _fit_and_score\n",
      "    estimator.fit(X_train, y_train, **fit_params)\n",
      "  File \"C:\\Users\\jinen\\AppData\\Local\\Programs\\Python\\Python310\\lib\\site-packages\\sklearn\\linear_model\\_logistic.py\", line 1091, in fit\n",
      "    solver = _check_solver(self.solver, self.penalty, self.dual)\n",
      "  File \"C:\\Users\\jinen\\AppData\\Local\\Programs\\Python\\Python310\\lib\\site-packages\\sklearn\\linear_model\\_logistic.py\", line 61, in _check_solver\n",
      "    raise ValueError(\n",
      "ValueError: Solver newton-cg supports only 'l2' or 'none' penalties, got l1 penalty.\n",
      "\n",
      "--------------------------------------------------------------------------------\n",
      "5 fits failed with the following error:\n",
      "Traceback (most recent call last):\n",
      "  File \"C:\\Users\\jinen\\AppData\\Local\\Programs\\Python\\Python310\\lib\\site-packages\\sklearn\\model_selection\\_validation.py\", line 686, in _fit_and_score\n",
      "    estimator.fit(X_train, y_train, **fit_params)\n",
      "  File \"C:\\Users\\jinen\\AppData\\Local\\Programs\\Python\\Python310\\lib\\site-packages\\sklearn\\linear_model\\_logistic.py\", line 1091, in fit\n",
      "    solver = _check_solver(self.solver, self.penalty, self.dual)\n",
      "  File \"C:\\Users\\jinen\\AppData\\Local\\Programs\\Python\\Python310\\lib\\site-packages\\sklearn\\linear_model\\_logistic.py\", line 61, in _check_solver\n",
      "    raise ValueError(\n",
      "ValueError: Solver lbfgs supports only 'l2' or 'none' penalties, got l1 penalty.\n",
      "\n",
      "--------------------------------------------------------------------------------\n",
      "5 fits failed with the following error:\n",
      "Traceback (most recent call last):\n",
      "  File \"C:\\Users\\jinen\\AppData\\Local\\Programs\\Python\\Python310\\lib\\site-packages\\sklearn\\model_selection\\_validation.py\", line 686, in _fit_and_score\n",
      "    estimator.fit(X_train, y_train, **fit_params)\n",
      "  File \"C:\\Users\\jinen\\AppData\\Local\\Programs\\Python\\Python310\\lib\\site-packages\\sklearn\\linear_model\\_logistic.py\", line 1091, in fit\n",
      "    solver = _check_solver(self.solver, self.penalty, self.dual)\n",
      "  File \"C:\\Users\\jinen\\AppData\\Local\\Programs\\Python\\Python310\\lib\\site-packages\\sklearn\\linear_model\\_logistic.py\", line 61, in _check_solver\n",
      "    raise ValueError(\n",
      "ValueError: Solver sag supports only 'l2' or 'none' penalties, got l1 penalty.\n",
      "\n",
      "  warnings.warn(some_fits_failed_message, FitFailedWarning)\n",
      "C:\\Users\\jinen\\AppData\\Local\\Programs\\Python\\Python310\\lib\\site-packages\\sklearn\\model_selection\\_search.py:953: UserWarning: One or more of the test scores are non-finite: [       nan        nan 0.82694064        nan 0.83102227 0.82968037\n",
      " 0.82968037 0.83373404 0.82968037 0.82968037]\n",
      "  warnings.warn(\n"
     ]
    },
    {
     "data": {
      "text/html": [
       "<style>#sk-container-id-1 {color: black;background-color: white;}#sk-container-id-1 pre{padding: 0;}#sk-container-id-1 div.sk-toggleable {background-color: white;}#sk-container-id-1 label.sk-toggleable__label {cursor: pointer;display: block;width: 100%;margin-bottom: 0;padding: 0.3em;box-sizing: border-box;text-align: center;}#sk-container-id-1 label.sk-toggleable__label-arrow:before {content: \"▸\";float: left;margin-right: 0.25em;color: #696969;}#sk-container-id-1 label.sk-toggleable__label-arrow:hover:before {color: black;}#sk-container-id-1 div.sk-estimator:hover label.sk-toggleable__label-arrow:before {color: black;}#sk-container-id-1 div.sk-toggleable__content {max-height: 0;max-width: 0;overflow: hidden;text-align: left;background-color: #f0f8ff;}#sk-container-id-1 div.sk-toggleable__content pre {margin: 0.2em;color: black;border-radius: 0.25em;background-color: #f0f8ff;}#sk-container-id-1 input.sk-toggleable__control:checked~div.sk-toggleable__content {max-height: 200px;max-width: 100%;overflow: auto;}#sk-container-id-1 input.sk-toggleable__control:checked~label.sk-toggleable__label-arrow:before {content: \"▾\";}#sk-container-id-1 div.sk-estimator input.sk-toggleable__control:checked~label.sk-toggleable__label {background-color: #d4ebff;}#sk-container-id-1 div.sk-label input.sk-toggleable__control:checked~label.sk-toggleable__label {background-color: #d4ebff;}#sk-container-id-1 input.sk-hidden--visually {border: 0;clip: rect(1px 1px 1px 1px);clip: rect(1px, 1px, 1px, 1px);height: 1px;margin: -1px;overflow: hidden;padding: 0;position: absolute;width: 1px;}#sk-container-id-1 div.sk-estimator {font-family: monospace;background-color: #f0f8ff;border: 1px dotted black;border-radius: 0.25em;box-sizing: border-box;margin-bottom: 0.5em;}#sk-container-id-1 div.sk-estimator:hover {background-color: #d4ebff;}#sk-container-id-1 div.sk-parallel-item::after {content: \"\";width: 100%;border-bottom: 1px solid gray;flex-grow: 1;}#sk-container-id-1 div.sk-label:hover label.sk-toggleable__label {background-color: #d4ebff;}#sk-container-id-1 div.sk-serial::before {content: \"\";position: absolute;border-left: 1px solid gray;box-sizing: border-box;top: 0;bottom: 0;left: 50%;z-index: 0;}#sk-container-id-1 div.sk-serial {display: flex;flex-direction: column;align-items: center;background-color: white;padding-right: 0.2em;padding-left: 0.2em;position: relative;}#sk-container-id-1 div.sk-item {position: relative;z-index: 1;}#sk-container-id-1 div.sk-parallel {display: flex;align-items: stretch;justify-content: center;background-color: white;position: relative;}#sk-container-id-1 div.sk-item::before, #sk-container-id-1 div.sk-parallel-item::before {content: \"\";position: absolute;border-left: 1px solid gray;box-sizing: border-box;top: 0;bottom: 0;left: 50%;z-index: -1;}#sk-container-id-1 div.sk-parallel-item {display: flex;flex-direction: column;z-index: 1;position: relative;background-color: white;}#sk-container-id-1 div.sk-parallel-item:first-child::after {align-self: flex-end;width: 50%;}#sk-container-id-1 div.sk-parallel-item:last-child::after {align-self: flex-start;width: 50%;}#sk-container-id-1 div.sk-parallel-item:only-child::after {width: 0;}#sk-container-id-1 div.sk-dashed-wrapped {border: 1px dashed gray;margin: 0 0.4em 0.5em 0.4em;box-sizing: border-box;padding-bottom: 0.4em;background-color: white;}#sk-container-id-1 div.sk-label label {font-family: monospace;font-weight: bold;display: inline-block;line-height: 1.2em;}#sk-container-id-1 div.sk-label-container {text-align: center;}#sk-container-id-1 div.sk-container {/* jupyter's `normalize.less` sets `[hidden] { display: none; }` but bootstrap.min.css set `[hidden] { display: none !important; }` so we also need the `!important` here to be able to override the default hidden behavior on the sphinx rendered scikit-learn.org. See: https://github.com/scikit-learn/scikit-learn/issues/21755 */display: inline-block !important;position: relative;}#sk-container-id-1 div.sk-text-repr-fallback {display: none;}</style><div id=\"sk-container-id-1\" class=\"sk-top-container\"><div class=\"sk-text-repr-fallback\"><pre>GridSearchCV(cv=StratifiedKFold(n_splits=5, random_state=100, shuffle=True),\n",
       "             estimator=LogisticRegression(C=0.1, max_iter=10000), n_jobs=-1,\n",
       "             param_grid={&#x27;penalty&#x27;: [&#x27;l1&#x27;, &#x27;l2&#x27;],\n",
       "                         &#x27;solver&#x27;: [&#x27;newton-cg&#x27;, &#x27;lbfgs&#x27;, &#x27;liblinear&#x27;, &#x27;sag&#x27;,\n",
       "                                    &#x27;saga&#x27;]},\n",
       "             scoring=&#x27;accuracy&#x27;, verbose=1)</pre><b>In a Jupyter environment, please rerun this cell to show the HTML representation or trust the notebook. <br />On GitHub, the HTML representation is unable to render, please try loading this page with nbviewer.org.</b></div><div class=\"sk-container\" hidden><div class=\"sk-item sk-dashed-wrapped\"><div class=\"sk-label-container\"><div class=\"sk-label sk-toggleable\"><input class=\"sk-toggleable__control sk-hidden--visually\" id=\"sk-estimator-id-1\" type=\"checkbox\" ><label for=\"sk-estimator-id-1\" class=\"sk-toggleable__label sk-toggleable__label-arrow\">GridSearchCV</label><div class=\"sk-toggleable__content\"><pre>GridSearchCV(cv=StratifiedKFold(n_splits=5, random_state=100, shuffle=True),\n",
       "             estimator=LogisticRegression(C=0.1, max_iter=10000), n_jobs=-1,\n",
       "             param_grid={&#x27;penalty&#x27;: [&#x27;l1&#x27;, &#x27;l2&#x27;],\n",
       "                         &#x27;solver&#x27;: [&#x27;newton-cg&#x27;, &#x27;lbfgs&#x27;, &#x27;liblinear&#x27;, &#x27;sag&#x27;,\n",
       "                                    &#x27;saga&#x27;]},\n",
       "             scoring=&#x27;accuracy&#x27;, verbose=1)</pre></div></div></div><div class=\"sk-parallel\"><div class=\"sk-parallel-item\"><div class=\"sk-item\"><div class=\"sk-label-container\"><div class=\"sk-label sk-toggleable\"><input class=\"sk-toggleable__control sk-hidden--visually\" id=\"sk-estimator-id-2\" type=\"checkbox\" ><label for=\"sk-estimator-id-2\" class=\"sk-toggleable__label sk-toggleable__label-arrow\">estimator: LogisticRegression</label><div class=\"sk-toggleable__content\"><pre>LogisticRegression(C=0.1, max_iter=10000)</pre></div></div></div><div class=\"sk-serial\"><div class=\"sk-item\"><div class=\"sk-estimator sk-toggleable\"><input class=\"sk-toggleable__control sk-hidden--visually\" id=\"sk-estimator-id-3\" type=\"checkbox\" ><label for=\"sk-estimator-id-3\" class=\"sk-toggleable__label sk-toggleable__label-arrow\">LogisticRegression</label><div class=\"sk-toggleable__content\"><pre>LogisticRegression(C=0.1, max_iter=10000)</pre></div></div></div></div></div></div></div></div></div></div>"
      ],
      "text/plain": [
       "GridSearchCV(cv=StratifiedKFold(n_splits=5, random_state=100, shuffle=True),\n",
       "             estimator=LogisticRegression(C=0.1, max_iter=10000), n_jobs=-1,\n",
       "             param_grid={'penalty': ['l1', 'l2'],\n",
       "                         'solver': ['newton-cg', 'lbfgs', 'liblinear', 'sag',\n",
       "                                    'saga']},\n",
       "             scoring='accuracy', verbose=1)"
      ]
     },
     "execution_count": 22,
     "metadata": {},
     "output_type": "execute_result"
    }
   ],
   "source": [
    "# clf_1 = LogisticRegression(max_iter=10000, class_weight='balanced', penalty='l2', C=1.0, solver='lbfgs')\n",
    "clf_1 = LogisticRegression(max_iter=10000, C=0.1)\n",
    "cv = model_selection.StratifiedKFold(n_splits=p_cv, random_state=100, shuffle=True)\n",
    "model_1 = model_selection.GridSearchCV(clf_1, reg_param_grid, cv=cv, scoring=p_score, n_jobs=-1, verbose=1)\n",
    "model_1.fit(X_train, y_train.values.ravel())\n"
   ]
  },
  {
   "cell_type": "code",
   "execution_count": 23,
   "id": "3db42030",
   "metadata": {
    "execution": {
     "iopub.execute_input": "2023-03-09T18:22:54.923892Z",
     "iopub.status.busy": "2023-03-09T18:22:54.922654Z",
     "iopub.status.idle": "2023-03-09T18:22:54.931914Z",
     "shell.execute_reply": "2023-03-09T18:22:54.929848Z"
    },
    "papermill": {
     "duration": 0.052784,
     "end_time": "2023-03-09T18:22:54.934579",
     "exception": false,
     "start_time": "2023-03-09T18:22:54.881795",
     "status": "completed"
    },
    "tags": []
   },
   "outputs": [
    {
     "name": "stdout",
     "output_type": "stream",
     "text": [
      "LogisticRegression(C=0.1, max_iter=10000, solver='liblinear')\n",
      "{'penalty': 'l2', 'solver': 'liblinear'}\n"
     ]
    }
   ],
   "source": [
    "print(model_1.best_estimator_)\n",
    "print(model_1.best_params_)"
   ]
  },
  {
   "cell_type": "code",
   "execution_count": 24,
   "id": "5ecc3a20",
   "metadata": {
    "execution": {
     "iopub.execute_input": "2023-03-09T18:22:55.000758Z",
     "iopub.status.busy": "2023-03-09T18:22:55.000320Z",
     "iopub.status.idle": "2023-03-09T18:22:55.015256Z",
     "shell.execute_reply": "2023-03-09T18:22:55.013895Z"
    },
    "papermill": {
     "duration": 0.050963,
     "end_time": "2023-03-09T18:22:55.018143",
     "exception": false,
     "start_time": "2023-03-09T18:22:54.967180",
     "status": "completed"
    },
    "tags": []
   },
   "outputs": [],
   "source": [
    "p_train_1 = model_1.predict(X_train)\n",
    "p_test_1 = model_1.predict(X_test)\n",
    "p_train_proba_1 = model_1.predict_proba(X_train)[:,1]\n",
    "p_test_proba_1 = model_1.predict_proba(X_test)[:,1]"
   ]
  },
  {
   "cell_type": "code",
   "execution_count": 25,
   "id": "eea77063",
   "metadata": {
    "execution": {
     "iopub.execute_input": "2023-03-09T18:22:55.084690Z",
     "iopub.status.busy": "2023-03-09T18:22:55.083423Z",
     "iopub.status.idle": "2023-03-09T18:22:56.362365Z",
     "shell.execute_reply": "2023-03-09T18:22:56.361050Z"
    },
    "papermill": {
     "duration": 1.315194,
     "end_time": "2023-03-09T18:22:56.365140",
     "exception": false,
     "start_time": "2023-03-09T18:22:55.049946",
     "status": "completed"
    },
    "tags": []
   },
   "outputs": [
    {
     "name": "stdout",
     "output_type": "stream",
     "text": [
      "=============================================\n",
      "Scoring Metrics for Logistic Regression (Validation)\n",
      "=============================================\n",
      "Balanced Accuracy Score = 0.869\n",
      "Accuracy Score = 0.875\n",
      "Precision Score = 0.881\n",
      "F1 Score = 0.893\n",
      "Recall Score = 0.906\n",
      "ROC AUC Score = 0.869\n",
      "Confusion Matrix\n",
      "==================\n",
      "[[65 13]\n",
      " [10 96]]\n",
      "==================\n",
      "              precision    recall  f1-score   support\n",
      "\n",
      "           0       0.87      0.83      0.85        78\n",
      "           1       0.88      0.91      0.89       106\n",
      "\n",
      "    accuracy                           0.88       184\n",
      "   macro avg       0.87      0.87      0.87       184\n",
      "weighted avg       0.87      0.88      0.87       184\n",
      "\n"
     ]
    },
    {
     "name": "stderr",
     "output_type": "stream",
     "text": [
      "C:\\Users\\jinen\\AppData\\Local\\Temp\\ipykernel_2448\\4262248699.py:21: FutureWarning: The frame.append method is deprecated and will be removed from pandas in a future version. Use pandas.concat instead.\n",
      "  df_performance = df_performance.append({'Model':model_name\n"
     ]
    },
    {
     "name": "stdout",
     "output_type": "stream",
     "text": [
      "=============================================\n",
      "Scoring Metrics for Logistic Regression (Training)\n",
      "=============================================\n",
      "Balanced Accuracy Score = 0.832\n",
      "Accuracy Score = 0.837\n",
      "Precision Score = 0.829\n",
      "F1 Score = 0.855\n",
      "Recall Score = 0.883\n",
      "ROC AUC Score = 0.832\n",
      "Confusion Matrix\n",
      "==================\n",
      "[[259  73]\n",
      " [ 47 355]]\n",
      "==================\n",
      "              precision    recall  f1-score   support\n",
      "\n",
      "           0       0.85      0.78      0.81       332\n",
      "           1       0.83      0.88      0.86       402\n",
      "\n",
      "    accuracy                           0.84       734\n",
      "   macro avg       0.84      0.83      0.83       734\n",
      "weighted avg       0.84      0.84      0.84       734\n",
      "\n",
      "======= ROC Curve and Precision x Recall Curve =======\n"
     ]
    },
    {
     "data": {
      "image/png": "[encoded data removed]",
      "text/plain": [
       "<Figure size 432x288 with 2 Axes>"
      ]
     },
     "metadata": {
      "needs_background": "light"
     },
     "output_type": "display_data"
    },
    {
     "data": {
      "image/png": "[encoded data removed]",
      "text/plain": [
       "<Figure size 432x288 with 2 Axes>"
      ]
     },
     "metadata": {
      "needs_background": "light"
     },
     "output_type": "display_data"
    },
    {
     "data": {
      "image/png": "[encoded data removed]",
      "text/plain": [
       "<Figure size 1152x432 with 2 Axes>"
      ]
     },
     "metadata": {
      "needs_background": "light"
     },
     "output_type": "display_data"
    }
   ],
   "source": [
    "model_performance(p_test_1, p_train_1, p_test_proba_1, p_train_proba_1, y_test, y_train, 'Logistic Regression')"
   ]
  },
  {
   "cell_type": "markdown",
   "id": "f1a53123",
   "metadata": {
    "execution": {
     "iopub.execute_input": "2021-09-30T16:09:59.853616Z",
     "iopub.status.busy": "2021-09-30T16:09:59.853309Z",
     "iopub.status.idle": "2021-09-30T16:09:59.858263Z",
     "shell.execute_reply": "2021-09-30T16:09:59.857157Z",
     "shell.execute_reply.started": "2021-09-30T16:09:59.853585Z"
    },
    "papermill": {
     "duration": 0.033123,
     "end_time": "2023-03-09T18:22:56.432847",
     "exception": false,
     "start_time": "2023-03-09T18:22:56.399724",
     "status": "completed"
    },
    "tags": []
   },
   "source": [
    "#### Model 2 - Decision Tree"
   ]
  },
  {
   "cell_type": "code",
   "execution_count": 26,
   "id": "55f9b1c7",
   "metadata": {
    "execution": {
     "iopub.execute_input": "2023-03-09T18:22:56.502526Z",
     "iopub.status.busy": "2023-03-09T18:22:56.501633Z",
     "iopub.status.idle": "2023-03-09T18:22:56.507461Z",
     "shell.execute_reply": "2023-03-09T18:22:56.506507Z"
    },
    "papermill": {
     "duration": 0.043201,
     "end_time": "2023-03-09T18:22:56.509851",
     "exception": false,
     "start_time": "2023-03-09T18:22:56.466650",
     "status": "completed"
    },
    "tags": []
   },
   "outputs": [],
   "source": [
    "estimators = [25,50,75,100]\n",
    "max_depth = [5]\n",
    "min_samples_split = [20, 50, 75, 100, 150, 200]\n",
    "min_samples_leaf = [25, 50, 75, 100, 150, 200]"
   ]
  },
  {
   "cell_type": "code",
   "execution_count": 27,
   "id": "c109c023",
   "metadata": {
    "_kg_hide-output": true,
    "execution": {
     "iopub.execute_input": "2023-03-09T18:22:56.579109Z",
     "iopub.status.busy": "2023-03-09T18:22:56.578258Z",
     "iopub.status.idle": "2023-03-09T18:22:57.549724Z",
     "shell.execute_reply": "2023-03-09T18:22:57.548426Z"
    },
    "papermill": {
     "duration": 1.00925,
     "end_time": "2023-03-09T18:22:57.552493",
     "exception": false,
     "start_time": "2023-03-09T18:22:56.543243",
     "status": "completed"
    },
    "tags": []
   },
   "outputs": [
    {
     "name": "stdout",
     "output_type": "stream",
     "text": [
      "Fitting 5 folds for each of 36 candidates, totalling 180 fits\n"
     ]
    },
    {
     "data": {
      "text/html": [
       "<style>#sk-container-id-2 {color: black;background-color: white;}#sk-container-id-2 pre{padding: 0;}#sk-container-id-2 div.sk-toggleable {background-color: white;}#sk-container-id-2 label.sk-toggleable__label {cursor: pointer;display: block;width: 100%;margin-bottom: 0;padding: 0.3em;box-sizing: border-box;text-align: center;}#sk-container-id-2 label.sk-toggleable__label-arrow:before {content: \"▸\";float: left;margin-right: 0.25em;color: #696969;}#sk-container-id-2 label.sk-toggleable__label-arrow:hover:before {color: black;}#sk-container-id-2 div.sk-estimator:hover label.sk-toggleable__label-arrow:before {color: black;}#sk-container-id-2 div.sk-toggleable__content {max-height: 0;max-width: 0;overflow: hidden;text-align: left;background-color: #f0f8ff;}#sk-container-id-2 div.sk-toggleable__content pre {margin: 0.2em;color: black;border-radius: 0.25em;background-color: #f0f8ff;}#sk-container-id-2 input.sk-toggleable__control:checked~div.sk-toggleable__content {max-height: 200px;max-width: 100%;overflow: auto;}#sk-container-id-2 input.sk-toggleable__control:checked~label.sk-toggleable__label-arrow:before {content: \"▾\";}#sk-container-id-2 div.sk-estimator input.sk-toggleable__control:checked~label.sk-toggleable__label {background-color: #d4ebff;}#sk-container-id-2 div.sk-label input.sk-toggleable__control:checked~label.sk-toggleable__label {background-color: #d4ebff;}#sk-container-id-2 input.sk-hidden--visually {border: 0;clip: rect(1px 1px 1px 1px);clip: rect(1px, 1px, 1px, 1px);height: 1px;margin: -1px;overflow: hidden;padding: 0;position: absolute;width: 1px;}#sk-container-id-2 div.sk-estimator {font-family: monospace;background-color: #f0f8ff;border: 1px dotted black;border-radius: 0.25em;box-sizing: border-box;margin-bottom: 0.5em;}#sk-container-id-2 div.sk-estimator:hover {background-color: #d4ebff;}#sk-container-id-2 div.sk-parallel-item::after {content: \"\";width: 100%;border-bottom: 1px solid gray;flex-grow: 1;}#sk-container-id-2 div.sk-label:hover label.sk-toggleable__label {background-color: #d4ebff;}#sk-container-id-2 div.sk-serial::before {content: \"\";position: absolute;border-left: 1px solid gray;box-sizing: border-box;top: 0;bottom: 0;left: 50%;z-index: 0;}#sk-container-id-2 div.sk-serial {display: flex;flex-direction: column;align-items: center;background-color: white;padding-right: 0.2em;padding-left: 0.2em;position: relative;}#sk-container-id-2 div.sk-item {position: relative;z-index: 1;}#sk-container-id-2 div.sk-parallel {display: flex;align-items: stretch;justify-content: center;background-color: white;position: relative;}#sk-container-id-2 div.sk-item::before, #sk-container-id-2 div.sk-parallel-item::before {content: \"\";position: absolute;border-left: 1px solid gray;box-sizing: border-box;top: 0;bottom: 0;left: 50%;z-index: -1;}#sk-container-id-2 div.sk-parallel-item {display: flex;flex-direction: column;z-index: 1;position: relative;background-color: white;}#sk-container-id-2 div.sk-parallel-item:first-child::after {align-self: flex-end;width: 50%;}#sk-container-id-2 div.sk-parallel-item:last-child::after {align-self: flex-start;width: 50%;}#sk-container-id-2 div.sk-parallel-item:only-child::after {width: 0;}#sk-container-id-2 div.sk-dashed-wrapped {border: 1px dashed gray;margin: 0 0.4em 0.5em 0.4em;box-sizing: border-box;padding-bottom: 0.4em;background-color: white;}#sk-container-id-2 div.sk-label label {font-family: monospace;font-weight: bold;display: inline-block;line-height: 1.2em;}#sk-container-id-2 div.sk-label-container {text-align: center;}#sk-container-id-2 div.sk-container {/* jupyter's `normalize.less` sets `[hidden] { display: none; }` but bootstrap.min.css set `[hidden] { display: none !important; }` so we also need the `!important` here to be able to override the default hidden behavior on the sphinx rendered scikit-learn.org. See: https://github.com/scikit-learn/scikit-learn/issues/21755 */display: inline-block !important;position: relative;}#sk-container-id-2 div.sk-text-repr-fallback {display: none;}</style><div id=\"sk-container-id-2\" class=\"sk-top-container\"><div class=\"sk-text-repr-fallback\"><pre>GridSearchCV(cv=StratifiedKFold(n_splits=5, random_state=100, shuffle=True),\n",
       "             estimator=DecisionTreeClassifier(), n_jobs=-1,\n",
       "             param_grid={&#x27;max_depth&#x27;: [5],\n",
       "                         &#x27;min_samples_leaf&#x27;: [25, 50, 75, 100, 150, 200],\n",
       "                         &#x27;min_samples_split&#x27;: [20, 50, 75, 100, 150, 200]},\n",
       "             scoring=&#x27;accuracy&#x27;, verbose=1)</pre><b>In a Jupyter environment, please rerun this cell to show the HTML representation or trust the notebook. <br />On GitHub, the HTML representation is unable to render, please try loading this page with nbviewer.org.</b></div><div class=\"sk-container\" hidden><div class=\"sk-item sk-dashed-wrapped\"><div class=\"sk-label-container\"><div class=\"sk-label sk-toggleable\"><input class=\"sk-toggleable__control sk-hidden--visually\" id=\"sk-estimator-id-4\" type=\"checkbox\" ><label for=\"sk-estimator-id-4\" class=\"sk-toggleable__label sk-toggleable__label-arrow\">GridSearchCV</label><div class=\"sk-toggleable__content\"><pre>GridSearchCV(cv=StratifiedKFold(n_splits=5, random_state=100, shuffle=True),\n",
       "             estimator=DecisionTreeClassifier(), n_jobs=-1,\n",
       "             param_grid={&#x27;max_depth&#x27;: [5],\n",
       "                         &#x27;min_samples_leaf&#x27;: [25, 50, 75, 100, 150, 200],\n",
       "                         &#x27;min_samples_split&#x27;: [20, 50, 75, 100, 150, 200]},\n",
       "             scoring=&#x27;accuracy&#x27;, verbose=1)</pre></div></div></div><div class=\"sk-parallel\"><div class=\"sk-parallel-item\"><div class=\"sk-item\"><div class=\"sk-label-container\"><div class=\"sk-label sk-toggleable\"><input class=\"sk-toggleable__control sk-hidden--visually\" id=\"sk-estimator-id-5\" type=\"checkbox\" ><label for=\"sk-estimator-id-5\" class=\"sk-toggleable__label sk-toggleable__label-arrow\">estimator: DecisionTreeClassifier</label><div class=\"sk-toggleable__content\"><pre>DecisionTreeClassifier()</pre></div></div></div><div class=\"sk-serial\"><div class=\"sk-item\"><div class=\"sk-estimator sk-toggleable\"><input class=\"sk-toggleable__control sk-hidden--visually\" id=\"sk-estimator-id-6\" type=\"checkbox\" ><label for=\"sk-estimator-id-6\" class=\"sk-toggleable__label sk-toggleable__label-arrow\">DecisionTreeClassifier</label><div class=\"sk-toggleable__content\"><pre>DecisionTreeClassifier()</pre></div></div></div></div></div></div></div></div></div></div>"
      ],
      "text/plain": [
       "GridSearchCV(cv=StratifiedKFold(n_splits=5, random_state=100, shuffle=True),\n",
       "             estimator=DecisionTreeClassifier(), n_jobs=-1,\n",
       "             param_grid={'max_depth': [5],\n",
       "                         'min_samples_leaf': [25, 50, 75, 100, 150, 200],\n",
       "                         'min_samples_split': [20, 50, 75, 100, 150, 200]},\n",
       "             scoring='accuracy', verbose=1)"
      ]
     },
     "execution_count": 27,
     "metadata": {},
     "output_type": "execute_result"
    }
   ],
   "source": [
    "clf_2 = DecisionTreeClassifier()\n",
    "\n",
    "tree_param_grid = { \n",
    "    'max_depth': max_depth,\n",
    "    'min_samples_split': min_samples_split,\n",
    "    'min_samples_leaf': min_samples_leaf\n",
    "}\n",
    "\n",
    "cv = model_selection.StratifiedKFold(n_splits=p_cv, random_state=100, shuffle=True)\n",
    "\n",
    "model_2 = model_selection.GridSearchCV(clf_2, tree_param_grid, cv=cv, scoring=p_score, n_jobs=-1, verbose=1)\n",
    "model_2.fit(X_train, y_train)\n"
   ]
  },
  {
   "cell_type": "code",
   "execution_count": 28,
   "id": "36dd9027",
   "metadata": {
    "execution": {
     "iopub.execute_input": "2023-03-09T18:22:57.625383Z",
     "iopub.status.busy": "2023-03-09T18:22:57.624482Z",
     "iopub.status.idle": "2023-03-09T18:22:57.630976Z",
     "shell.execute_reply": "2023-03-09T18:22:57.629623Z"
    },
    "papermill": {
     "duration": 0.044315,
     "end_time": "2023-03-09T18:22:57.633729",
     "exception": false,
     "start_time": "2023-03-09T18:22:57.589414",
     "status": "completed"
    },
    "tags": []
   },
   "outputs": [
    {
     "name": "stdout",
     "output_type": "stream",
     "text": [
      "DecisionTreeClassifier(max_depth=5, min_samples_leaf=25, min_samples_split=20)\n",
      "{'max_depth': 5, 'min_samples_leaf': 25, 'min_samples_split': 20}\n"
     ]
    }
   ],
   "source": [
    "print(model_2.best_estimator_)\n",
    "print(model_2.best_params_)"
   ]
  },
  {
   "cell_type": "code",
   "execution_count": 29,
   "id": "1c867f52",
   "metadata": {
    "execution": {
     "iopub.execute_input": "2023-03-09T18:22:57.704061Z",
     "iopub.status.busy": "2023-03-09T18:22:57.702863Z",
     "iopub.status.idle": "2023-03-09T18:22:57.717733Z",
     "shell.execute_reply": "2023-03-09T18:22:57.716225Z"
    },
    "papermill": {
     "duration": 0.052825,
     "end_time": "2023-03-09T18:22:57.720649",
     "exception": false,
     "start_time": "2023-03-09T18:22:57.667824",
     "status": "completed"
    },
    "tags": []
   },
   "outputs": [],
   "source": [
    "p_train_2 = model_2.predict(X_train)\n",
    "p_test_2 = model_2.predict(X_test)\n",
    "p_train_proba_2 = model_1.predict_proba(X_train)[:,1]\n",
    "p_test_proba_2 = model_1.predict_proba(X_test)[:,1]"
   ]
  },
  {
   "cell_type": "code",
   "execution_count": 30,
   "id": "cb23f359",
   "metadata": {
    "execution": {
     "iopub.execute_input": "2023-03-09T18:22:57.790383Z",
     "iopub.status.busy": "2023-03-09T18:22:57.789916Z",
     "iopub.status.idle": "2023-03-09T18:22:58.777643Z",
     "shell.execute_reply": "2023-03-09T18:22:58.776670Z"
    },
    "papermill": {
     "duration": 1.025603,
     "end_time": "2023-03-09T18:22:58.780004",
     "exception": false,
     "start_time": "2023-03-09T18:22:57.754401",
     "status": "completed"
    },
    "tags": []
   },
   "outputs": [
    {
     "name": "stdout",
     "output_type": "stream",
     "text": [
      "=============================================\n",
      "Scoring Metrics for Decision Tree (Validation)\n",
      "=============================================\n",
      "Balanced Accuracy Score = 0.846\n",
      "Accuracy Score = 0.848\n",
      "Precision Score = 0.875\n",
      "F1 Score = 0.867\n",
      "Recall Score = 0.858\n",
      "ROC AUC Score = 0.846\n",
      "Confusion Matrix\n",
      "==================\n",
      "[[65 13]\n",
      " [15 91]]\n",
      "==================\n",
      "              precision    recall  f1-score   support\n",
      "\n",
      "           0       0.81      0.83      0.82        78\n",
      "           1       0.88      0.86      0.87       106\n",
      "\n",
      "    accuracy                           0.85       184\n",
      "   macro avg       0.84      0.85      0.84       184\n",
      "weighted avg       0.85      0.85      0.85       184\n",
      "\n",
      "=============================================\n",
      "Scoring Metrics for Decision Tree (Training)\n",
      "=============================================\n",
      "Balanced Accuracy Score = 0.870\n",
      "Accuracy Score = 0.875\n",
      "Precision Score = 0.860\n",
      "F1 Score = 0.889\n",
      "Recall Score = 0.920\n",
      "ROC AUC Score = 0.870\n",
      "Confusion Matrix\n",
      "==================\n",
      "[[272  60]\n",
      " [ 32 370]]\n",
      "==================\n",
      "              precision    recall  f1-score   support\n",
      "\n",
      "           0       0.89      0.82      0.86       332\n",
      "           1       0.86      0.92      0.89       402\n",
      "\n",
      "    accuracy                           0.87       734\n",
      "   macro avg       0.88      0.87      0.87       734\n",
      "weighted avg       0.88      0.87      0.87       734\n",
      "\n",
      "======= ROC Curve and Precision x Recall Curve =======\n"
     ]
    },
    {
     "name": "stderr",
     "output_type": "stream",
     "text": [
      "C:\\Users\\jinen\\AppData\\Local\\Temp\\ipykernel_2448\\4262248699.py:21: FutureWarning: The frame.append method is deprecated and will be removed from pandas in a future version. Use pandas.concat instead.\n",
      "  df_performance = df_performance.append({'Model':model_name\n"
     ]
    },
    {
     "data": {
      "image/png": "[encoded data removed]",
      "text/plain": [
       "<Figure size 432x288 with 2 Axes>"
      ]
     },
     "metadata": {
      "needs_background": "light"
     },
     "output_type": "display_data"
    },
    {
     "data": {
      "image/png": "[encoded data removed]",
      "text/plain": [
       "<Figure size 432x288 with 2 Axes>"
      ]
     },
     "metadata": {
      "needs_background": "light"
     },
     "output_type": "display_data"
    },
    {
     "data": {
      "image/png": "[encoded data removed]",
      "text/plain": [
       "<Figure size 1152x432 with 2 Axes>"
      ]
     },
     "metadata": {
      "needs_background": "light"
     },
     "output_type": "display_data"
    }
   ],
   "source": [
    "model_performance(p_test_2, p_train_2, p_test_proba_2, p_train_proba_2, y_test, y_train, 'Decision Tree')"
   ]
  },
  {
   "cell_type": "markdown",
   "id": "6eb849aa",
   "metadata": {
    "papermill": {
     "duration": 0.036673,
     "end_time": "2023-03-09T18:22:58.853264",
     "exception": false,
     "start_time": "2023-03-09T18:22:58.816591",
     "status": "completed"
    },
    "tags": []
   },
   "source": [
    "#### Model 3 - KNN"
   ]
  },
  {
   "cell_type": "code",
   "execution_count": 31,
   "id": "e5f20c6a",
   "metadata": {
    "execution": {
     "iopub.execute_input": "2023-03-09T18:22:58.932408Z",
     "iopub.status.busy": "2023-03-09T18:22:58.931505Z",
     "iopub.status.idle": "2023-03-09T18:22:58.936468Z",
     "shell.execute_reply": "2023-03-09T18:22:58.935550Z"
    },
    "papermill": {
     "duration": 0.049668,
     "end_time": "2023-03-09T18:22:58.939051",
     "exception": false,
     "start_time": "2023-03-09T18:22:58.889383",
     "status": "completed"
    },
    "tags": []
   },
   "outputs": [],
   "source": [
    "model_3 = KNeighborsClassifier(n_neighbors=10)"
   ]
  },
  {
   "cell_type": "code",
   "execution_count": 32,
   "id": "e0671b88",
   "metadata": {
    "_kg_hide-output": true,
    "execution": {
     "iopub.execute_input": "2023-03-09T18:22:59.027101Z",
     "iopub.status.busy": "2023-03-09T18:22:59.025939Z",
     "iopub.status.idle": "2023-03-09T18:22:59.040399Z",
     "shell.execute_reply": "2023-03-09T18:22:59.039105Z"
    },
    "papermill": {
     "duration": 0.061989,
     "end_time": "2023-03-09T18:22:59.043017",
     "exception": false,
     "start_time": "2023-03-09T18:22:58.981028",
     "status": "completed"
    },
    "tags": []
   },
   "outputs": [
    {
     "data": {
      "text/html": [
       "<style>#sk-container-id-3 {color: black;background-color: white;}#sk-container-id-3 pre{padding: 0;}#sk-container-id-3 div.sk-toggleable {background-color: white;}#sk-container-id-3 label.sk-toggleable__label {cursor: pointer;display: block;width: 100%;margin-bottom: 0;padding: 0.3em;box-sizing: border-box;text-align: center;}#sk-container-id-3 label.sk-toggleable__label-arrow:before {content: \"▸\";float: left;margin-right: 0.25em;color: #696969;}#sk-container-id-3 label.sk-toggleable__label-arrow:hover:before {color: black;}#sk-container-id-3 div.sk-estimator:hover label.sk-toggleable__label-arrow:before {color: black;}#sk-container-id-3 div.sk-toggleable__content {max-height: 0;max-width: 0;overflow: hidden;text-align: left;background-color: #f0f8ff;}#sk-container-id-3 div.sk-toggleable__content pre {margin: 0.2em;color: black;border-radius: 0.25em;background-color: #f0f8ff;}#sk-container-id-3 input.sk-toggleable__control:checked~div.sk-toggleable__content {max-height: 200px;max-width: 100%;overflow: auto;}#sk-container-id-3 input.sk-toggleable__control:checked~label.sk-toggleable__label-arrow:before {content: \"▾\";}#sk-container-id-3 div.sk-estimator input.sk-toggleable__control:checked~label.sk-toggleable__label {background-color: #d4ebff;}#sk-container-id-3 div.sk-label input.sk-toggleable__control:checked~label.sk-toggleable__label {background-color: #d4ebff;}#sk-container-id-3 input.sk-hidden--visually {border: 0;clip: rect(1px 1px 1px 1px);clip: rect(1px, 1px, 1px, 1px);height: 1px;margin: -1px;overflow: hidden;padding: 0;position: absolute;width: 1px;}#sk-container-id-3 div.sk-estimator {font-family: monospace;background-color: #f0f8ff;border: 1px dotted black;border-radius: 0.25em;box-sizing: border-box;margin-bottom: 0.5em;}#sk-container-id-3 div.sk-estimator:hover {background-color: #d4ebff;}#sk-container-id-3 div.sk-parallel-item::after {content: \"\";width: 100%;border-bottom: 1px solid gray;flex-grow: 1;}#sk-container-id-3 div.sk-label:hover label.sk-toggleable__label {background-color: #d4ebff;}#sk-container-id-3 div.sk-serial::before {content: \"\";position: absolute;border-left: 1px solid gray;box-sizing: border-box;top: 0;bottom: 0;left: 50%;z-index: 0;}#sk-container-id-3 div.sk-serial {display: flex;flex-direction: column;align-items: center;background-color: white;padding-right: 0.2em;padding-left: 0.2em;position: relative;}#sk-container-id-3 div.sk-item {position: relative;z-index: 1;}#sk-container-id-3 div.sk-parallel {display: flex;align-items: stretch;justify-content: center;background-color: white;position: relative;}#sk-container-id-3 div.sk-item::before, #sk-container-id-3 div.sk-parallel-item::before {content: \"\";position: absolute;border-left: 1px solid gray;box-sizing: border-box;top: 0;bottom: 0;left: 50%;z-index: -1;}#sk-container-id-3 div.sk-parallel-item {display: flex;flex-direction: column;z-index: 1;position: relative;background-color: white;}#sk-container-id-3 div.sk-parallel-item:first-child::after {align-self: flex-end;width: 50%;}#sk-container-id-3 div.sk-parallel-item:last-child::after {align-self: flex-start;width: 50%;}#sk-container-id-3 div.sk-parallel-item:only-child::after {width: 0;}#sk-container-id-3 div.sk-dashed-wrapped {border: 1px dashed gray;margin: 0 0.4em 0.5em 0.4em;box-sizing: border-box;padding-bottom: 0.4em;background-color: white;}#sk-container-id-3 div.sk-label label {font-family: monospace;font-weight: bold;display: inline-block;line-height: 1.2em;}#sk-container-id-3 div.sk-label-container {text-align: center;}#sk-container-id-3 div.sk-container {/* jupyter's `normalize.less` sets `[hidden] { display: none; }` but bootstrap.min.css set `[hidden] { display: none !important; }` so we also need the `!important` here to be able to override the default hidden behavior on the sphinx rendered scikit-learn.org. See: https://github.com/scikit-learn/scikit-learn/issues/21755 */display: inline-block !important;position: relative;}#sk-container-id-3 div.sk-text-repr-fallback {display: none;}</style><div id=\"sk-container-id-3\" class=\"sk-top-container\"><div class=\"sk-text-repr-fallback\"><pre>KNeighborsClassifier(n_neighbors=10)</pre><b>In a Jupyter environment, please rerun this cell to show the HTML representation or trust the notebook. <br />On GitHub, the HTML representation is unable to render, please try loading this page with nbviewer.org.</b></div><div class=\"sk-container\" hidden><div class=\"sk-item\"><div class=\"sk-estimator sk-toggleable\"><input class=\"sk-toggleable__control sk-hidden--visually\" id=\"sk-estimator-id-7\" type=\"checkbox\" checked><label for=\"sk-estimator-id-7\" class=\"sk-toggleable__label sk-toggleable__label-arrow\">KNeighborsClassifier</label><div class=\"sk-toggleable__content\"><pre>KNeighborsClassifier(n_neighbors=10)</pre></div></div></div></div></div>"
      ],
      "text/plain": [
       "KNeighborsClassifier(n_neighbors=10)"
      ]
     },
     "execution_count": 32,
     "metadata": {},
     "output_type": "execute_result"
    }
   ],
   "source": [
    "model_3.fit(X_train, y_train.values.ravel())"
   ]
  },
  {
   "cell_type": "code",
   "execution_count": 33,
   "id": "3ae1bd5e",
   "metadata": {
    "execution": {
     "iopub.execute_input": "2023-03-09T18:22:59.121736Z",
     "iopub.status.busy": "2023-03-09T18:22:59.120969Z",
     "iopub.status.idle": "2023-03-09T18:22:59.184523Z",
     "shell.execute_reply": "2023-03-09T18:22:59.183047Z"
    },
    "papermill": {
     "duration": 0.105144,
     "end_time": "2023-03-09T18:22:59.187651",
     "exception": false,
     "start_time": "2023-03-09T18:22:59.082507",
     "status": "completed"
    },
    "tags": []
   },
   "outputs": [],
   "source": [
    "p_train_3 = model_3.predict(X_train)\n",
    "p_test_3 = model_3.predict(X_test)\n",
    "p_train_proba_3 = model_3.predict_proba(X_train)[:,1]\n",
    "p_test_proba_3 = model_3.predict_proba(X_test)[:,1]"
   ]
  },
  {
   "cell_type": "code",
   "execution_count": 34,
   "id": "ea19175e",
   "metadata": {
    "execution": {
     "iopub.execute_input": "2023-03-09T18:22:59.264736Z",
     "iopub.status.busy": "2023-03-09T18:22:59.264182Z",
     "iopub.status.idle": "2023-03-09T18:23:00.136575Z",
     "shell.execute_reply": "2023-03-09T18:23:00.135322Z"
    },
    "papermill": {
     "duration": 0.91594,
     "end_time": "2023-03-09T18:23:00.140372",
     "exception": false,
     "start_time": "2023-03-09T18:22:59.224432",
     "status": "completed"
    },
    "tags": []
   },
   "outputs": [
    {
     "name": "stdout",
     "output_type": "stream",
     "text": [
      "=============================================\n",
      "Scoring Metrics for kNN (Validation)\n",
      "=============================================\n",
      "Balanced Accuracy Score = 0.859\n",
      "Accuracy Score = 0.859\n",
      "Precision Score = 0.892\n",
      "F1 Score = 0.875\n",
      "Recall Score = 0.858\n",
      "ROC AUC Score = 0.859\n",
      "Confusion Matrix\n",
      "==================\n",
      "[[67 11]\n",
      " [15 91]]\n",
      "==================\n",
      "              precision    recall  f1-score   support\n",
      "\n",
      "           0       0.82      0.86      0.84        78\n",
      "           1       0.89      0.86      0.88       106\n",
      "\n",
      "    accuracy                           0.86       184\n",
      "   macro avg       0.85      0.86      0.86       184\n",
      "weighted avg       0.86      0.86      0.86       184\n",
      "\n",
      "=============================================\n",
      "Scoring Metrics for kNN (Training)\n",
      "=============================================\n",
      "Balanced Accuracy Score = 0.852\n",
      "Accuracy Score = 0.851\n",
      "Precision Score = 0.877\n",
      "F1 Score = 0.862\n",
      "Recall Score = 0.848\n",
      "ROC AUC Score = 0.852\n",
      "Confusion Matrix\n",
      "==================\n",
      "[[284  48]\n",
      " [ 61 341]]\n",
      "==================\n",
      "              precision    recall  f1-score   support\n",
      "\n",
      "           0       0.82      0.86      0.84       332\n",
      "           1       0.88      0.85      0.86       402\n",
      "\n",
      "    accuracy                           0.85       734\n",
      "   macro avg       0.85      0.85      0.85       734\n",
      "weighted avg       0.85      0.85      0.85       734\n",
      "\n",
      "======= ROC Curve and Precision x Recall Curve =======\n"
     ]
    },
    {
     "name": "stderr",
     "output_type": "stream",
     "text": [
      "C:\\Users\\jinen\\AppData\\Local\\Temp\\ipykernel_2448\\4262248699.py:21: FutureWarning: The frame.append method is deprecated and will be removed from pandas in a future version. Use pandas.concat instead.\n",
      "  df_performance = df_performance.append({'Model':model_name\n"
     ]
    },
    {
     "data": {
      "image/png": "[encoded data removed]",
      "text/plain": [
       "<Figure size 432x288 with 2 Axes>"
      ]
     },
     "metadata": {
      "needs_background": "light"
     },
     "output_type": "display_data"
    },
    {
     "data": {
      "image/png": "[encoded data removed]",
      "text/plain": [
       "<Figure size 432x288 with 2 Axes>"
      ]
     },
     "metadata": {
      "needs_background": "light"
     },
     "output_type": "display_data"
    },
    {
     "data": {
      "image/png": "[encoded data removed]",
      "text/plain": [
       "<Figure size 1152x432 with 2 Axes>"
      ]
     },
     "metadata": {
      "needs_background": "light"
     },
     "output_type": "display_data"
    }
   ],
   "source": [
    "model_performance(p_test_3, p_train_3, p_test_proba_3, p_train_proba_3, y_test, y_train, 'kNN')"
   ]
  },
  {
   "cell_type": "markdown",
   "id": "a26f2b21",
   "metadata": {
    "papermill": {
     "duration": 0.037831,
     "end_time": "2023-03-09T18:23:00.216503",
     "exception": false,
     "start_time": "2023-03-09T18:23:00.178672",
     "status": "completed"
    },
    "tags": []
   },
   "source": [
    "#### Model 4 - Random Forest"
   ]
  },
  {
   "cell_type": "code",
   "execution_count": 35,
   "id": "e483d766",
   "metadata": {
    "execution": {
     "iopub.execute_input": "2023-03-09T18:23:00.295452Z",
     "iopub.status.busy": "2023-03-09T18:23:00.294949Z",
     "iopub.status.idle": "2023-03-09T18:23:00.301135Z",
     "shell.execute_reply": "2023-03-09T18:23:00.299702Z"
    },
    "papermill": {
     "duration": 0.049167,
     "end_time": "2023-03-09T18:23:00.303796",
     "exception": false,
     "start_time": "2023-03-09T18:23:00.254629",
     "status": "completed"
    },
    "tags": []
   },
   "outputs": [],
   "source": [
    "estimators = [25,50,75,100]\n",
    "max_depth = [5]\n",
    "min_samples_split = [20, 50, 75, 100, 150, 200]\n",
    "min_samples_leaf = [25, 50, 75, 100, 150, 200]## Decision Tree"
   ]
  },
  {
   "cell_type": "code",
   "execution_count": 36,
   "id": "bcef92bf",
   "metadata": {
    "execution": {
     "iopub.execute_input": "2023-03-09T18:23:00.383978Z",
     "iopub.status.busy": "2023-03-09T18:23:00.383506Z",
     "iopub.status.idle": "2023-03-09T18:23:00.389397Z",
     "shell.execute_reply": "2023-03-09T18:23:00.388108Z"
    },
    "papermill": {
     "duration": 0.04954,
     "end_time": "2023-03-09T18:23:00.392044",
     "exception": false,
     "start_time": "2023-03-09T18:23:00.342504",
     "status": "completed"
    },
    "tags": []
   },
   "outputs": [],
   "source": [
    "clf_4 = RandomForestClassifier()\n",
    "\n",
    "forest_params_grid={'n_estimators':estimators,\n",
    "           'max_depth':max_depth,\n",
    "           'min_samples_split':min_samples_split,\n",
    "           'min_samples_leaf':min_samples_leaf  }"
   ]
  },
  {
   "cell_type": "code",
   "execution_count": 37,
   "id": "2b7d33af",
   "metadata": {
    "_kg_hide-output": true,
    "execution": {
     "iopub.execute_input": "2023-03-09T18:23:00.474836Z",
     "iopub.status.busy": "2023-03-09T18:23:00.473752Z",
     "iopub.status.idle": "2023-03-09T18:23:35.232052Z",
     "shell.execute_reply": "2023-03-09T18:23:35.230585Z"
    },
    "papermill": {
     "duration": 34.84379,
     "end_time": "2023-03-09T18:23:35.274869",
     "exception": false,
     "start_time": "2023-03-09T18:23:00.431079",
     "status": "completed"
    },
    "tags": []
   },
   "outputs": [
    {
     "name": "stdout",
     "output_type": "stream",
     "text": [
      "Fitting 5 folds for each of 144 candidates, totalling 720 fits\n"
     ]
    },
    {
     "data": {
      "text/html": [
       "<style>#sk-container-id-4 {color: black;background-color: white;}#sk-container-id-4 pre{padding: 0;}#sk-container-id-4 div.sk-toggleable {background-color: white;}#sk-container-id-4 label.sk-toggleable__label {cursor: pointer;display: block;width: 100%;margin-bottom: 0;padding: 0.3em;box-sizing: border-box;text-align: center;}#sk-container-id-4 label.sk-toggleable__label-arrow:before {content: \"▸\";float: left;margin-right: 0.25em;color: #696969;}#sk-container-id-4 label.sk-toggleable__label-arrow:hover:before {color: black;}#sk-container-id-4 div.sk-estimator:hover label.sk-toggleable__label-arrow:before {color: black;}#sk-container-id-4 div.sk-toggleable__content {max-height: 0;max-width: 0;overflow: hidden;text-align: left;background-color: #f0f8ff;}#sk-container-id-4 div.sk-toggleable__content pre {margin: 0.2em;color: black;border-radius: 0.25em;background-color: #f0f8ff;}#sk-container-id-4 input.sk-toggleable__control:checked~div.sk-toggleable__content {max-height: 200px;max-width: 100%;overflow: auto;}#sk-container-id-4 input.sk-toggleable__control:checked~label.sk-toggleable__label-arrow:before {content: \"▾\";}#sk-container-id-4 div.sk-estimator input.sk-toggleable__control:checked~label.sk-toggleable__label {background-color: #d4ebff;}#sk-container-id-4 div.sk-label input.sk-toggleable__control:checked~label.sk-toggleable__label {background-color: #d4ebff;}#sk-container-id-4 input.sk-hidden--visually {border: 0;clip: rect(1px 1px 1px 1px);clip: rect(1px, 1px, 1px, 1px);height: 1px;margin: -1px;overflow: hidden;padding: 0;position: absolute;width: 1px;}#sk-container-id-4 div.sk-estimator {font-family: monospace;background-color: #f0f8ff;border: 1px dotted black;border-radius: 0.25em;box-sizing: border-box;margin-bottom: 0.5em;}#sk-container-id-4 div.sk-estimator:hover {background-color: #d4ebff;}#sk-container-id-4 div.sk-parallel-item::after {content: \"\";width: 100%;border-bottom: 1px solid gray;flex-grow: 1;}#sk-container-id-4 div.sk-label:hover label.sk-toggleable__label {background-color: #d4ebff;}#sk-container-id-4 div.sk-serial::before {content: \"\";position: absolute;border-left: 1px solid gray;box-sizing: border-box;top: 0;bottom: 0;left: 50%;z-index: 0;}#sk-container-id-4 div.sk-serial {display: flex;flex-direction: column;align-items: center;background-color: white;padding-right: 0.2em;padding-left: 0.2em;position: relative;}#sk-container-id-4 div.sk-item {position: relative;z-index: 1;}#sk-container-id-4 div.sk-parallel {display: flex;align-items: stretch;justify-content: center;background-color: white;position: relative;}#sk-container-id-4 div.sk-item::before, #sk-container-id-4 div.sk-parallel-item::before {content: \"\";position: absolute;border-left: 1px solid gray;box-sizing: border-box;top: 0;bottom: 0;left: 50%;z-index: -1;}#sk-container-id-4 div.sk-parallel-item {display: flex;flex-direction: column;z-index: 1;position: relative;background-color: white;}#sk-container-id-4 div.sk-parallel-item:first-child::after {align-self: flex-end;width: 50%;}#sk-container-id-4 div.sk-parallel-item:last-child::after {align-self: flex-start;width: 50%;}#sk-container-id-4 div.sk-parallel-item:only-child::after {width: 0;}#sk-container-id-4 div.sk-dashed-wrapped {border: 1px dashed gray;margin: 0 0.4em 0.5em 0.4em;box-sizing: border-box;padding-bottom: 0.4em;background-color: white;}#sk-container-id-4 div.sk-label label {font-family: monospace;font-weight: bold;display: inline-block;line-height: 1.2em;}#sk-container-id-4 div.sk-label-container {text-align: center;}#sk-container-id-4 div.sk-container {/* jupyter's `normalize.less` sets `[hidden] { display: none; }` but bootstrap.min.css set `[hidden] { display: none !important; }` so we also need the `!important` here to be able to override the default hidden behavior on the sphinx rendered scikit-learn.org. See: https://github.com/scikit-learn/scikit-learn/issues/21755 */display: inline-block !important;position: relative;}#sk-container-id-4 div.sk-text-repr-fallback {display: none;}</style><div id=\"sk-container-id-4\" class=\"sk-top-container\"><div class=\"sk-text-repr-fallback\"><pre>GridSearchCV(cv=StratifiedKFold(n_splits=5, random_state=100, shuffle=True),\n",
       "             estimator=RandomForestClassifier(), n_jobs=-1,\n",
       "             param_grid={&#x27;max_depth&#x27;: [5],\n",
       "                         &#x27;min_samples_leaf&#x27;: [25, 50, 75, 100, 150, 200],\n",
       "                         &#x27;min_samples_split&#x27;: [20, 50, 75, 100, 150, 200],\n",
       "                         &#x27;n_estimators&#x27;: [25, 50, 75, 100]},\n",
       "             scoring=&#x27;accuracy&#x27;, verbose=1)</pre><b>In a Jupyter environment, please rerun this cell to show the HTML representation or trust the notebook. <br />On GitHub, the HTML representation is unable to render, please try loading this page with nbviewer.org.</b></div><div class=\"sk-container\" hidden><div class=\"sk-item sk-dashed-wrapped\"><div class=\"sk-label-container\"><div class=\"sk-label sk-toggleable\"><input class=\"sk-toggleable__control sk-hidden--visually\" id=\"sk-estimator-id-8\" type=\"checkbox\" ><label for=\"sk-estimator-id-8\" class=\"sk-toggleable__label sk-toggleable__label-arrow\">GridSearchCV</label><div class=\"sk-toggleable__content\"><pre>GridSearchCV(cv=StratifiedKFold(n_splits=5, random_state=100, shuffle=True),\n",
       "             estimator=RandomForestClassifier(), n_jobs=-1,\n",
       "             param_grid={&#x27;max_depth&#x27;: [5],\n",
       "                         &#x27;min_samples_leaf&#x27;: [25, 50, 75, 100, 150, 200],\n",
       "                         &#x27;min_samples_split&#x27;: [20, 50, 75, 100, 150, 200],\n",
       "                         &#x27;n_estimators&#x27;: [25, 50, 75, 100]},\n",
       "             scoring=&#x27;accuracy&#x27;, verbose=1)</pre></div></div></div><div class=\"sk-parallel\"><div class=\"sk-parallel-item\"><div class=\"sk-item\"><div class=\"sk-label-container\"><div class=\"sk-label sk-toggleable\"><input class=\"sk-toggleable__control sk-hidden--visually\" id=\"sk-estimator-id-9\" type=\"checkbox\" ><label for=\"sk-estimator-id-9\" class=\"sk-toggleable__label sk-toggleable__label-arrow\">estimator: RandomForestClassifier</label><div class=\"sk-toggleable__content\"><pre>RandomForestClassifier()</pre></div></div></div><div class=\"sk-serial\"><div class=\"sk-item\"><div class=\"sk-estimator sk-toggleable\"><input class=\"sk-toggleable__control sk-hidden--visually\" id=\"sk-estimator-id-10\" type=\"checkbox\" ><label for=\"sk-estimator-id-10\" class=\"sk-toggleable__label sk-toggleable__label-arrow\">RandomForestClassifier</label><div class=\"sk-toggleable__content\"><pre>RandomForestClassifier()</pre></div></div></div></div></div></div></div></div></div></div>"
      ],
      "text/plain": [
       "GridSearchCV(cv=StratifiedKFold(n_splits=5, random_state=100, shuffle=True),\n",
       "             estimator=RandomForestClassifier(), n_jobs=-1,\n",
       "             param_grid={'max_depth': [5],\n",
       "                         'min_samples_leaf': [25, 50, 75, 100, 150, 200],\n",
       "                         'min_samples_split': [20, 50, 75, 100, 150, 200],\n",
       "                         'n_estimators': [25, 50, 75, 100]},\n",
       "             scoring='accuracy', verbose=1)"
      ]
     },
     "execution_count": 37,
     "metadata": {},
     "output_type": "execute_result"
    }
   ],
   "source": [
    "cv = model_selection.StratifiedKFold(n_splits=p_cv, random_state=100, shuffle=True)\n",
    "\n",
    "model_4 = model_selection.GridSearchCV(clf_4, forest_params_grid, cv=cv, scoring=p_score, n_jobs=-1, verbose=1)\n",
    "model_4.fit(X_train, y_train.values.ravel())\n"
   ]
  },
  {
   "cell_type": "code",
   "execution_count": 38,
   "id": "4c14dafa",
   "metadata": {
    "execution": {
     "iopub.execute_input": "2023-03-09T18:23:35.357223Z",
     "iopub.status.busy": "2023-03-09T18:23:35.356734Z",
     "iopub.status.idle": "2023-03-09T18:23:35.363810Z",
     "shell.execute_reply": "2023-03-09T18:23:35.362239Z"
    },
    "papermill": {
     "duration": 0.053324,
     "end_time": "2023-03-09T18:23:35.367929",
     "exception": false,
     "start_time": "2023-03-09T18:23:35.314605",
     "status": "completed"
    },
    "tags": []
   },
   "outputs": [
    {
     "name": "stdout",
     "output_type": "stream",
     "text": [
      "{'max_depth': 5, 'min_samples_leaf': 25, 'min_samples_split': 20, 'n_estimators': 75}\n",
      "RandomForestClassifier(max_depth=5, min_samples_leaf=25, min_samples_split=20,\n",
      "                       n_estimators=75)\n"
     ]
    }
   ],
   "source": [
    "print(model_4.best_params_)\n",
    "print(model_4.best_estimator_)"
   ]
  },
  {
   "cell_type": "code",
   "execution_count": 39,
   "id": "010b0c64",
   "metadata": {
    "execution": {
     "iopub.execute_input": "2023-03-09T18:23:35.451323Z",
     "iopub.status.busy": "2023-03-09T18:23:35.450863Z",
     "iopub.status.idle": "2023-03-09T18:23:35.537100Z",
     "shell.execute_reply": "2023-03-09T18:23:35.536063Z"
    },
    "papermill": {
     "duration": 0.129769,
     "end_time": "2023-03-09T18:23:35.539891",
     "exception": false,
     "start_time": "2023-03-09T18:23:35.410122",
     "status": "completed"
    },
    "tags": []
   },
   "outputs": [],
   "source": [
    "p_train_4 = model_4.predict(X_train)\n",
    "p_test_4 = model_4.predict(X_test)\n",
    "p_train_proba_4 = model_4.predict_proba(X_train)[:,1]\n",
    "p_test_proba_4 = model_4.predict_proba(X_test)[:,1]"
   ]
  },
  {
   "cell_type": "code",
   "execution_count": 40,
   "id": "21d8cad2",
   "metadata": {
    "execution": {
     "iopub.execute_input": "2023-03-09T18:23:35.619888Z",
     "iopub.status.busy": "2023-03-09T18:23:35.619367Z",
     "iopub.status.idle": "2023-03-09T18:23:36.602081Z",
     "shell.execute_reply": "2023-03-09T18:23:36.600800Z"
    },
    "papermill": {
     "duration": 1.026442,
     "end_time": "2023-03-09T18:23:36.604856",
     "exception": false,
     "start_time": "2023-03-09T18:23:35.578414",
     "status": "completed"
    },
    "tags": []
   },
   "outputs": [
    {
     "name": "stdout",
     "output_type": "stream",
     "text": [
      "=============================================\n",
      "Scoring Metrics for Random Forest (Validation)\n",
      "=============================================\n",
      "Balanced Accuracy Score = 0.892\n",
      "Accuracy Score = 0.897\n",
      "Precision Score = 0.899\n",
      "F1 Score = 0.912\n",
      "Recall Score = 0.925\n",
      "ROC AUC Score = 0.892\n",
      "Confusion Matrix\n",
      "==================\n",
      "[[67 11]\n",
      " [ 8 98]]\n",
      "==================\n",
      "              precision    recall  f1-score   support\n",
      "\n",
      "           0       0.89      0.86      0.88        78\n",
      "           1       0.90      0.92      0.91       106\n",
      "\n",
      "    accuracy                           0.90       184\n",
      "   macro avg       0.90      0.89      0.89       184\n",
      "weighted avg       0.90      0.90      0.90       184\n",
      "\n",
      "=============================================\n",
      "Scoring Metrics for Random Forest (Training)\n",
      "=============================================\n",
      "Balanced Accuracy Score = 0.867\n",
      "Accuracy Score = 0.872\n",
      "Precision Score = 0.858\n",
      "F1 Score = 0.887\n",
      "Recall Score = 0.918\n",
      "ROC AUC Score = 0.867\n",
      "Confusion Matrix\n",
      "==================\n",
      "[[271  61]\n",
      " [ 33 369]]\n",
      "==================\n",
      "              precision    recall  f1-score   support\n",
      "\n",
      "           0       0.89      0.82      0.85       332\n",
      "           1       0.86      0.92      0.89       402\n",
      "\n",
      "    accuracy                           0.87       734\n",
      "   macro avg       0.87      0.87      0.87       734\n",
      "weighted avg       0.87      0.87      0.87       734\n",
      "\n",
      "======= ROC Curve and Precision x Recall Curve =======\n"
     ]
    },
    {
     "name": "stderr",
     "output_type": "stream",
     "text": [
      "C:\\Users\\jinen\\AppData\\Local\\Temp\\ipykernel_2448\\4262248699.py:21: FutureWarning: The frame.append method is deprecated and will be removed from pandas in a future version. Use pandas.concat instead.\n",
      "  df_performance = df_performance.append({'Model':model_name\n"
     ]
    },
    {
     "data": {
      "image/png": "[encoded data removed]",
      "text/plain": [
       "<Figure size 432x288 with 2 Axes>"
      ]
     },
     "metadata": {
      "needs_background": "light"
     },
     "output_type": "display_data"
    },
    {
     "data": {
      "image/png": "[encoded data removed]",
      "text/plain": [
       "<Figure size 432x288 with 2 Axes>"
      ]
     },
     "metadata": {
      "needs_background": "light"
     },
     "output_type": "display_data"
    },
    {
     "data": {
      "image/png": "[encoded data removed]",
      "text/plain": [
       "<Figure size 1152x432 with 2 Axes>"
      ]
     },
     "metadata": {
      "needs_background": "light"
     },
     "output_type": "display_data"
    }
   ],
   "source": [
    "model_performance(p_test_4, p_train_4, p_test_proba_4, p_train_proba_4, y_test, y_train, 'Random Forest')"
   ]
  },
  {
   "cell_type": "markdown",
   "id": "75abef04",
   "metadata": {
    "papermill": {
     "duration": 0.040234,
     "end_time": "2023-03-09T18:23:36.685939",
     "exception": false,
     "start_time": "2023-03-09T18:23:36.645705",
     "status": "completed"
    },
    "tags": []
   },
   "source": [
    "####  Model 5 - SVM Classifer"
   ]
  },
  {
   "cell_type": "code",
   "execution_count": 42,
   "id": "ae38bb43",
   "metadata": {
    "execution": {
     "iopub.execute_input": "2023-03-09T18:23:36.769886Z",
     "iopub.status.busy": "2023-03-09T18:23:36.769385Z",
     "iopub.status.idle": "2023-03-09T18:23:36.775894Z",
     "shell.execute_reply": "2023-03-09T18:23:36.774618Z"
    },
    "papermill": {
     "duration": 0.052242,
     "end_time": "2023-03-09T18:23:36.778560",
     "exception": false,
     "start_time": "2023-03-09T18:23:36.726318",
     "status": "completed"
    },
    "tags": []
   },
   "outputs": [],
   "source": [
    "C = [0.1, 1.0, 10, 100]\n",
    "gamma = [0.1,0.01,0.001, 0.0001]\n",
    "kernel = ['linear','rbf']"
   ]
  },
  {
   "cell_type": "code",
   "execution_count": 43,
   "id": "a71b11fa",
   "metadata": {
    "execution": {
     "iopub.execute_input": "2023-03-09T18:23:36.864291Z",
     "iopub.status.busy": "2023-03-09T18:23:36.863833Z",
     "iopub.status.idle": "2023-03-09T18:23:36.869459Z",
     "shell.execute_reply": "2023-03-09T18:23:36.868503Z"
    },
    "papermill": {
     "duration": 0.052069,
     "end_time": "2023-03-09T18:23:36.871739",
     "exception": false,
     "start_time": "2023-03-09T18:23:36.819670",
     "status": "completed"
    },
    "tags": []
   },
   "outputs": [],
   "source": [
    "clf_5 = SVC(probability=True)\n",
    "\n",
    "SVC_params_grid={'C':C,\n",
    "           'gamma':gamma,\n",
    "           'kernel':kernel}"
   ]
  },
  {
   "cell_type": "code",
   "execution_count": 44,
   "id": "59bb7c18",
   "metadata": {
    "_kg_hide-output": true,
    "execution": {
     "iopub.execute_input": "2023-03-09T18:23:36.957806Z",
     "iopub.status.busy": "2023-03-09T18:23:36.956796Z",
     "iopub.status.idle": "2023-03-09T18:23:48.310157Z",
     "shell.execute_reply": "2023-03-09T18:23:48.308810Z"
    },
    "papermill": {
     "duration": 11.400234,
     "end_time": "2023-03-09T18:23:48.312957",
     "exception": false,
     "start_time": "2023-03-09T18:23:36.912723",
     "status": "completed"
    },
    "tags": []
   },
   "outputs": [
    {
     "name": "stdout",
     "output_type": "stream",
     "text": [
      "Fitting 5 folds for each of 32 candidates, totalling 160 fits\n"
     ]
    },
    {
     "data": {
      "text/html": [
       "<style>#sk-container-id-5 {color: black;background-color: white;}#sk-container-id-5 pre{padding: 0;}#sk-container-id-5 div.sk-toggleable {background-color: white;}#sk-container-id-5 label.sk-toggleable__label {cursor: pointer;display: block;width: 100%;margin-bottom: 0;padding: 0.3em;box-sizing: border-box;text-align: center;}#sk-container-id-5 label.sk-toggleable__label-arrow:before {content: \"▸\";float: left;margin-right: 0.25em;color: #696969;}#sk-container-id-5 label.sk-toggleable__label-arrow:hover:before {color: black;}#sk-container-id-5 div.sk-estimator:hover label.sk-toggleable__label-arrow:before {color: black;}#sk-container-id-5 div.sk-toggleable__content {max-height: 0;max-width: 0;overflow: hidden;text-align: left;background-color: #f0f8ff;}#sk-container-id-5 div.sk-toggleable__content pre {margin: 0.2em;color: black;border-radius: 0.25em;background-color: #f0f8ff;}#sk-container-id-5 input.sk-toggleable__control:checked~div.sk-toggleable__content {max-height: 200px;max-width: 100%;overflow: auto;}#sk-container-id-5 input.sk-toggleable__control:checked~label.sk-toggleable__label-arrow:before {content: \"▾\";}#sk-container-id-5 div.sk-estimator input.sk-toggleable__control:checked~label.sk-toggleable__label {background-color: #d4ebff;}#sk-container-id-5 div.sk-label input.sk-toggleable__control:checked~label.sk-toggleable__label {background-color: #d4ebff;}#sk-container-id-5 input.sk-hidden--visually {border: 0;clip: rect(1px 1px 1px 1px);clip: rect(1px, 1px, 1px, 1px);height: 1px;margin: -1px;overflow: hidden;padding: 0;position: absolute;width: 1px;}#sk-container-id-5 div.sk-estimator {font-family: monospace;background-color: #f0f8ff;border: 1px dotted black;border-radius: 0.25em;box-sizing: border-box;margin-bottom: 0.5em;}#sk-container-id-5 div.sk-estimator:hover {background-color: #d4ebff;}#sk-container-id-5 div.sk-parallel-item::after {content: \"\";width: 100%;border-bottom: 1px solid gray;flex-grow: 1;}#sk-container-id-5 div.sk-label:hover label.sk-toggleable__label {background-color: #d4ebff;}#sk-container-id-5 div.sk-serial::before {content: \"\";position: absolute;border-left: 1px solid gray;box-sizing: border-box;top: 0;bottom: 0;left: 50%;z-index: 0;}#sk-container-id-5 div.sk-serial {display: flex;flex-direction: column;align-items: center;background-color: white;padding-right: 0.2em;padding-left: 0.2em;position: relative;}#sk-container-id-5 div.sk-item {position: relative;z-index: 1;}#sk-container-id-5 div.sk-parallel {display: flex;align-items: stretch;justify-content: center;background-color: white;position: relative;}#sk-container-id-5 div.sk-item::before, #sk-container-id-5 div.sk-parallel-item::before {content: \"\";position: absolute;border-left: 1px solid gray;box-sizing: border-box;top: 0;bottom: 0;left: 50%;z-index: -1;}#sk-container-id-5 div.sk-parallel-item {display: flex;flex-direction: column;z-index: 1;position: relative;background-color: white;}#sk-container-id-5 div.sk-parallel-item:first-child::after {align-self: flex-end;width: 50%;}#sk-container-id-5 div.sk-parallel-item:last-child::after {align-self: flex-start;width: 50%;}#sk-container-id-5 div.sk-parallel-item:only-child::after {width: 0;}#sk-container-id-5 div.sk-dashed-wrapped {border: 1px dashed gray;margin: 0 0.4em 0.5em 0.4em;box-sizing: border-box;padding-bottom: 0.4em;background-color: white;}#sk-container-id-5 div.sk-label label {font-family: monospace;font-weight: bold;display: inline-block;line-height: 1.2em;}#sk-container-id-5 div.sk-label-container {text-align: center;}#sk-container-id-5 div.sk-container {/* jupyter's `normalize.less` sets `[hidden] { display: none; }` but bootstrap.min.css set `[hidden] { display: none !important; }` so we also need the `!important` here to be able to override the default hidden behavior on the sphinx rendered scikit-learn.org. See: https://github.com/scikit-learn/scikit-learn/issues/21755 */display: inline-block !important;position: relative;}#sk-container-id-5 div.sk-text-repr-fallback {display: none;}</style><div id=\"sk-container-id-5\" class=\"sk-top-container\"><div class=\"sk-text-repr-fallback\"><pre>GridSearchCV(cv=StratifiedKFold(n_splits=5, random_state=100, shuffle=True),\n",
       "             estimator=SVC(probability=True), n_jobs=-1,\n",
       "             param_grid={&#x27;C&#x27;: [0.1, 1.0, 10, 100],\n",
       "                         &#x27;gamma&#x27;: [0.1, 0.01, 0.001, 0.0001],\n",
       "                         &#x27;kernel&#x27;: [&#x27;linear&#x27;, &#x27;rbf&#x27;]},\n",
       "             scoring=&#x27;accuracy&#x27;, verbose=1)</pre><b>In a Jupyter environment, please rerun this cell to show the HTML representation or trust the notebook. <br />On GitHub, the HTML representation is unable to render, please try loading this page with nbviewer.org.</b></div><div class=\"sk-container\" hidden><div class=\"sk-item sk-dashed-wrapped\"><div class=\"sk-label-container\"><div class=\"sk-label sk-toggleable\"><input class=\"sk-toggleable__control sk-hidden--visually\" id=\"sk-estimator-id-11\" type=\"checkbox\" ><label for=\"sk-estimator-id-11\" class=\"sk-toggleable__label sk-toggleable__label-arrow\">GridSearchCV</label><div class=\"sk-toggleable__content\"><pre>GridSearchCV(cv=StratifiedKFold(n_splits=5, random_state=100, shuffle=True),\n",
       "             estimator=SVC(probability=True), n_jobs=-1,\n",
       "             param_grid={&#x27;C&#x27;: [0.1, 1.0, 10, 100],\n",
       "                         &#x27;gamma&#x27;: [0.1, 0.01, 0.001, 0.0001],\n",
       "                         &#x27;kernel&#x27;: [&#x27;linear&#x27;, &#x27;rbf&#x27;]},\n",
       "             scoring=&#x27;accuracy&#x27;, verbose=1)</pre></div></div></div><div class=\"sk-parallel\"><div class=\"sk-parallel-item\"><div class=\"sk-item\"><div class=\"sk-label-container\"><div class=\"sk-label sk-toggleable\"><input class=\"sk-toggleable__control sk-hidden--visually\" id=\"sk-estimator-id-12\" type=\"checkbox\" ><label for=\"sk-estimator-id-12\" class=\"sk-toggleable__label sk-toggleable__label-arrow\">estimator: SVC</label><div class=\"sk-toggleable__content\"><pre>SVC(probability=True)</pre></div></div></div><div class=\"sk-serial\"><div class=\"sk-item\"><div class=\"sk-estimator sk-toggleable\"><input class=\"sk-toggleable__control sk-hidden--visually\" id=\"sk-estimator-id-13\" type=\"checkbox\" ><label for=\"sk-estimator-id-13\" class=\"sk-toggleable__label sk-toggleable__label-arrow\">SVC</label><div class=\"sk-toggleable__content\"><pre>SVC(probability=True)</pre></div></div></div></div></div></div></div></div></div></div>"
      ],
      "text/plain": [
       "GridSearchCV(cv=StratifiedKFold(n_splits=5, random_state=100, shuffle=True),\n",
       "             estimator=SVC(probability=True), n_jobs=-1,\n",
       "             param_grid={'C': [0.1, 1.0, 10, 100],\n",
       "                         'gamma': [0.1, 0.01, 0.001, 0.0001],\n",
       "                         'kernel': ['linear', 'rbf']},\n",
       "             scoring='accuracy', verbose=1)"
      ]
     },
     "execution_count": 44,
     "metadata": {},
     "output_type": "execute_result"
    }
   ],
   "source": [
    "cv = model_selection.StratifiedKFold(n_splits=p_cv, random_state=100, shuffle=True)\n",
    "\n",
    "model_5 = model_selection.GridSearchCV(clf_5, SVC_params_grid, cv=cv, scoring=p_score, n_jobs=-1, verbose=1)\n",
    "model_5.fit(X_train, y_train.values.ravel())"
   ]
  },
  {
   "cell_type": "code",
   "execution_count": 45,
   "id": "d0647ff3",
   "metadata": {
    "execution": {
     "iopub.execute_input": "2023-03-09T18:23:48.397028Z",
     "iopub.status.busy": "2023-03-09T18:23:48.396583Z",
     "iopub.status.idle": "2023-03-09T18:23:48.403640Z",
     "shell.execute_reply": "2023-03-09T18:23:48.402212Z"
    },
    "papermill": {
     "duration": 0.052876,
     "end_time": "2023-03-09T18:23:48.406715",
     "exception": false,
     "start_time": "2023-03-09T18:23:48.353839",
     "status": "completed"
    },
    "tags": []
   },
   "outputs": [
    {
     "name": "stdout",
     "output_type": "stream",
     "text": [
      "{'C': 10, 'gamma': 0.1, 'kernel': 'rbf'}\n",
      "SVC(C=10, gamma=0.1, probability=True)\n"
     ]
    }
   ],
   "source": [
    "print(model_5.best_params_)\n",
    "print(model_5.best_estimator_)"
   ]
  },
  {
   "cell_type": "code",
   "execution_count": 46,
   "id": "ff1f1bd2",
   "metadata": {
    "execution": {
     "iopub.execute_input": "2023-03-09T18:23:48.492886Z",
     "iopub.status.busy": "2023-03-09T18:23:48.492420Z",
     "iopub.status.idle": "2023-03-09T18:23:48.522198Z",
     "shell.execute_reply": "2023-03-09T18:23:48.521114Z"
    },
    "papermill": {
     "duration": 0.075801,
     "end_time": "2023-03-09T18:23:48.525061",
     "exception": false,
     "start_time": "2023-03-09T18:23:48.449260",
     "status": "completed"
    },
    "tags": []
   },
   "outputs": [],
   "source": [
    "p_train_5 = model_5.predict(X_train)\n",
    "p_test_5 = model_5.predict(X_test)\n",
    "p_train_proba_5 = model_5.predict_proba(X_train)[:,1]\n",
    "p_test_proba_5 = model_5.predict_proba(X_test)[:,1]"
   ]
  },
  {
   "cell_type": "code",
   "execution_count": 47,
   "id": "85b117f5",
   "metadata": {
    "execution": {
     "iopub.execute_input": "2023-03-09T18:23:48.610524Z",
     "iopub.status.busy": "2023-03-09T18:23:48.610024Z",
     "iopub.status.idle": "2023-03-09T18:23:49.602002Z",
     "shell.execute_reply": "2023-03-09T18:23:49.600739Z"
    },
    "papermill": {
     "duration": 1.038902,
     "end_time": "2023-03-09T18:23:49.605474",
     "exception": false,
     "start_time": "2023-03-09T18:23:48.566572",
     "status": "completed"
    },
    "tags": []
   },
   "outputs": [
    {
     "name": "stdout",
     "output_type": "stream",
     "text": [
      "=============================================\n",
      "Scoring Metrics for SVM (Validation)\n",
      "=============================================\n",
      "Balanced Accuracy Score = 0.889\n",
      "Accuracy Score = 0.891\n",
      "Precision Score = 0.906\n",
      "F1 Score = 0.906\n",
      "Recall Score = 0.906\n",
      "ROC AUC Score = 0.889\n",
      "Confusion Matrix\n",
      "==================\n",
      "[[68 10]\n",
      " [10 96]]\n",
      "==================\n",
      "              precision    recall  f1-score   support\n",
      "\n",
      "           0       0.87      0.87      0.87        78\n",
      "           1       0.91      0.91      0.91       106\n",
      "\n",
      "    accuracy                           0.89       184\n",
      "   macro avg       0.89      0.89      0.89       184\n",
      "weighted avg       0.89      0.89      0.89       184\n",
      "\n",
      "=============================================\n",
      "Scoring Metrics for SVM (Training)\n",
      "=============================================\n",
      "Balanced Accuracy Score = 0.905\n",
      "Accuracy Score = 0.907\n",
      "Precision Score = 0.901\n",
      "F1 Score = 0.917\n",
      "Recall Score = 0.933\n",
      "ROC AUC Score = 0.905\n",
      "Confusion Matrix\n",
      "==================\n",
      "[[291  41]\n",
      " [ 27 375]]\n",
      "==================\n",
      "              precision    recall  f1-score   support\n",
      "\n",
      "           0       0.92      0.88      0.90       332\n",
      "           1       0.90      0.93      0.92       402\n",
      "\n",
      "    accuracy                           0.91       734\n",
      "   macro avg       0.91      0.90      0.91       734\n",
      "weighted avg       0.91      0.91      0.91       734\n",
      "\n",
      "======= ROC Curve and Precision x Recall Curve =======\n"
     ]
    },
    {
     "name": "stderr",
     "output_type": "stream",
     "text": [
      "C:\\Users\\jinen\\AppData\\Local\\Temp\\ipykernel_2448\\4262248699.py:21: FutureWarning: The frame.append method is deprecated and will be removed from pandas in a future version. Use pandas.concat instead.\n",
      "  df_performance = df_performance.append({'Model':model_name\n"
     ]
    },
    {
     "data": {
      "image/png": "[encoded data removed]",
      "text/plain": [
       "<Figure size 432x288 with 2 Axes>"
      ]
     },
     "metadata": {
      "needs_background": "light"
     },
     "output_type": "display_data"
    },
    {
     "data": {
      "image/png": "[encoded data removed]",
      "text/plain": [
       "<Figure size 432x288 with 2 Axes>"
      ]
     },
     "metadata": {
      "needs_background": "light"
     },
     "output_type": "display_data"
    },
    {
     "data": {
      "image/png": "[encoded data removed]",
      "text/plain": [
       "<Figure size 1152x432 with 2 Axes>"
      ]
     },
     "metadata": {
      "needs_background": "light"
     },
     "output_type": "display_data"
    }
   ],
   "source": [
    "model_performance(p_test_5, p_train_5, p_test_proba_5, p_train_proba_5, y_test, y_train, 'SVM')"
   ]
  },
  {
   "cell_type": "markdown",
   "id": "778e29d9",
   "metadata": {
    "papermill": {
     "duration": 0.043308,
     "end_time": "2023-03-09T18:23:49.692682",
     "exception": false,
     "start_time": "2023-03-09T18:23:49.649374",
     "status": "completed"
    },
    "tags": []
   },
   "source": [
    "#### Model 6 - XGBoost"
   ]
  },
  {
   "cell_type": "code",
   "execution_count": 48,
   "id": "eda099df",
   "metadata": {
    "execution": {
     "iopub.execute_input": "2023-03-09T18:23:49.781746Z",
     "iopub.status.busy": "2023-03-09T18:23:49.781189Z",
     "iopub.status.idle": "2023-03-09T18:23:49.787818Z",
     "shell.execute_reply": "2023-03-09T18:23:49.786552Z"
    },
    "papermill": {
     "duration": 0.054751,
     "end_time": "2023-03-09T18:23:49.790499",
     "exception": false,
     "start_time": "2023-03-09T18:23:49.735748",
     "status": "completed"
    },
    "tags": []
   },
   "outputs": [],
   "source": [
    "model_6 = XGBClassifier(n_estimators=100, learning_rate=0.01, max_depth = 3, colsample_bytree = 0.8, subsample= 0.8, n_jobs=-1)\n"
   ]
  },
  {
   "cell_type": "code",
   "execution_count": 49,
   "id": "a104abc7",
   "metadata": {
    "_kg_hide-output": true,
    "execution": {
     "iopub.execute_input": "2023-03-09T18:23:49.880640Z",
     "iopub.status.busy": "2023-03-09T18:23:49.880140Z",
     "iopub.status.idle": "2023-03-09T18:23:50.206376Z",
     "shell.execute_reply": "2023-03-09T18:23:50.205186Z"
    },
    "papermill": {
     "duration": 0.375871,
     "end_time": "2023-03-09T18:23:50.209360",
     "exception": false,
     "start_time": "2023-03-09T18:23:49.833489",
     "status": "completed"
    },
    "tags": []
   },
   "outputs": [
    {
     "data": {
      "text/html": [
       "<style>#sk-container-id-6 {color: black;background-color: white;}#sk-container-id-6 pre{padding: 0;}#sk-container-id-6 div.sk-toggleable {background-color: white;}#sk-container-id-6 label.sk-toggleable__label {cursor: pointer;display: block;width: 100%;margin-bottom: 0;padding: 0.3em;box-sizing: border-box;text-align: center;}#sk-container-id-6 label.sk-toggleable__label-arrow:before {content: \"▸\";float: left;margin-right: 0.25em;color: #696969;}#sk-container-id-6 label.sk-toggleable__label-arrow:hover:before {color: black;}#sk-container-id-6 div.sk-estimator:hover label.sk-toggleable__label-arrow:before {color: black;}#sk-container-id-6 div.sk-toggleable__content {max-height: 0;max-width: 0;overflow: hidden;text-align: left;background-color: #f0f8ff;}#sk-container-id-6 div.sk-toggleable__content pre {margin: 0.2em;color: black;border-radius: 0.25em;background-color: #f0f8ff;}#sk-container-id-6 input.sk-toggleable__control:checked~div.sk-toggleable__content {max-height: 200px;max-width: 100%;overflow: auto;}#sk-container-id-6 input.sk-toggleable__control:checked~label.sk-toggleable__label-arrow:before {content: \"▾\";}#sk-container-id-6 div.sk-estimator input.sk-toggleable__control:checked~label.sk-toggleable__label {background-color: #d4ebff;}#sk-container-id-6 div.sk-label input.sk-toggleable__control:checked~label.sk-toggleable__label {background-color: #d4ebff;}#sk-container-id-6 input.sk-hidden--visually {border: 0;clip: rect(1px 1px 1px 1px);clip: rect(1px, 1px, 1px, 1px);height: 1px;margin: -1px;overflow: hidden;padding: 0;position: absolute;width: 1px;}#sk-container-id-6 div.sk-estimator {font-family: monospace;background-color: #f0f8ff;border: 1px dotted black;border-radius: 0.25em;box-sizing: border-box;margin-bottom: 0.5em;}#sk-container-id-6 div.sk-estimator:hover {background-color: #d4ebff;}#sk-container-id-6 div.sk-parallel-item::after {content: \"\";width: 100%;border-bottom: 1px solid gray;flex-grow: 1;}#sk-container-id-6 div.sk-label:hover label.sk-toggleable__label {background-color: #d4ebff;}#sk-container-id-6 div.sk-serial::before {content: \"\";position: absolute;border-left: 1px solid gray;box-sizing: border-box;top: 0;bottom: 0;left: 50%;z-index: 0;}#sk-container-id-6 div.sk-serial {display: flex;flex-direction: column;align-items: center;background-color: white;padding-right: 0.2em;padding-left: 0.2em;position: relative;}#sk-container-id-6 div.sk-item {position: relative;z-index: 1;}#sk-container-id-6 div.sk-parallel {display: flex;align-items: stretch;justify-content: center;background-color: white;position: relative;}#sk-container-id-6 div.sk-item::before, #sk-container-id-6 div.sk-parallel-item::before {content: \"\";position: absolute;border-left: 1px solid gray;box-sizing: border-box;top: 0;bottom: 0;left: 50%;z-index: -1;}#sk-container-id-6 div.sk-parallel-item {display: flex;flex-direction: column;z-index: 1;position: relative;background-color: white;}#sk-container-id-6 div.sk-parallel-item:first-child::after {align-self: flex-end;width: 50%;}#sk-container-id-6 div.sk-parallel-item:last-child::after {align-self: flex-start;width: 50%;}#sk-container-id-6 div.sk-parallel-item:only-child::after {width: 0;}#sk-container-id-6 div.sk-dashed-wrapped {border: 1px dashed gray;margin: 0 0.4em 0.5em 0.4em;box-sizing: border-box;padding-bottom: 0.4em;background-color: white;}#sk-container-id-6 div.sk-label label {font-family: monospace;font-weight: bold;display: inline-block;line-height: 1.2em;}#sk-container-id-6 div.sk-label-container {text-align: center;}#sk-container-id-6 div.sk-container {/* jupyter's `normalize.less` sets `[hidden] { display: none; }` but bootstrap.min.css set `[hidden] { display: none !important; }` so we also need the `!important` here to be able to override the default hidden behavior on the sphinx rendered scikit-learn.org. See: https://github.com/scikit-learn/scikit-learn/issues/21755 */display: inline-block !important;position: relative;}#sk-container-id-6 div.sk-text-repr-fallback {display: none;}</style><div id=\"sk-container-id-6\" class=\"sk-top-container\"><div class=\"sk-text-repr-fallback\"><pre>XGBClassifier(base_score=0.5, booster=&#x27;gbtree&#x27;, callbacks=None,\n",
       "              colsample_bylevel=1, colsample_bynode=1, colsample_bytree=0.8,\n",
       "              early_stopping_rounds=None, enable_categorical=False,\n",
       "              eval_metric=None, gamma=0, gpu_id=-1, grow_policy=&#x27;depthwise&#x27;,\n",
       "              importance_type=None, interaction_constraints=&#x27;&#x27;,\n",
       "              learning_rate=0.01, max_bin=256, max_cat_to_onehot=4,\n",
       "              max_delta_step=0, max_depth=3, max_leaves=0, min_child_weight=1,\n",
       "              missing=nan, monotone_constraints=&#x27;()&#x27;, n_estimators=100,\n",
       "              n_jobs=-1, num_parallel_tree=1, predictor=&#x27;auto&#x27;, random_state=0,\n",
       "              reg_alpha=0, reg_lambda=1, ...)</pre><b>In a Jupyter environment, please rerun this cell to show the HTML representation or trust the notebook. <br />On GitHub, the HTML representation is unable to render, please try loading this page with nbviewer.org.</b></div><div class=\"sk-container\" hidden><div class=\"sk-item\"><div class=\"sk-estimator sk-toggleable\"><input class=\"sk-toggleable__control sk-hidden--visually\" id=\"sk-estimator-id-14\" type=\"checkbox\" checked><label for=\"sk-estimator-id-14\" class=\"sk-toggleable__label sk-toggleable__label-arrow\">XGBClassifier</label><div class=\"sk-toggleable__content\"><pre>XGBClassifier(base_score=0.5, booster=&#x27;gbtree&#x27;, callbacks=None,\n",
       "              colsample_bylevel=1, colsample_bynode=1, colsample_bytree=0.8,\n",
       "              early_stopping_rounds=None, enable_categorical=False,\n",
       "              eval_metric=None, gamma=0, gpu_id=-1, grow_policy=&#x27;depthwise&#x27;,\n",
       "              importance_type=None, interaction_constraints=&#x27;&#x27;,\n",
       "              learning_rate=0.01, max_bin=256, max_cat_to_onehot=4,\n",
       "              max_delta_step=0, max_depth=3, max_leaves=0, min_child_weight=1,\n",
       "              missing=nan, monotone_constraints=&#x27;()&#x27;, n_estimators=100,\n",
       "              n_jobs=-1, num_parallel_tree=1, predictor=&#x27;auto&#x27;, random_state=0,\n",
       "              reg_alpha=0, reg_lambda=1, ...)</pre></div></div></div></div></div>"
      ],
      "text/plain": [
       "XGBClassifier(base_score=0.5, booster='gbtree', callbacks=None,\n",
       "              colsample_bylevel=1, colsample_bynode=1, colsample_bytree=0.8,\n",
       "              early_stopping_rounds=None, enable_categorical=False,\n",
       "              eval_metric=None, gamma=0, gpu_id=-1, grow_policy='depthwise',\n",
       "              importance_type=None, interaction_constraints='',\n",
       "              learning_rate=0.01, max_bin=256, max_cat_to_onehot=4,\n",
       "              max_delta_step=0, max_depth=3, max_leaves=0, min_child_weight=1,\n",
       "              missing=nan, monotone_constraints='()', n_estimators=100,\n",
       "              n_jobs=-1, num_parallel_tree=1, predictor='auto', random_state=0,\n",
       "              reg_alpha=0, reg_lambda=1, ...)"
      ]
     },
     "execution_count": 49,
     "metadata": {},
     "output_type": "execute_result"
    }
   ],
   "source": [
    "model_6.fit(X_train, y_train.values.ravel())"
   ]
  },
  {
   "cell_type": "code",
   "execution_count": 50,
   "id": "2ade348f",
   "metadata": {
    "execution": {
     "iopub.execute_input": "2023-03-09T18:23:50.300981Z",
     "iopub.status.busy": "2023-03-09T18:23:50.299604Z",
     "iopub.status.idle": "2023-03-09T18:23:50.329794Z",
     "shell.execute_reply": "2023-03-09T18:23:50.328665Z"
    },
    "papermill": {
     "duration": 0.078517,
     "end_time": "2023-03-09T18:23:50.332683",
     "exception": false,
     "start_time": "2023-03-09T18:23:50.254166",
     "status": "completed"
    },
    "tags": []
   },
   "outputs": [],
   "source": [
    "p_train_6 = model_6.predict(X_train)\n",
    "p_test_6 = model_6.predict(X_test)\n",
    "p_train_proba_6 = model_6.predict_proba(X_train)[:,1]\n",
    "p_test_proba_6 = model_6.predict_proba(X_test)[:,1]"
   ]
  },
  {
   "cell_type": "code",
   "execution_count": 51,
   "id": "809eb854",
   "metadata": {
    "execution": {
     "iopub.execute_input": "2023-03-09T18:23:50.424101Z",
     "iopub.status.busy": "2023-03-09T18:23:50.423637Z",
     "iopub.status.idle": "2023-03-09T18:23:51.389438Z",
     "shell.execute_reply": "2023-03-09T18:23:51.388446Z"
    },
    "papermill": {
     "duration": 1.013385,
     "end_time": "2023-03-09T18:23:51.391814",
     "exception": false,
     "start_time": "2023-03-09T18:23:50.378429",
     "status": "completed"
    },
    "tags": []
   },
   "outputs": [
    {
     "name": "stdout",
     "output_type": "stream",
     "text": [
      "=============================================\n",
      "Scoring Metrics for XGBoost (Validation)\n",
      "=============================================\n",
      "Balanced Accuracy Score = 0.887\n",
      "Accuracy Score = 0.891\n",
      "Precision Score = 0.898\n",
      "F1 Score = 0.907\n",
      "Recall Score = 0.915\n",
      "ROC AUC Score = 0.887\n",
      "Confusion Matrix\n",
      "==================\n",
      "[[67 11]\n",
      " [ 9 97]]\n",
      "==================\n",
      "              precision    recall  f1-score   support\n",
      "\n",
      "           0       0.88      0.86      0.87        78\n",
      "           1       0.90      0.92      0.91       106\n",
      "\n",
      "    accuracy                           0.89       184\n",
      "   macro avg       0.89      0.89      0.89       184\n",
      "weighted avg       0.89      0.89      0.89       184\n",
      "\n",
      "=============================================\n",
      "Scoring Metrics for XGBoost (Training)\n",
      "=============================================\n",
      "Balanced Accuracy Score = 0.892\n",
      "Accuracy Score = 0.896\n",
      "Precision Score = 0.879\n",
      "F1 Score = 0.909\n",
      "Recall Score = 0.940\n",
      "ROC AUC Score = 0.892\n",
      "Confusion Matrix\n",
      "==================\n",
      "[[280  52]\n",
      " [ 24 378]]\n",
      "==================\n",
      "              precision    recall  f1-score   support\n",
      "\n",
      "           0       0.92      0.84      0.88       332\n",
      "           1       0.88      0.94      0.91       402\n",
      "\n",
      "    accuracy                           0.90       734\n",
      "   macro avg       0.90      0.89      0.89       734\n",
      "weighted avg       0.90      0.90      0.90       734\n",
      "\n",
      "======= ROC Curve and Precision x Recall Curve =======\n"
     ]
    },
    {
     "name": "stderr",
     "output_type": "stream",
     "text": [
      "C:\\Users\\jinen\\AppData\\Local\\Temp\\ipykernel_2448\\4262248699.py:21: FutureWarning: The frame.append method is deprecated and will be removed from pandas in a future version. Use pandas.concat instead.\n",
      "  df_performance = df_performance.append({'Model':model_name\n"
     ]
    },
    {
     "data": {
      "image/png": "[encoded data removed]",
      "text/plain": [
       "<Figure size 432x288 with 2 Axes>"
      ]
     },
     "metadata": {
      "needs_background": "light"
     },
     "output_type": "display_data"
    },
    {
     "data": {
      "image/png": "[encoded data removed]",
      "text/plain": [
       "<Figure size 432x288 with 2 Axes>"
      ]
     },
     "metadata": {
      "needs_background": "light"
     },
     "output_type": "display_data"
    },
    {
     "data": {
      "image/png": "[encoded data removed]",
      "text/plain": [
       "<Figure size 1152x432 with 2 Axes>"
      ]
     },
     "metadata": {
      "needs_background": "light"
     },
     "output_type": "display_data"
    }
   ],
   "source": [
    "model_performance(p_test_6, p_train_6, p_test_proba_6, p_train_proba_6, y_test, y_train, 'XGBoost')"
   ]
  },
  {
   "cell_type": "markdown",
   "id": "6791b97f",
   "metadata": {
    "papermill": {
     "duration": 0.044399,
     "end_time": "2023-03-09T18:23:51.481911",
     "exception": false,
     "start_time": "2023-03-09T18:23:51.437512",
     "status": "completed"
    },
    "tags": []
   },
   "source": [
    "####  Model 7 - LGBM"
   ]
  },
  {
   "cell_type": "code",
   "execution_count": 52,
   "id": "aa2954cb",
   "metadata": {
    "execution": {
     "iopub.execute_input": "2023-03-09T18:23:51.575088Z",
     "iopub.status.busy": "2023-03-09T18:23:51.574590Z",
     "iopub.status.idle": "2023-03-09T18:23:51.580949Z",
     "shell.execute_reply": "2023-03-09T18:23:51.579496Z"
    },
    "papermill": {
     "duration": 0.056594,
     "end_time": "2023-03-09T18:23:51.583688",
     "exception": false,
     "start_time": "2023-03-09T18:23:51.527094",
     "status": "completed"
    },
    "tags": []
   },
   "outputs": [],
   "source": [
    "model_7 = LGBMClassifier(random_state=1234, boosting_type= 'gbdt', objective= 'binary', feature_fraction=0.7, bagging_fraction=0.7, learning_rate=0.01, max_depth=1, silent=True, metric='auc', n_estimators=5000, n_jobs = -1)\n"
   ]
  },
  {
   "cell_type": "code",
   "execution_count": 53,
   "id": "c00eae92",
   "metadata": {
    "_kg_hide-output": true,
    "execution": {
     "iopub.execute_input": "2023-03-09T18:23:51.678826Z",
     "iopub.status.busy": "2023-03-09T18:23:51.678075Z",
     "iopub.status.idle": "2023-03-09T18:23:53.808357Z",
     "shell.execute_reply": "2023-03-09T18:23:53.807020Z"
    },
    "papermill": {
     "duration": 2.181992,
     "end_time": "2023-03-09T18:23:53.811869",
     "exception": false,
     "start_time": "2023-03-09T18:23:51.629877",
     "status": "completed"
    },
    "tags": []
   },
   "outputs": [
    {
     "name": "stderr",
     "output_type": "stream",
     "text": [
      "C:\\Users\\jinen\\AppData\\Local\\Programs\\Python\\Python310\\lib\\site-packages\\lightgbm\\sklearn.py:598: UserWarning: 'silent' argument is deprecated and will be removed in a future release of LightGBM. Pass 'verbose' parameter via keyword arguments instead.\n",
      "  _log_warning(\"'silent' argument is deprecated and will be removed in a future release of LightGBM. \"\n"
     ]
    },
    {
     "name": "stdout",
     "output_type": "stream",
     "text": [
      "[LightGBM] [Warning] feature_fraction is set=0.7, colsample_bytree=1.0 will be ignored. Current value: feature_fraction=0.7\n",
      "[LightGBM] [Warning] bagging_fraction is set=0.7, subsample=1.0 will be ignored. Current value: bagging_fraction=0.7\n"
     ]
    },
    {
     "data": {
      "text/html": [
       "<style>#sk-container-id-7 {color: black;background-color: white;}#sk-container-id-7 pre{padding: 0;}#sk-container-id-7 div.sk-toggleable {background-color: white;}#sk-container-id-7 label.sk-toggleable__label {cursor: pointer;display: block;width: 100%;margin-bottom: 0;padding: 0.3em;box-sizing: border-box;text-align: center;}#sk-container-id-7 label.sk-toggleable__label-arrow:before {content: \"▸\";float: left;margin-right: 0.25em;color: #696969;}#sk-container-id-7 label.sk-toggleable__label-arrow:hover:before {color: black;}#sk-container-id-7 div.sk-estimator:hover label.sk-toggleable__label-arrow:before {color: black;}#sk-container-id-7 div.sk-toggleable__content {max-height: 0;max-width: 0;overflow: hidden;text-align: left;background-color: #f0f8ff;}#sk-container-id-7 div.sk-toggleable__content pre {margin: 0.2em;color: black;border-radius: 0.25em;background-color: #f0f8ff;}#sk-container-id-7 input.sk-toggleable__control:checked~div.sk-toggleable__content {max-height: 200px;max-width: 100%;overflow: auto;}#sk-container-id-7 input.sk-toggleable__control:checked~label.sk-toggleable__label-arrow:before {content: \"▾\";}#sk-container-id-7 div.sk-estimator input.sk-toggleable__control:checked~label.sk-toggleable__label {background-color: #d4ebff;}#sk-container-id-7 div.sk-label input.sk-toggleable__control:checked~label.sk-toggleable__label {background-color: #d4ebff;}#sk-container-id-7 input.sk-hidden--visually {border: 0;clip: rect(1px 1px 1px 1px);clip: rect(1px, 1px, 1px, 1px);height: 1px;margin: -1px;overflow: hidden;padding: 0;position: absolute;width: 1px;}#sk-container-id-7 div.sk-estimator {font-family: monospace;background-color: #f0f8ff;border: 1px dotted black;border-radius: 0.25em;box-sizing: border-box;margin-bottom: 0.5em;}#sk-container-id-7 div.sk-estimator:hover {background-color: #d4ebff;}#sk-container-id-7 div.sk-parallel-item::after {content: \"\";width: 100%;border-bottom: 1px solid gray;flex-grow: 1;}#sk-container-id-7 div.sk-label:hover label.sk-toggleable__label {background-color: #d4ebff;}#sk-container-id-7 div.sk-serial::before {content: \"\";position: absolute;border-left: 1px solid gray;box-sizing: border-box;top: 0;bottom: 0;left: 50%;z-index: 0;}#sk-container-id-7 div.sk-serial {display: flex;flex-direction: column;align-items: center;background-color: white;padding-right: 0.2em;padding-left: 0.2em;position: relative;}#sk-container-id-7 div.sk-item {position: relative;z-index: 1;}#sk-container-id-7 div.sk-parallel {display: flex;align-items: stretch;justify-content: center;background-color: white;position: relative;}#sk-container-id-7 div.sk-item::before, #sk-container-id-7 div.sk-parallel-item::before {content: \"\";position: absolute;border-left: 1px solid gray;box-sizing: border-box;top: 0;bottom: 0;left: 50%;z-index: -1;}#sk-container-id-7 div.sk-parallel-item {display: flex;flex-direction: column;z-index: 1;position: relative;background-color: white;}#sk-container-id-7 div.sk-parallel-item:first-child::after {align-self: flex-end;width: 50%;}#sk-container-id-7 div.sk-parallel-item:last-child::after {align-self: flex-start;width: 50%;}#sk-container-id-7 div.sk-parallel-item:only-child::after {width: 0;}#sk-container-id-7 div.sk-dashed-wrapped {border: 1px dashed gray;margin: 0 0.4em 0.5em 0.4em;box-sizing: border-box;padding-bottom: 0.4em;background-color: white;}#sk-container-id-7 div.sk-label label {font-family: monospace;font-weight: bold;display: inline-block;line-height: 1.2em;}#sk-container-id-7 div.sk-label-container {text-align: center;}#sk-container-id-7 div.sk-container {/* jupyter's `normalize.less` sets `[hidden] { display: none; }` but bootstrap.min.css set `[hidden] { display: none !important; }` so we also need the `!important` here to be able to override the default hidden behavior on the sphinx rendered scikit-learn.org. See: https://github.com/scikit-learn/scikit-learn/issues/21755 */display: inline-block !important;position: relative;}#sk-container-id-7 div.sk-text-repr-fallback {display: none;}</style><div id=\"sk-container-id-7\" class=\"sk-top-container\"><div class=\"sk-text-repr-fallback\"><pre>LGBMClassifier(bagging_fraction=0.7, feature_fraction=0.7, learning_rate=0.01,\n",
       "               max_depth=1, metric=&#x27;auc&#x27;, n_estimators=5000, objective=&#x27;binary&#x27;,\n",
       "               random_state=1234, silent=True)</pre><b>In a Jupyter environment, please rerun this cell to show the HTML representation or trust the notebook. <br />On GitHub, the HTML representation is unable to render, please try loading this page with nbviewer.org.</b></div><div class=\"sk-container\" hidden><div class=\"sk-item\"><div class=\"sk-estimator sk-toggleable\"><input class=\"sk-toggleable__control sk-hidden--visually\" id=\"sk-estimator-id-15\" type=\"checkbox\" checked><label for=\"sk-estimator-id-15\" class=\"sk-toggleable__label sk-toggleable__label-arrow\">LGBMClassifier</label><div class=\"sk-toggleable__content\"><pre>LGBMClassifier(bagging_fraction=0.7, feature_fraction=0.7, learning_rate=0.01,\n",
       "               max_depth=1, metric=&#x27;auc&#x27;, n_estimators=5000, objective=&#x27;binary&#x27;,\n",
       "               random_state=1234, silent=True)</pre></div></div></div></div></div>"
      ],
      "text/plain": [
       "LGBMClassifier(bagging_fraction=0.7, feature_fraction=0.7, learning_rate=0.01,\n",
       "               max_depth=1, metric='auc', n_estimators=5000, objective='binary',\n",
       "               random_state=1234, silent=True)"
      ]
     },
     "execution_count": 53,
     "metadata": {},
     "output_type": "execute_result"
    }
   ],
   "source": [
    "model_7.fit(X_train, y_train.values.ravel())"
   ]
  },
  {
   "cell_type": "code",
   "execution_count": 54,
   "id": "5be40a3b",
   "metadata": {
    "execution": {
     "iopub.execute_input": "2023-03-09T18:23:53.905591Z",
     "iopub.status.busy": "2023-03-09T18:23:53.904779Z",
     "iopub.status.idle": "2023-03-09T18:23:54.034650Z",
     "shell.execute_reply": "2023-03-09T18:23:54.033627Z"
    },
    "papermill": {
     "duration": 0.180592,
     "end_time": "2023-03-09T18:23:54.037470",
     "exception": false,
     "start_time": "2023-03-09T18:23:53.856878",
     "status": "completed"
    },
    "tags": []
   },
   "outputs": [],
   "source": [
    "p_train_7 = model_7.predict(X_train)\n",
    "p_test_7 = model_7.predict(X_test)\n",
    "p_train_proba_7 = model_7.predict_proba(X_train)[:,1]\n",
    "p_test_proba_7 = model_7.predict_proba(X_test)[:,1]"
   ]
  },
  {
   "cell_type": "code",
   "execution_count": 55,
   "id": "9692d021",
   "metadata": {
    "execution": {
     "iopub.execute_input": "2023-03-09T18:23:54.130610Z",
     "iopub.status.busy": "2023-03-09T18:23:54.129659Z",
     "iopub.status.idle": "2023-03-09T18:23:55.630889Z",
     "shell.execute_reply": "2023-03-09T18:23:55.629586Z"
    },
    "papermill": {
     "duration": 1.551311,
     "end_time": "2023-03-09T18:23:55.633903",
     "exception": false,
     "start_time": "2023-03-09T18:23:54.082592",
     "status": "completed"
    },
    "tags": []
   },
   "outputs": [
    {
     "name": "stdout",
     "output_type": "stream",
     "text": [
      "=============================================\n",
      "Scoring Metrics for LGBM (Validation)\n",
      "=============================================\n",
      "Balanced Accuracy Score = 0.870\n",
      "Accuracy Score = 0.870\n",
      "Precision Score = 0.902\n",
      "F1 Score = 0.885\n",
      "Recall Score = 0.868\n",
      "ROC AUC Score = 0.870\n",
      "Confusion Matrix\n",
      "==================\n",
      "[[68 10]\n",
      " [14 92]]\n",
      "==================\n",
      "              precision    recall  f1-score   support\n",
      "\n",
      "           0       0.83      0.87      0.85        78\n",
      "           1       0.90      0.87      0.88       106\n",
      "\n",
      "    accuracy                           0.87       184\n",
      "   macro avg       0.87      0.87      0.87       184\n",
      "weighted avg       0.87      0.87      0.87       184\n",
      "\n",
      "=============================================\n",
      "Scoring Metrics for LGBM (Training)\n",
      "=============================================\n",
      "Balanced Accuracy Score = 0.909\n",
      "Accuracy Score = 0.911\n",
      "Precision Score = 0.908\n",
      "F1 Score = 0.920\n",
      "Recall Score = 0.933\n",
      "ROC AUC Score = 0.909\n",
      "Confusion Matrix\n",
      "==================\n",
      "[[294  38]\n",
      " [ 27 375]]\n",
      "==================\n",
      "              precision    recall  f1-score   support\n",
      "\n",
      "           0       0.92      0.89      0.90       332\n",
      "           1       0.91      0.93      0.92       402\n",
      "\n",
      "    accuracy                           0.91       734\n",
      "   macro avg       0.91      0.91      0.91       734\n",
      "weighted avg       0.91      0.91      0.91       734\n",
      "\n",
      "======= ROC Curve and Precision x Recall Curve =======\n"
     ]
    },
    {
     "name": "stderr",
     "output_type": "stream",
     "text": [
      "C:\\Users\\jinen\\AppData\\Local\\Temp\\ipykernel_2448\\4262248699.py:21: FutureWarning: The frame.append method is deprecated and will be removed from pandas in a future version. Use pandas.concat instead.\n",
      "  df_performance = df_performance.append({'Model':model_name\n"
     ]
    },
    {
     "data": {
      "image/png": "[encoded data removed]",
      "text/plain": [
       "<Figure size 432x288 with 2 Axes>"
      ]
     },
     "metadata": {
      "needs_background": "light"
     },
     "output_type": "display_data"
    },
    {
     "data": {
      "image/png": "[encoded data removed]",
      "text/plain": [
       "<Figure size 432x288 with 2 Axes>"
      ]
     },
     "metadata": {
      "needs_background": "light"
     },
     "output_type": "display_data"
    },
    {
     "data": {
      "image/png": "[encoded data removed]",
      "text/plain": [
       "<Figure size 1152x432 with 2 Axes>"
      ]
     },
     "metadata": {
      "needs_background": "light"
     },
     "output_type": "display_data"
    }
   ],
   "source": [
    "model_performance(p_test_7, p_train_7, p_test_proba_7, p_train_proba_7, y_test, y_train, 'LGBM')"
   ]
  },
  {
   "cell_type": "markdown",
   "id": "4de81790",
   "metadata": {
    "papermill": {
     "duration": 0.047973,
     "end_time": "2023-03-09T18:23:55.731071",
     "exception": false,
     "start_time": "2023-03-09T18:23:55.683098",
     "status": "completed"
    },
    "tags": []
   },
   "source": [
    "####  Model 8 - Voting Ensemble"
   ]
  },
  {
   "cell_type": "code",
   "execution_count": 56,
   "id": "dac4a88e",
   "metadata": {
    "execution": {
     "iopub.execute_input": "2023-03-09T18:23:55.831627Z",
     "iopub.status.busy": "2023-03-09T18:23:55.831130Z",
     "iopub.status.idle": "2023-03-09T18:23:55.839901Z",
     "shell.execute_reply": "2023-03-09T18:23:55.838490Z"
    },
    "papermill": {
     "duration": 0.062391,
     "end_time": "2023-03-09T18:23:55.842493",
     "exception": false,
     "start_time": "2023-03-09T18:23:55.780102",
     "status": "completed"
    },
    "tags": []
   },
   "outputs": [],
   "source": [
    "# Instantiate the learners (classifiers)\n",
    "learner_1 = LogisticRegression(**model_1.best_params_, max_iter=10000)\n",
    "learner_2 = DecisionTreeClassifier(**model_2.best_params_)\n",
    "learner_3 = KNeighborsClassifier(n_neighbors=10)\n",
    "learner_4 = RandomForestClassifier(**model_4.best_params_)\n",
    "learner_5 = XGBClassifier(n_estimators=100, learning_rate=0.01, max_depth = 3, colsample_bytree = 0.8, subsample= 0.8, n_jobs=-1)\n",
    "learner_6 = naive_bayes.GaussianNB()\n",
    "learner_7 = SVC(gamma=0.001, probability=True)\n",
    "learner_8 = LGBMClassifier(random_state=1234, boosting_type= 'gbdt', objective= 'binary', feature_fraction=0.7, bagging_fraction=0.7, learning_rate=0.01, max_depth=1, silent=True, metric='auc', n_estimators=5000, n_jobs = -1)"
   ]
  },
  {
   "cell_type": "markdown",
   "id": "6f369d9d",
   "metadata": {
    "papermill": {
     "duration": 0.050922,
     "end_time": "2023-03-09T18:23:55.942473",
     "exception": false,
     "start_time": "2023-03-09T18:23:55.891551",
     "status": "completed"
    },
    "tags": []
   },
   "source": [
    "## Hard Voting "
   ]
  },
  {
   "cell_type": "code",
   "execution_count": 57,
   "id": "924ba655",
   "metadata": {
    "_kg_hide-output": false,
    "execution": {
     "iopub.execute_input": "2023-03-09T18:23:56.045768Z",
     "iopub.status.busy": "2023-03-09T18:23:56.045295Z",
     "iopub.status.idle": "2023-03-09T18:23:56.051753Z",
     "shell.execute_reply": "2023-03-09T18:23:56.050487Z"
    },
    "papermill": {
     "duration": 0.061052,
     "end_time": "2023-03-09T18:23:56.054369",
     "exception": false,
     "start_time": "2023-03-09T18:23:55.993317",
     "status": "completed"
    },
    "tags": []
   },
   "outputs": [],
   "source": [
    "# Instantiate the voting classifier\n",
    "hard_voting = VotingClassifier([('LogReg', learner_1),\n",
    "                           ('Tree', learner_2),\n",
    "                           ('KNN', learner_3),\n",
    "                           ('Forest', learner_4),\n",
    "                          ('XGBoost', learner_5),\n",
    "                          ('NB', learner_6),\n",
    "                          ('LGBM', learner_8)\n",
    "                               ],\n",
    "                            voting='hard')\n"
   ]
  },
  {
   "cell_type": "code",
   "execution_count": 58,
   "id": "c1cb8ca3",
   "metadata": {
    "_kg_hide-output": true,
    "execution": {
     "iopub.execute_input": "2023-03-09T18:23:56.156873Z",
     "iopub.status.busy": "2023-03-09T18:23:56.156432Z",
     "iopub.status.idle": "2023-03-09T18:23:58.588661Z",
     "shell.execute_reply": "2023-03-09T18:23:58.587361Z"
    },
    "papermill": {
     "duration": 2.486284,
     "end_time": "2023-03-09T18:23:58.591609",
     "exception": false,
     "start_time": "2023-03-09T18:23:56.105325",
     "status": "completed"
    },
    "tags": []
   },
   "outputs": [
    {
     "name": "stderr",
     "output_type": "stream",
     "text": [
      "C:\\Users\\jinen\\AppData\\Local\\Programs\\Python\\Python310\\lib\\site-packages\\lightgbm\\sklearn.py:598: UserWarning: 'silent' argument is deprecated and will be removed in a future release of LightGBM. Pass 'verbose' parameter via keyword arguments instead.\n",
      "  _log_warning(\"'silent' argument is deprecated and will be removed in a future release of LightGBM. \"\n"
     ]
    },
    {
     "name": "stdout",
     "output_type": "stream",
     "text": [
      "[LightGBM] [Warning] feature_fraction is set=0.7, colsample_bytree=1.0 will be ignored. Current value: feature_fraction=0.7\n",
      "[LightGBM] [Warning] bagging_fraction is set=0.7, subsample=1.0 will be ignored. Current value: bagging_fraction=0.7\n"
     ]
    },
    {
     "data": {
      "text/html": [
       "<style>#sk-container-id-8 {color: black;background-color: white;}#sk-container-id-8 pre{padding: 0;}#sk-container-id-8 div.sk-toggleable {background-color: white;}#sk-container-id-8 label.sk-toggleable__label {cursor: pointer;display: block;width: 100%;margin-bottom: 0;padding: 0.3em;box-sizing: border-box;text-align: center;}#sk-container-id-8 label.sk-toggleable__label-arrow:before {content: \"▸\";float: left;margin-right: 0.25em;color: #696969;}#sk-container-id-8 label.sk-toggleable__label-arrow:hover:before {color: black;}#sk-container-id-8 div.sk-estimator:hover label.sk-toggleable__label-arrow:before {color: black;}#sk-container-id-8 div.sk-toggleable__content {max-height: 0;max-width: 0;overflow: hidden;text-align: left;background-color: #f0f8ff;}#sk-container-id-8 div.sk-toggleable__content pre {margin: 0.2em;color: black;border-radius: 0.25em;background-color: #f0f8ff;}#sk-container-id-8 input.sk-toggleable__control:checked~div.sk-toggleable__content {max-height: 200px;max-width: 100%;overflow: auto;}#sk-container-id-8 input.sk-toggleable__control:checked~label.sk-toggleable__label-arrow:before {content: \"▾\";}#sk-container-id-8 div.sk-estimator input.sk-toggleable__control:checked~label.sk-toggleable__label {background-color: #d4ebff;}#sk-container-id-8 div.sk-label input.sk-toggleable__control:checked~label.sk-toggleable__label {background-color: #d4ebff;}#sk-container-id-8 input.sk-hidden--visually {border: 0;clip: rect(1px 1px 1px 1px);clip: rect(1px, 1px, 1px, 1px);height: 1px;margin: -1px;overflow: hidden;padding: 0;position: absolute;width: 1px;}#sk-container-id-8 div.sk-estimator {font-family: monospace;background-color: #f0f8ff;border: 1px dotted black;border-radius: 0.25em;box-sizing: border-box;margin-bottom: 0.5em;}#sk-container-id-8 div.sk-estimator:hover {background-color: #d4ebff;}#sk-container-id-8 div.sk-parallel-item::after {content: \"\";width: 100%;border-bottom: 1px solid gray;flex-grow: 1;}#sk-container-id-8 div.sk-label:hover label.sk-toggleable__label {background-color: #d4ebff;}#sk-container-id-8 div.sk-serial::before {content: \"\";position: absolute;border-left: 1px solid gray;box-sizing: border-box;top: 0;bottom: 0;left: 50%;z-index: 0;}#sk-container-id-8 div.sk-serial {display: flex;flex-direction: column;align-items: center;background-color: white;padding-right: 0.2em;padding-left: 0.2em;position: relative;}#sk-container-id-8 div.sk-item {position: relative;z-index: 1;}#sk-container-id-8 div.sk-parallel {display: flex;align-items: stretch;justify-content: center;background-color: white;position: relative;}#sk-container-id-8 div.sk-item::before, #sk-container-id-8 div.sk-parallel-item::before {content: \"\";position: absolute;border-left: 1px solid gray;box-sizing: border-box;top: 0;bottom: 0;left: 50%;z-index: -1;}#sk-container-id-8 div.sk-parallel-item {display: flex;flex-direction: column;z-index: 1;position: relative;background-color: white;}#sk-container-id-8 div.sk-parallel-item:first-child::after {align-self: flex-end;width: 50%;}#sk-container-id-8 div.sk-parallel-item:last-child::after {align-self: flex-start;width: 50%;}#sk-container-id-8 div.sk-parallel-item:only-child::after {width: 0;}#sk-container-id-8 div.sk-dashed-wrapped {border: 1px dashed gray;margin: 0 0.4em 0.5em 0.4em;box-sizing: border-box;padding-bottom: 0.4em;background-color: white;}#sk-container-id-8 div.sk-label label {font-family: monospace;font-weight: bold;display: inline-block;line-height: 1.2em;}#sk-container-id-8 div.sk-label-container {text-align: center;}#sk-container-id-8 div.sk-container {/* jupyter's `normalize.less` sets `[hidden] { display: none; }` but bootstrap.min.css set `[hidden] { display: none !important; }` so we also need the `!important` here to be able to override the default hidden behavior on the sphinx rendered scikit-learn.org. See: https://github.com/scikit-learn/scikit-learn/issues/21755 */display: inline-block !important;position: relative;}#sk-container-id-8 div.sk-text-repr-fallback {display: none;}</style><div id=\"sk-container-id-8\" class=\"sk-top-container\"><div class=\"sk-text-repr-fallback\"><pre>VotingClassifier(estimators=[(&#x27;LogReg&#x27;,\n",
       "                              LogisticRegression(max_iter=10000,\n",
       "                                                 solver=&#x27;liblinear&#x27;)),\n",
       "                             (&#x27;Tree&#x27;,\n",
       "                              DecisionTreeClassifier(max_depth=5,\n",
       "                                                     min_samples_leaf=25,\n",
       "                                                     min_samples_split=20)),\n",
       "                             (&#x27;KNN&#x27;, KNeighborsClassifier(n_neighbors=10)),\n",
       "                             (&#x27;Forest&#x27;,\n",
       "                              RandomForestClassifier(max_depth=5,\n",
       "                                                     min_samples_leaf=25,\n",
       "                                                     min_samples_split=20,\n",
       "                                                     n_estimators=75)),\n",
       "                             (&#x27;XGBoost&#x27;,\n",
       "                              XGBClassif...\n",
       "                                            min_child_weight=None, missing=nan,\n",
       "                                            monotone_constraints=None,\n",
       "                                            n_estimators=100, n_jobs=-1,\n",
       "                                            num_parallel_tree=None,\n",
       "                                            predictor=None, random_state=None,\n",
       "                                            reg_alpha=None, reg_lambda=None, ...)),\n",
       "                             (&#x27;NB&#x27;, GaussianNB()),\n",
       "                             (&#x27;LGBM&#x27;,\n",
       "                              LGBMClassifier(bagging_fraction=0.7,\n",
       "                                             feature_fraction=0.7,\n",
       "                                             learning_rate=0.01, max_depth=1,\n",
       "                                             metric=&#x27;auc&#x27;, n_estimators=5000,\n",
       "                                             objective=&#x27;binary&#x27;,\n",
       "                                             random_state=1234, silent=True))])</pre><b>In a Jupyter environment, please rerun this cell to show the HTML representation or trust the notebook. <br />On GitHub, the HTML representation is unable to render, please try loading this page with nbviewer.org.</b></div><div class=\"sk-container\" hidden><div class=\"sk-item sk-dashed-wrapped\"><div class=\"sk-label-container\"><div class=\"sk-label sk-toggleable\"><input class=\"sk-toggleable__control sk-hidden--visually\" id=\"sk-estimator-id-16\" type=\"checkbox\" ><label for=\"sk-estimator-id-16\" class=\"sk-toggleable__label sk-toggleable__label-arrow\">VotingClassifier</label><div class=\"sk-toggleable__content\"><pre>VotingClassifier(estimators=[(&#x27;LogReg&#x27;,\n",
       "                              LogisticRegression(max_iter=10000,\n",
       "                                                 solver=&#x27;liblinear&#x27;)),\n",
       "                             (&#x27;Tree&#x27;,\n",
       "                              DecisionTreeClassifier(max_depth=5,\n",
       "                                                     min_samples_leaf=25,\n",
       "                                                     min_samples_split=20)),\n",
       "                             (&#x27;KNN&#x27;, KNeighborsClassifier(n_neighbors=10)),\n",
       "                             (&#x27;Forest&#x27;,\n",
       "                              RandomForestClassifier(max_depth=5,\n",
       "                                                     min_samples_leaf=25,\n",
       "                                                     min_samples_split=20,\n",
       "                                                     n_estimators=75)),\n",
       "                             (&#x27;XGBoost&#x27;,\n",
       "                              XGBClassif...\n",
       "                                            min_child_weight=None, missing=nan,\n",
       "                                            monotone_constraints=None,\n",
       "                                            n_estimators=100, n_jobs=-1,\n",
       "                                            num_parallel_tree=None,\n",
       "                                            predictor=None, random_state=None,\n",
       "                                            reg_alpha=None, reg_lambda=None, ...)),\n",
       "                             (&#x27;NB&#x27;, GaussianNB()),\n",
       "                             (&#x27;LGBM&#x27;,\n",
       "                              LGBMClassifier(bagging_fraction=0.7,\n",
       "                                             feature_fraction=0.7,\n",
       "                                             learning_rate=0.01, max_depth=1,\n",
       "                                             metric=&#x27;auc&#x27;, n_estimators=5000,\n",
       "                                             objective=&#x27;binary&#x27;,\n",
       "                                             random_state=1234, silent=True))])</pre></div></div></div><div class=\"sk-parallel\"><div class=\"sk-parallel-item\"><div class=\"sk-item\"><div class=\"sk-label-container\"><div class=\"sk-label sk-toggleable\"><label>LogReg</label></div></div><div class=\"sk-serial\"><div class=\"sk-item\"><div class=\"sk-estimator sk-toggleable\"><input class=\"sk-toggleable__control sk-hidden--visually\" id=\"sk-estimator-id-17\" type=\"checkbox\" ><label for=\"sk-estimator-id-17\" class=\"sk-toggleable__label sk-toggleable__label-arrow\">LogisticRegression</label><div class=\"sk-toggleable__content\"><pre>LogisticRegression(max_iter=10000, solver=&#x27;liblinear&#x27;)</pre></div></div></div></div></div></div><div class=\"sk-parallel-item\"><div class=\"sk-item\"><div class=\"sk-label-container\"><div class=\"sk-label sk-toggleable\"><label>Tree</label></div></div><div class=\"sk-serial\"><div class=\"sk-item\"><div class=\"sk-estimator sk-toggleable\"><input class=\"sk-toggleable__control sk-hidden--visually\" id=\"sk-estimator-id-18\" type=\"checkbox\" ><label for=\"sk-estimator-id-18\" class=\"sk-toggleable__label sk-toggleable__label-arrow\">DecisionTreeClassifier</label><div class=\"sk-toggleable__content\"><pre>DecisionTreeClassifier(max_depth=5, min_samples_leaf=25, min_samples_split=20)</pre></div></div></div></div></div></div><div class=\"sk-parallel-item\"><div class=\"sk-item\"><div class=\"sk-label-container\"><div class=\"sk-label sk-toggleable\"><label>KNN</label></div></div><div class=\"sk-serial\"><div class=\"sk-item\"><div class=\"sk-estimator sk-toggleable\"><input class=\"sk-toggleable__control sk-hidden--visually\" id=\"sk-estimator-id-19\" type=\"checkbox\" ><label for=\"sk-estimator-id-19\" class=\"sk-toggleable__label sk-toggleable__label-arrow\">KNeighborsClassifier</label><div class=\"sk-toggleable__content\"><pre>KNeighborsClassifier(n_neighbors=10)</pre></div></div></div></div></div></div><div class=\"sk-parallel-item\"><div class=\"sk-item\"><div class=\"sk-label-container\"><div class=\"sk-label sk-toggleable\"><label>Forest</label></div></div><div class=\"sk-serial\"><div class=\"sk-item\"><div class=\"sk-estimator sk-toggleable\"><input class=\"sk-toggleable__control sk-hidden--visually\" id=\"sk-estimator-id-20\" type=\"checkbox\" ><label for=\"sk-estimator-id-20\" class=\"sk-toggleable__label sk-toggleable__label-arrow\">RandomForestClassifier</label><div class=\"sk-toggleable__content\"><pre>RandomForestClassifier(max_depth=5, min_samples_leaf=25, min_samples_split=20,\n",
       "                       n_estimators=75)</pre></div></div></div></div></div></div><div class=\"sk-parallel-item\"><div class=\"sk-item\"><div class=\"sk-label-container\"><div class=\"sk-label sk-toggleable\"><label>XGBoost</label></div></div><div class=\"sk-serial\"><div class=\"sk-item\"><div class=\"sk-estimator sk-toggleable\"><input class=\"sk-toggleable__control sk-hidden--visually\" id=\"sk-estimator-id-21\" type=\"checkbox\" ><label for=\"sk-estimator-id-21\" class=\"sk-toggleable__label sk-toggleable__label-arrow\">XGBClassifier</label><div class=\"sk-toggleable__content\"><pre>XGBClassifier(base_score=None, booster=None, callbacks=None,\n",
       "              colsample_bylevel=None, colsample_bynode=None,\n",
       "              colsample_bytree=0.8, early_stopping_rounds=None,\n",
       "              enable_categorical=False, eval_metric=None, gamma=None,\n",
       "              gpu_id=None, grow_policy=None, importance_type=None,\n",
       "              interaction_constraints=None, learning_rate=0.01, max_bin=None,\n",
       "              max_cat_to_onehot=None, max_delta_step=None, max_depth=3,\n",
       "              max_leaves=None, min_child_weight=None, missing=nan,\n",
       "              monotone_constraints=None, n_estimators=100, n_jobs=-1,\n",
       "              num_parallel_tree=None, predictor=None, random_state=None,\n",
       "              reg_alpha=None, reg_lambda=None, ...)</pre></div></div></div></div></div></div><div class=\"sk-parallel-item\"><div class=\"sk-item\"><div class=\"sk-label-container\"><div class=\"sk-label sk-toggleable\"><label>NB</label></div></div><div class=\"sk-serial\"><div class=\"sk-item\"><div class=\"sk-estimator sk-toggleable\"><input class=\"sk-toggleable__control sk-hidden--visually\" id=\"sk-estimator-id-22\" type=\"checkbox\" ><label for=\"sk-estimator-id-22\" class=\"sk-toggleable__label sk-toggleable__label-arrow\">GaussianNB</label><div class=\"sk-toggleable__content\"><pre>GaussianNB()</pre></div></div></div></div></div></div><div class=\"sk-parallel-item\"><div class=\"sk-item\"><div class=\"sk-label-container\"><div class=\"sk-label sk-toggleable\"><label>LGBM</label></div></div><div class=\"sk-serial\"><div class=\"sk-item\"><div class=\"sk-estimator sk-toggleable\"><input class=\"sk-toggleable__control sk-hidden--visually\" id=\"sk-estimator-id-23\" type=\"checkbox\" ><label for=\"sk-estimator-id-23\" class=\"sk-toggleable__label sk-toggleable__label-arrow\">LGBMClassifier</label><div class=\"sk-toggleable__content\"><pre>LGBMClassifier(bagging_fraction=0.7, feature_fraction=0.7, learning_rate=0.01,\n",
       "               max_depth=1, metric=&#x27;auc&#x27;, n_estimators=5000, objective=&#x27;binary&#x27;,\n",
       "               random_state=1234, silent=True)</pre></div></div></div></div></div></div></div></div></div></div>"
      ],
      "text/plain": [
       "VotingClassifier(estimators=[('LogReg',\n",
       "                              LogisticRegression(max_iter=10000,\n",
       "                                                 solver='liblinear')),\n",
       "                             ('Tree',\n",
       "                              DecisionTreeClassifier(max_depth=5,\n",
       "                                                     min_samples_leaf=25,\n",
       "                                                     min_samples_split=20)),\n",
       "                             ('KNN', KNeighborsClassifier(n_neighbors=10)),\n",
       "                             ('Forest',\n",
       "                              RandomForestClassifier(max_depth=5,\n",
       "                                                     min_samples_leaf=25,\n",
       "                                                     min_samples_split=20,\n",
       "                                                     n_estimators=75)),\n",
       "                             ('XGBoost',\n",
       "                              XGBClassif...\n",
       "                                            min_child_weight=None, missing=nan,\n",
       "                                            monotone_constraints=None,\n",
       "                                            n_estimators=100, n_jobs=-1,\n",
       "                                            num_parallel_tree=None,\n",
       "                                            predictor=None, random_state=None,\n",
       "                                            reg_alpha=None, reg_lambda=None, ...)),\n",
       "                             ('NB', GaussianNB()),\n",
       "                             ('LGBM',\n",
       "                              LGBMClassifier(bagging_fraction=0.7,\n",
       "                                             feature_fraction=0.7,\n",
       "                                             learning_rate=0.01, max_depth=1,\n",
       "                                             metric='auc', n_estimators=5000,\n",
       "                                             objective='binary',\n",
       "                                             random_state=1234, silent=True))])"
      ]
     },
     "execution_count": 58,
     "metadata": {},
     "output_type": "execute_result"
    }
   ],
   "source": [
    "hard_voting.fit(X_train, y_train.values.ravel())"
   ]
  },
  {
   "cell_type": "code",
   "execution_count": 59,
   "id": "e2152006",
   "metadata": {
    "execution": {
     "iopub.execute_input": "2023-03-09T18:23:58.695528Z",
     "iopub.status.busy": "2023-03-09T18:23:58.695029Z",
     "iopub.status.idle": "2023-03-09T18:23:58.861220Z",
     "shell.execute_reply": "2023-03-09T18:23:58.860209Z"
    },
    "papermill": {
     "duration": 0.221946,
     "end_time": "2023-03-09T18:23:58.864151",
     "exception": false,
     "start_time": "2023-03-09T18:23:58.642205",
     "status": "completed"
    },
    "tags": []
   },
   "outputs": [],
   "source": [
    "p_train_hardvoting = hard_voting.predict(X_train)\n",
    "p_test_hardvoting = hard_voting.predict(X_test)"
   ]
  },
  {
   "cell_type": "code",
   "execution_count": 60,
   "id": "80203224",
   "metadata": {
    "_kg_hide-input": true,
    "execution": {
     "iopub.execute_input": "2023-03-09T18:23:58.975879Z",
     "iopub.status.busy": "2023-03-09T18:23:58.975014Z",
     "iopub.status.idle": "2023-03-09T18:23:59.597568Z",
     "shell.execute_reply": "2023-03-09T18:23:59.596530Z"
    },
    "papermill": {
     "duration": 0.684123,
     "end_time": "2023-03-09T18:23:59.600079",
     "exception": false,
     "start_time": "2023-03-09T18:23:58.915956",
     "status": "completed"
    },
    "tags": []
   },
   "outputs": [
    {
     "name": "stdout",
     "output_type": "stream",
     "text": [
      "=============================================\n",
      "Scoring Metrics for Hard Voting (Validation)\n",
      "=============================================\n",
      "Balanced Accuracy Score = 0.8917513304305758\n",
      "Accuracy Score = 0.8967391304347826\n",
      "Precision Score = 0.8990825688073395\n",
      "F1 Score = 0.9116279069767442\n",
      "Recall Score = 0.9245283018867925\n",
      "ROC AUC Score = 0.8917513304305758\n",
      "Confusion Matrix\n",
      "==================\n",
      "[[67 11]\n",
      " [ 8 98]]\n",
      "==================\n",
      "              precision    recall  f1-score   support\n",
      "\n",
      "           0       0.89      0.86      0.88        78\n",
      "           1       0.90      0.92      0.91       106\n",
      "\n",
      "    accuracy                           0.90       184\n",
      "   macro avg       0.90      0.89      0.89       184\n",
      "weighted avg       0.90      0.90      0.90       184\n",
      "\n",
      "=============================================\n",
      "Scoring Metrics for Hard Voting (Training)\n",
      "=============================================\n",
      "Balanced Accuracy Score = 0.8868608763411856\n",
      "Accuracy Score = 0.8910081743869209\n",
      "Precision Score = 0.8779342723004695\n",
      "F1 Score = 0.9033816425120773\n",
      "Recall Score = 0.9303482587064676\n",
      "ROC AUC Score = 0.8868608763411857\n",
      "Confusion Matrix\n",
      "==================\n",
      "[[280  52]\n",
      " [ 28 374]]\n",
      "==================\n",
      "              precision    recall  f1-score   support\n",
      "\n",
      "           0       0.91      0.84      0.88       332\n",
      "           1       0.88      0.93      0.90       402\n",
      "\n",
      "    accuracy                           0.89       734\n",
      "   macro avg       0.89      0.89      0.89       734\n",
      "weighted avg       0.89      0.89      0.89       734\n",
      "\n"
     ]
    },
    {
     "name": "stderr",
     "output_type": "stream",
     "text": [
      "C:\\Users\\jinen\\AppData\\Local\\Temp\\ipykernel_2448\\148594293.py:19: FutureWarning: The frame.append method is deprecated and will be removed from pandas in a future version. Use pandas.concat instead.\n",
      "  df_performance = df_performance.append({'Model':'Hard Voting'\n"
     ]
    },
    {
     "data": {
      "text/plain": [
       "<sklearn.metrics._plot.confusion_matrix.ConfusionMatrixDisplay at 0x1713e62e410>"
      ]
     },
     "execution_count": 60,
     "metadata": {},
     "output_type": "execute_result"
    },
    {
     "data": {
      "image/png": "[encoded data removed]",
      "text/plain": [
       "<Figure size 432x288 with 2 Axes>"
      ]
     },
     "metadata": {
      "needs_background": "light"
     },
     "output_type": "display_data"
    },
    {
     "data": {
      "image/png": "[encoded data removed]",
      "text/plain": [
       "<Figure size 432x288 with 2 Axes>"
      ]
     },
     "metadata": {
      "needs_background": "light"
     },
     "output_type": "display_data"
    }
   ],
   "source": [
    "predicted_test = pd.DataFrame(p_test_hardvoting)\n",
    "predicted_train = pd.DataFrame(p_train_hardvoting)\n",
    "print('=============================================')\n",
    "print('Scoring Metrics for Hard Voting (Validation)')\n",
    "print('=============================================')\n",
    "print('Balanced Accuracy Score = {}'.format(metrics.balanced_accuracy_score(y_test, predicted_test)))\n",
    "print('Accuracy Score = {}'.format(metrics.accuracy_score(y_test, predicted_test)))\n",
    "print('Precision Score = {}'.format(metrics.precision_score(y_test, predicted_test)))\n",
    "print('F1 Score = {}'.format(metrics.f1_score(y_test, predicted_test, labels=['0','1'])))\n",
    "print('Recall Score = {}'.format(metrics.recall_score(y_test, predicted_test, labels=['0','1'])))\n",
    "print('ROC AUC Score = {}'.format(metrics.roc_auc_score(y_test, predicted_test, labels=['0','1'])))\n",
    "print('Confusion Matrix')\n",
    "print('==================')\n",
    "print(metrics.confusion_matrix(y_test, predicted_test))\n",
    "print('==================')\n",
    "print(metrics.classification_report(y_test, predicted_test, target_names=['0','1']))\n",
    "metrics.ConfusionMatrixDisplay(metrics.confusion_matrix(y_test, predicted_test)).plot()\n",
    "\n",
    "df_performance = df_performance.append({'Model':'Hard Voting'\n",
    "                                        , 'Balanced Accuracy': metrics.balanced_accuracy_score(y_test, predicted_test)\n",
    "                                        , 'Accuracy' :metrics.accuracy_score(y_test, predicted_test)\n",
    "                                        , 'Precision' :metrics.precision_score(y_test, predicted_test)\n",
    "                                        , 'F1':metrics.f1_score(y_test, predicted_test, labels=['0','1'])\n",
    "                                        , 'Recall': metrics.recall_score(y_test, predicted_test, labels=['0','1'])\n",
    "                                        , 'ROC AUC': metrics.roc_auc_score(y_test, predicted_test, labels=['0','1'])\n",
    "                                       }, ignore_index = True)\n",
    "\n",
    "\n",
    "print('=============================================')\n",
    "print('Scoring Metrics for Hard Voting (Training)')\n",
    "print('=============================================')\n",
    "print('Balanced Accuracy Score = {}'.format(metrics.balanced_accuracy_score(y_train, predicted_train)))\n",
    "print('Accuracy Score = {}'.format(metrics.accuracy_score(y_train, predicted_train)))\n",
    "print('Precision Score = {}'.format(metrics.precision_score(y_train, predicted_train)))\n",
    "print('F1 Score = {}'.format(metrics.f1_score(y_train, predicted_train)))\n",
    "print('Recall Score = {}'.format(metrics.recall_score(y_train, predicted_train, labels=['0','1'])))\n",
    "print('ROC AUC Score = {}'.format(metrics.roc_auc_score(y_train, predicted_train, labels=['0','1'])))\n",
    "print('Confusion Matrix')\n",
    "print('==================')\n",
    "print(metrics.confusion_matrix(y_train, predicted_train))\n",
    "print('==================')\n",
    "print(metrics.classification_report(y_train, predicted_train, target_names=['0','1']))\n",
    "metrics.ConfusionMatrixDisplay(metrics.confusion_matrix(y_train, predicted_train)).plot()"
   ]
  },
  {
   "cell_type": "markdown",
   "id": "20e2da99",
   "metadata": {
    "papermill": {
     "duration": 0.050295,
     "end_time": "2023-03-09T18:23:59.701206",
     "exception": false,
     "start_time": "2023-03-09T18:23:59.650911",
     "status": "completed"
    },
    "tags": []
   },
   "source": [
    "## Soft Voting"
   ]
  },
  {
   "cell_type": "code",
   "execution_count": 61,
   "id": "1d9c5525",
   "metadata": {
    "execution": {
     "iopub.execute_input": "2023-03-09T18:23:59.806028Z",
     "iopub.status.busy": "2023-03-09T18:23:59.805139Z",
     "iopub.status.idle": "2023-03-09T18:23:59.811578Z",
     "shell.execute_reply": "2023-03-09T18:23:59.810356Z"
    },
    "papermill": {
     "duration": 0.061706,
     "end_time": "2023-03-09T18:23:59.814158",
     "exception": false,
     "start_time": "2023-03-09T18:23:59.752452",
     "status": "completed"
    },
    "tags": []
   },
   "outputs": [],
   "source": [
    "# Instantiate the voting classifier\n",
    "soft_voting = VotingClassifier([('LogReg', learner_1),\n",
    "                           ('Tree', learner_2),\n",
    "                           ('KNN', learner_3),\n",
    "                           ('Forest', learner_4),\n",
    "                          ('XGBoost', learner_5),\n",
    "                          ('NB', learner_6),\n",
    "                          ('LGBM', learner_8)\n",
    "                               ],\n",
    "                            voting='soft')"
   ]
  },
  {
   "cell_type": "code",
   "execution_count": 62,
   "id": "37632a40",
   "metadata": {
    "_kg_hide-output": true,
    "execution": {
     "iopub.execute_input": "2023-03-09T18:23:59.918836Z",
     "iopub.status.busy": "2023-03-09T18:23:59.918325Z",
     "iopub.status.idle": "2023-03-09T18:24:02.301218Z",
     "shell.execute_reply": "2023-03-09T18:24:02.299936Z"
    },
    "papermill": {
     "duration": 2.439398,
     "end_time": "2023-03-09T18:24:02.304271",
     "exception": false,
     "start_time": "2023-03-09T18:23:59.864873",
     "status": "completed"
    },
    "tags": []
   },
   "outputs": [
    {
     "name": "stderr",
     "output_type": "stream",
     "text": [
      "C:\\Users\\jinen\\AppData\\Local\\Programs\\Python\\Python310\\lib\\site-packages\\lightgbm\\sklearn.py:598: UserWarning: 'silent' argument is deprecated and will be removed in a future release of LightGBM. Pass 'verbose' parameter via keyword arguments instead.\n",
      "  _log_warning(\"'silent' argument is deprecated and will be removed in a future release of LightGBM. \"\n"
     ]
    },
    {
     "name": "stdout",
     "output_type": "stream",
     "text": [
      "[LightGBM] [Warning] feature_fraction is set=0.7, colsample_bytree=1.0 will be ignored. Current value: feature_fraction=0.7\n",
      "[LightGBM] [Warning] bagging_fraction is set=0.7, subsample=1.0 will be ignored. Current value: bagging_fraction=0.7\n"
     ]
    },
    {
     "data": {
      "text/html": [
       "<style>#sk-container-id-9 {color: black;background-color: white;}#sk-container-id-9 pre{padding: 0;}#sk-container-id-9 div.sk-toggleable {background-color: white;}#sk-container-id-9 label.sk-toggleable__label {cursor: pointer;display: block;width: 100%;margin-bottom: 0;padding: 0.3em;box-sizing: border-box;text-align: center;}#sk-container-id-9 label.sk-toggleable__label-arrow:before {content: \"▸\";float: left;margin-right: 0.25em;color: #696969;}#sk-container-id-9 label.sk-toggleable__label-arrow:hover:before {color: black;}#sk-container-id-9 div.sk-estimator:hover label.sk-toggleable__label-arrow:before {color: black;}#sk-container-id-9 div.sk-toggleable__content {max-height: 0;max-width: 0;overflow: hidden;text-align: left;background-color: #f0f8ff;}#sk-container-id-9 div.sk-toggleable__content pre {margin: 0.2em;color: black;border-radius: 0.25em;background-color: #f0f8ff;}#sk-container-id-9 input.sk-toggleable__control:checked~div.sk-toggleable__content {max-height: 200px;max-width: 100%;overflow: auto;}#sk-container-id-9 input.sk-toggleable__control:checked~label.sk-toggleable__label-arrow:before {content: \"▾\";}#sk-container-id-9 div.sk-estimator input.sk-toggleable__control:checked~label.sk-toggleable__label {background-color: #d4ebff;}#sk-container-id-9 div.sk-label input.sk-toggleable__control:checked~label.sk-toggleable__label {background-color: #d4ebff;}#sk-container-id-9 input.sk-hidden--visually {border: 0;clip: rect(1px 1px 1px 1px);clip: rect(1px, 1px, 1px, 1px);height: 1px;margin: -1px;overflow: hidden;padding: 0;position: absolute;width: 1px;}#sk-container-id-9 div.sk-estimator {font-family: monospace;background-color: #f0f8ff;border: 1px dotted black;border-radius: 0.25em;box-sizing: border-box;margin-bottom: 0.5em;}#sk-container-id-9 div.sk-estimator:hover {background-color: #d4ebff;}#sk-container-id-9 div.sk-parallel-item::after {content: \"\";width: 100%;border-bottom: 1px solid gray;flex-grow: 1;}#sk-container-id-9 div.sk-label:hover label.sk-toggleable__label {background-color: #d4ebff;}#sk-container-id-9 div.sk-serial::before {content: \"\";position: absolute;border-left: 1px solid gray;box-sizing: border-box;top: 0;bottom: 0;left: 50%;z-index: 0;}#sk-container-id-9 div.sk-serial {display: flex;flex-direction: column;align-items: center;background-color: white;padding-right: 0.2em;padding-left: 0.2em;position: relative;}#sk-container-id-9 div.sk-item {position: relative;z-index: 1;}#sk-container-id-9 div.sk-parallel {display: flex;align-items: stretch;justify-content: center;background-color: white;position: relative;}#sk-container-id-9 div.sk-item::before, #sk-container-id-9 div.sk-parallel-item::before {content: \"\";position: absolute;border-left: 1px solid gray;box-sizing: border-box;top: 0;bottom: 0;left: 50%;z-index: -1;}#sk-container-id-9 div.sk-parallel-item {display: flex;flex-direction: column;z-index: 1;position: relative;background-color: white;}#sk-container-id-9 div.sk-parallel-item:first-child::after {align-self: flex-end;width: 50%;}#sk-container-id-9 div.sk-parallel-item:last-child::after {align-self: flex-start;width: 50%;}#sk-container-id-9 div.sk-parallel-item:only-child::after {width: 0;}#sk-container-id-9 div.sk-dashed-wrapped {border: 1px dashed gray;margin: 0 0.4em 0.5em 0.4em;box-sizing: border-box;padding-bottom: 0.4em;background-color: white;}#sk-container-id-9 div.sk-label label {font-family: monospace;font-weight: bold;display: inline-block;line-height: 1.2em;}#sk-container-id-9 div.sk-label-container {text-align: center;}#sk-container-id-9 div.sk-container {/* jupyter's `normalize.less` sets `[hidden] { display: none; }` but bootstrap.min.css set `[hidden] { display: none !important; }` so we also need the `!important` here to be able to override the default hidden behavior on the sphinx rendered scikit-learn.org. See: https://github.com/scikit-learn/scikit-learn/issues/21755 */display: inline-block !important;position: relative;}#sk-container-id-9 div.sk-text-repr-fallback {display: none;}</style><div id=\"sk-container-id-9\" class=\"sk-top-container\"><div class=\"sk-text-repr-fallback\"><pre>VotingClassifier(estimators=[(&#x27;LogReg&#x27;,\n",
       "                              LogisticRegression(max_iter=10000,\n",
       "                                                 solver=&#x27;liblinear&#x27;)),\n",
       "                             (&#x27;Tree&#x27;,\n",
       "                              DecisionTreeClassifier(max_depth=5,\n",
       "                                                     min_samples_leaf=25,\n",
       "                                                     min_samples_split=20)),\n",
       "                             (&#x27;KNN&#x27;, KNeighborsClassifier(n_neighbors=10)),\n",
       "                             (&#x27;Forest&#x27;,\n",
       "                              RandomForestClassifier(max_depth=5,\n",
       "                                                     min_samples_leaf=25,\n",
       "                                                     min_samples_split=20,\n",
       "                                                     n_estimators=75)),\n",
       "                             (&#x27;XGBoost&#x27;,\n",
       "                              XGBClassif...\n",
       "                                            monotone_constraints=None,\n",
       "                                            n_estimators=100, n_jobs=-1,\n",
       "                                            num_parallel_tree=None,\n",
       "                                            predictor=None, random_state=None,\n",
       "                                            reg_alpha=None, reg_lambda=None, ...)),\n",
       "                             (&#x27;NB&#x27;, GaussianNB()),\n",
       "                             (&#x27;LGBM&#x27;,\n",
       "                              LGBMClassifier(bagging_fraction=0.7,\n",
       "                                             feature_fraction=0.7,\n",
       "                                             learning_rate=0.01, max_depth=1,\n",
       "                                             metric=&#x27;auc&#x27;, n_estimators=5000,\n",
       "                                             objective=&#x27;binary&#x27;,\n",
       "                                             random_state=1234, silent=True))],\n",
       "                 voting=&#x27;soft&#x27;)</pre><b>In a Jupyter environment, please rerun this cell to show the HTML representation or trust the notebook. <br />On GitHub, the HTML representation is unable to render, please try loading this page with nbviewer.org.</b></div><div class=\"sk-container\" hidden><div class=\"sk-item sk-dashed-wrapped\"><div class=\"sk-label-container\"><div class=\"sk-label sk-toggleable\"><input class=\"sk-toggleable__control sk-hidden--visually\" id=\"sk-estimator-id-24\" type=\"checkbox\" ><label for=\"sk-estimator-id-24\" class=\"sk-toggleable__label sk-toggleable__label-arrow\">VotingClassifier</label><div class=\"sk-toggleable__content\"><pre>VotingClassifier(estimators=[(&#x27;LogReg&#x27;,\n",
       "                              LogisticRegression(max_iter=10000,\n",
       "                                                 solver=&#x27;liblinear&#x27;)),\n",
       "                             (&#x27;Tree&#x27;,\n",
       "                              DecisionTreeClassifier(max_depth=5,\n",
       "                                                     min_samples_leaf=25,\n",
       "                                                     min_samples_split=20)),\n",
       "                             (&#x27;KNN&#x27;, KNeighborsClassifier(n_neighbors=10)),\n",
       "                             (&#x27;Forest&#x27;,\n",
       "                              RandomForestClassifier(max_depth=5,\n",
       "                                                     min_samples_leaf=25,\n",
       "                                                     min_samples_split=20,\n",
       "                                                     n_estimators=75)),\n",
       "                             (&#x27;XGBoost&#x27;,\n",
       "                              XGBClassif...\n",
       "                                            monotone_constraints=None,\n",
       "                                            n_estimators=100, n_jobs=-1,\n",
       "                                            num_parallel_tree=None,\n",
       "                                            predictor=None, random_state=None,\n",
       "                                            reg_alpha=None, reg_lambda=None, ...)),\n",
       "                             (&#x27;NB&#x27;, GaussianNB()),\n",
       "                             (&#x27;LGBM&#x27;,\n",
       "                              LGBMClassifier(bagging_fraction=0.7,\n",
       "                                             feature_fraction=0.7,\n",
       "                                             learning_rate=0.01, max_depth=1,\n",
       "                                             metric=&#x27;auc&#x27;, n_estimators=5000,\n",
       "                                             objective=&#x27;binary&#x27;,\n",
       "                                             random_state=1234, silent=True))],\n",
       "                 voting=&#x27;soft&#x27;)</pre></div></div></div><div class=\"sk-parallel\"><div class=\"sk-parallel-item\"><div class=\"sk-item\"><div class=\"sk-label-container\"><div class=\"sk-label sk-toggleable\"><label>LogReg</label></div></div><div class=\"sk-serial\"><div class=\"sk-item\"><div class=\"sk-estimator sk-toggleable\"><input class=\"sk-toggleable__control sk-hidden--visually\" id=\"sk-estimator-id-25\" type=\"checkbox\" ><label for=\"sk-estimator-id-25\" class=\"sk-toggleable__label sk-toggleable__label-arrow\">LogisticRegression</label><div class=\"sk-toggleable__content\"><pre>LogisticRegression(max_iter=10000, solver=&#x27;liblinear&#x27;)</pre></div></div></div></div></div></div><div class=\"sk-parallel-item\"><div class=\"sk-item\"><div class=\"sk-label-container\"><div class=\"sk-label sk-toggleable\"><label>Tree</label></div></div><div class=\"sk-serial\"><div class=\"sk-item\"><div class=\"sk-estimator sk-toggleable\"><input class=\"sk-toggleable__control sk-hidden--visually\" id=\"sk-estimator-id-26\" type=\"checkbox\" ><label for=\"sk-estimator-id-26\" class=\"sk-toggleable__label sk-toggleable__label-arrow\">DecisionTreeClassifier</label><div class=\"sk-toggleable__content\"><pre>DecisionTreeClassifier(max_depth=5, min_samples_leaf=25, min_samples_split=20)</pre></div></div></div></div></div></div><div class=\"sk-parallel-item\"><div class=\"sk-item\"><div class=\"sk-label-container\"><div class=\"sk-label sk-toggleable\"><label>KNN</label></div></div><div class=\"sk-serial\"><div class=\"sk-item\"><div class=\"sk-estimator sk-toggleable\"><input class=\"sk-toggleable__control sk-hidden--visually\" id=\"sk-estimator-id-27\" type=\"checkbox\" ><label for=\"sk-estimator-id-27\" class=\"sk-toggleable__label sk-toggleable__label-arrow\">KNeighborsClassifier</label><div class=\"sk-toggleable__content\"><pre>KNeighborsClassifier(n_neighbors=10)</pre></div></div></div></div></div></div><div class=\"sk-parallel-item\"><div class=\"sk-item\"><div class=\"sk-label-container\"><div class=\"sk-label sk-toggleable\"><label>Forest</label></div></div><div class=\"sk-serial\"><div class=\"sk-item\"><div class=\"sk-estimator sk-toggleable\"><input class=\"sk-toggleable__control sk-hidden--visually\" id=\"sk-estimator-id-28\" type=\"checkbox\" ><label for=\"sk-estimator-id-28\" class=\"sk-toggleable__label sk-toggleable__label-arrow\">RandomForestClassifier</label><div class=\"sk-toggleable__content\"><pre>RandomForestClassifier(max_depth=5, min_samples_leaf=25, min_samples_split=20,\n",
       "                       n_estimators=75)</pre></div></div></div></div></div></div><div class=\"sk-parallel-item\"><div class=\"sk-item\"><div class=\"sk-label-container\"><div class=\"sk-label sk-toggleable\"><label>XGBoost</label></div></div><div class=\"sk-serial\"><div class=\"sk-item\"><div class=\"sk-estimator sk-toggleable\"><input class=\"sk-toggleable__control sk-hidden--visually\" id=\"sk-estimator-id-29\" type=\"checkbox\" ><label for=\"sk-estimator-id-29\" class=\"sk-toggleable__label sk-toggleable__label-arrow\">XGBClassifier</label><div class=\"sk-toggleable__content\"><pre>XGBClassifier(base_score=None, booster=None, callbacks=None,\n",
       "              colsample_bylevel=None, colsample_bynode=None,\n",
       "              colsample_bytree=0.8, early_stopping_rounds=None,\n",
       "              enable_categorical=False, eval_metric=None, gamma=None,\n",
       "              gpu_id=None, grow_policy=None, importance_type=None,\n",
       "              interaction_constraints=None, learning_rate=0.01, max_bin=None,\n",
       "              max_cat_to_onehot=None, max_delta_step=None, max_depth=3,\n",
       "              max_leaves=None, min_child_weight=None, missing=nan,\n",
       "              monotone_constraints=None, n_estimators=100, n_jobs=-1,\n",
       "              num_parallel_tree=None, predictor=None, random_state=None,\n",
       "              reg_alpha=None, reg_lambda=None, ...)</pre></div></div></div></div></div></div><div class=\"sk-parallel-item\"><div class=\"sk-item\"><div class=\"sk-label-container\"><div class=\"sk-label sk-toggleable\"><label>NB</label></div></div><div class=\"sk-serial\"><div class=\"sk-item\"><div class=\"sk-estimator sk-toggleable\"><input class=\"sk-toggleable__control sk-hidden--visually\" id=\"sk-estimator-id-30\" type=\"checkbox\" ><label for=\"sk-estimator-id-30\" class=\"sk-toggleable__label sk-toggleable__label-arrow\">GaussianNB</label><div class=\"sk-toggleable__content\"><pre>GaussianNB()</pre></div></div></div></div></div></div><div class=\"sk-parallel-item\"><div class=\"sk-item\"><div class=\"sk-label-container\"><div class=\"sk-label sk-toggleable\"><label>LGBM</label></div></div><div class=\"sk-serial\"><div class=\"sk-item\"><div class=\"sk-estimator sk-toggleable\"><input class=\"sk-toggleable__control sk-hidden--visually\" id=\"sk-estimator-id-31\" type=\"checkbox\" ><label for=\"sk-estimator-id-31\" class=\"sk-toggleable__label sk-toggleable__label-arrow\">LGBMClassifier</label><div class=\"sk-toggleable__content\"><pre>LGBMClassifier(bagging_fraction=0.7, feature_fraction=0.7, learning_rate=0.01,\n",
       "               max_depth=1, metric=&#x27;auc&#x27;, n_estimators=5000, objective=&#x27;binary&#x27;,\n",
       "               random_state=1234, silent=True)</pre></div></div></div></div></div></div></div></div></div></div>"
      ],
      "text/plain": [
       "VotingClassifier(estimators=[('LogReg',\n",
       "                              LogisticRegression(max_iter=10000,\n",
       "                                                 solver='liblinear')),\n",
       "                             ('Tree',\n",
       "                              DecisionTreeClassifier(max_depth=5,\n",
       "                                                     min_samples_leaf=25,\n",
       "                                                     min_samples_split=20)),\n",
       "                             ('KNN', KNeighborsClassifier(n_neighbors=10)),\n",
       "                             ('Forest',\n",
       "                              RandomForestClassifier(max_depth=5,\n",
       "                                                     min_samples_leaf=25,\n",
       "                                                     min_samples_split=20,\n",
       "                                                     n_estimators=75)),\n",
       "                             ('XGBoost',\n",
       "                              XGBClassif...\n",
       "                                            monotone_constraints=None,\n",
       "                                            n_estimators=100, n_jobs=-1,\n",
       "                                            num_parallel_tree=None,\n",
       "                                            predictor=None, random_state=None,\n",
       "                                            reg_alpha=None, reg_lambda=None, ...)),\n",
       "                             ('NB', GaussianNB()),\n",
       "                             ('LGBM',\n",
       "                              LGBMClassifier(bagging_fraction=0.7,\n",
       "                                             feature_fraction=0.7,\n",
       "                                             learning_rate=0.01, max_depth=1,\n",
       "                                             metric='auc', n_estimators=5000,\n",
       "                                             objective='binary',\n",
       "                                             random_state=1234, silent=True))],\n",
       "                 voting='soft')"
      ]
     },
     "execution_count": 62,
     "metadata": {},
     "output_type": "execute_result"
    }
   ],
   "source": [
    "soft_voting.fit(X_train, y_train.values.ravel())"
   ]
  },
  {
   "cell_type": "code",
   "execution_count": 63,
   "id": "e6398643",
   "metadata": {
    "execution": {
     "iopub.execute_input": "2023-03-09T18:24:02.410140Z",
     "iopub.status.busy": "2023-03-09T18:24:02.409309Z",
     "iopub.status.idle": "2023-03-09T18:24:02.692242Z",
     "shell.execute_reply": "2023-03-09T18:24:02.691128Z"
    },
    "papermill": {
     "duration": 0.339191,
     "end_time": "2023-03-09T18:24:02.694981",
     "exception": false,
     "start_time": "2023-03-09T18:24:02.355790",
     "status": "completed"
    },
    "tags": []
   },
   "outputs": [],
   "source": [
    "p_train_softvoting = soft_voting.predict(X_train)\n",
    "p_test_softvoting = soft_voting.predict(X_test)\n",
    "p_train_proba_softvoting = soft_voting.predict_proba(X_train)[:,1]\n",
    "p_test_proba_softvoting = soft_voting.predict_proba(X_test)[:,1]"
   ]
  },
  {
   "cell_type": "code",
   "execution_count": 64,
   "id": "d9410e4f",
   "metadata": {
    "execution": {
     "iopub.execute_input": "2023-03-09T18:24:02.799449Z",
     "iopub.status.busy": "2023-03-09T18:24:02.798620Z",
     "iopub.status.idle": "2023-03-09T18:24:03.785083Z",
     "shell.execute_reply": "2023-03-09T18:24:03.783606Z"
    },
    "papermill": {
     "duration": 1.042382,
     "end_time": "2023-03-09T18:24:03.788111",
     "exception": false,
     "start_time": "2023-03-09T18:24:02.745729",
     "status": "completed"
    },
    "tags": []
   },
   "outputs": [
    {
     "name": "stdout",
     "output_type": "stream",
     "text": [
      "=============================================\n",
      "Scoring Metrics for Soft Voting (Validation)\n",
      "=============================================\n",
      "Balanced Accuracy Score = 0.884\n",
      "Accuracy Score = 0.886\n",
      "Precision Score = 0.905\n",
      "F1 Score = 0.900\n",
      "Recall Score = 0.896\n",
      "ROC AUC Score = 0.884\n",
      "Confusion Matrix\n",
      "==================\n",
      "[[68 10]\n",
      " [11 95]]\n",
      "==================\n",
      "              precision    recall  f1-score   support\n",
      "\n",
      "           0       0.86      0.87      0.87        78\n",
      "           1       0.90      0.90      0.90       106\n",
      "\n",
      "    accuracy                           0.89       184\n",
      "   macro avg       0.88      0.88      0.88       184\n",
      "weighted avg       0.89      0.89      0.89       184\n",
      "\n",
      "=============================================\n",
      "Scoring Metrics for Soft Voting (Training)\n",
      "=============================================\n",
      "Balanced Accuracy Score = 0.882\n",
      "Accuracy Score = 0.886\n",
      "Precision Score = 0.879\n",
      "F1 Score = 0.898\n",
      "Recall Score = 0.918\n",
      "ROC AUC Score = 0.882\n",
      "Confusion Matrix\n",
      "==================\n",
      "[[281  51]\n",
      " [ 33 369]]\n",
      "==================\n",
      "              precision    recall  f1-score   support\n",
      "\n",
      "           0       0.89      0.85      0.87       332\n",
      "           1       0.88      0.92      0.90       402\n",
      "\n",
      "    accuracy                           0.89       734\n",
      "   macro avg       0.89      0.88      0.88       734\n",
      "weighted avg       0.89      0.89      0.89       734\n",
      "\n",
      "======= ROC Curve and Precision x Recall Curve =======\n"
     ]
    },
    {
     "name": "stderr",
     "output_type": "stream",
     "text": [
      "C:\\Users\\jinen\\AppData\\Local\\Temp\\ipykernel_2448\\4262248699.py:21: FutureWarning: The frame.append method is deprecated and will be removed from pandas in a future version. Use pandas.concat instead.\n",
      "  df_performance = df_performance.append({'Model':model_name\n"
     ]
    },
    {
     "data": {
      "image/png": "[encoded data removed]",
      "text/plain": [
       "<Figure size 432x288 with 2 Axes>"
      ]
     },
     "metadata": {
      "needs_background": "light"
     },
     "output_type": "display_data"
    },
    {
     "data": {
      "image/png": "[encoded data removed]",
      "text/plain": [
       "<Figure size 432x288 with 2 Axes>"
      ]
     },
     "metadata": {
      "needs_background": "light"
     },
     "output_type": "display_data"
    },
    {
     "data": {
      "image/png": "[encoded data removed]",
      "text/plain": [
       "<Figure size 1152x432 with 2 Axes>"
      ]
     },
     "metadata": {
      "needs_background": "light"
     },
     "output_type": "display_data"
    }
   ],
   "source": [
    "model_performance(p_test_softvoting, p_train_softvoting, p_test_proba_softvoting, p_train_proba_softvoting, y_test, y_train, 'Soft Voting')"
   ]
  },
  {
   "cell_type": "code",
   "execution_count": 68,
   "id": "ccb28a58",
   "metadata": {},
   "outputs": [
    {
     "data": {
      "text/html": [
       "<div>\n",
       "<style scoped>\n",
       "    .dataframe tbody tr th:only-of-type {\n",
       "        vertical-align: middle;\n",
       "    }\n",
       "\n",
       "    .dataframe tbody tr th {\n",
       "        vertical-align: top;\n",
       "    }\n",
       "\n",
       "    .dataframe thead th {\n",
       "        text-align: right;\n",
       "    }\n",
       "</style>\n",
       "<table border=\"1\" class=\"dataframe\">\n",
       "  <thead>\n",
       "    <tr style=\"text-align: right;\">\n",
       "      <th></th>\n",
       "      <th>Model</th>\n",
       "      <th>Balanced Accuracy</th>\n",
       "      <th>Accuracy</th>\n",
       "      <th>Precision</th>\n",
       "      <th>F1</th>\n",
       "      <th>Recall</th>\n",
       "      <th>ROC AUC</th>\n",
       "    </tr>\n",
       "  </thead>\n",
       "  <tbody>\n",
       "    <tr>\n",
       "      <th>0</th>\n",
       "      <td>Logistic Regression</td>\n",
       "      <td>0.869497</td>\n",
       "      <td>0.875</td>\n",
       "      <td>0.880734</td>\n",
       "      <td>0.893023</td>\n",
       "      <td>0.90566</td>\n",
       "      <td>0.869497</td>\n",
       "    </tr>\n",
       "    <tr>\n",
       "      <th>1</th>\n",
       "      <td>Decision Tree</td>\n",
       "      <td>0.845912</td>\n",
       "      <td>0.847826</td>\n",
       "      <td>0.875</td>\n",
       "      <td>0.866667</td>\n",
       "      <td>0.858491</td>\n",
       "      <td>0.845912</td>\n",
       "    </tr>\n",
       "    <tr>\n",
       "      <th>2</th>\n",
       "      <td>kNN</td>\n",
       "      <td>0.858732</td>\n",
       "      <td>0.858696</td>\n",
       "      <td>0.892157</td>\n",
       "      <td>0.875</td>\n",
       "      <td>0.858491</td>\n",
       "      <td>0.858732</td>\n",
       "    </tr>\n",
       "    <tr>\n",
       "      <th>3</th>\n",
       "      <td>Random Forest</td>\n",
       "      <td>0.891751</td>\n",
       "      <td>0.896739</td>\n",
       "      <td>0.899083</td>\n",
       "      <td>0.911628</td>\n",
       "      <td>0.924528</td>\n",
       "      <td>0.891751</td>\n",
       "    </tr>\n",
       "    <tr>\n",
       "      <th>4</th>\n",
       "      <td>SVM</td>\n",
       "      <td>0.888728</td>\n",
       "      <td>0.891304</td>\n",
       "      <td>0.90566</td>\n",
       "      <td>0.90566</td>\n",
       "      <td>0.90566</td>\n",
       "      <td>0.888728</td>\n",
       "    </tr>\n",
       "    <tr>\n",
       "      <th>5</th>\n",
       "      <td>XGBoost</td>\n",
       "      <td>0.887034</td>\n",
       "      <td>0.891304</td>\n",
       "      <td>0.898148</td>\n",
       "      <td>0.906542</td>\n",
       "      <td>0.915094</td>\n",
       "      <td>0.887034</td>\n",
       "    </tr>\n",
       "    <tr>\n",
       "      <th>6</th>\n",
       "      <td>LGBM</td>\n",
       "      <td>0.86986</td>\n",
       "      <td>0.869565</td>\n",
       "      <td>0.901961</td>\n",
       "      <td>0.884615</td>\n",
       "      <td>0.867925</td>\n",
       "      <td>0.86986</td>\n",
       "    </tr>\n",
       "    <tr>\n",
       "      <th>7</th>\n",
       "      <td>Hard Voting</td>\n",
       "      <td>0.891751</td>\n",
       "      <td>0.896739</td>\n",
       "      <td>0.899083</td>\n",
       "      <td>0.911628</td>\n",
       "      <td>0.924528</td>\n",
       "      <td>0.891751</td>\n",
       "    </tr>\n",
       "    <tr>\n",
       "      <th>8</th>\n",
       "      <td>Soft Voting</td>\n",
       "      <td>0.884011</td>\n",
       "      <td>0.88587</td>\n",
       "      <td>0.904762</td>\n",
       "      <td>0.900474</td>\n",
       "      <td>0.896226</td>\n",
       "      <td>0.884011</td>\n",
       "    </tr>\n",
       "  </tbody>\n",
       "</table>\n",
       "</div>"
      ],
      "text/plain": [
       "                 Model Balanced Accuracy  Accuracy Precision        F1  \\\n",
       "0  Logistic Regression          0.869497     0.875  0.880734  0.893023   \n",
       "1        Decision Tree          0.845912  0.847826     0.875  0.866667   \n",
       "2                  kNN          0.858732  0.858696  0.892157     0.875   \n",
       "3        Random Forest          0.891751  0.896739  0.899083  0.911628   \n",
       "4                  SVM          0.888728  0.891304   0.90566   0.90566   \n",
       "5              XGBoost          0.887034  0.891304  0.898148  0.906542   \n",
       "6                 LGBM           0.86986  0.869565  0.901961  0.884615   \n",
       "7          Hard Voting          0.891751  0.896739  0.899083  0.911628   \n",
       "8          Soft Voting          0.884011   0.88587  0.904762  0.900474   \n",
       "\n",
       "     Recall   ROC AUC  \n",
       "0   0.90566  0.869497  \n",
       "1  0.858491  0.845912  \n",
       "2  0.858491  0.858732  \n",
       "3  0.924528  0.891751  \n",
       "4   0.90566  0.888728  \n",
       "5  0.915094  0.887034  \n",
       "6  0.867925   0.86986  \n",
       "7  0.924528  0.891751  \n",
       "8  0.896226  0.884011  "
      ]
     },
     "execution_count": 68,
     "metadata": {},
     "output_type": "execute_result"
    }
   ],
   "source": [
    "df_performance = df_performance.round(2)\n",
    "df_performance"
   ]
  },
  {
   "cell_type": "code",
   "execution_count": null,
   "id": "6175dc74",
   "metadata": {},
   "outputs": [],
   "source": []
  }
 ],
 "metadata": {
  "kernelspec": {
   "display_name": "Python 3 (ipykernel)",
   "language": "python",
   "name": "python3"
  },
  "language_info": {
   "codemirror_mode": {
    "name": "ipython",
    "version": 3
   },
   "file_extension": ".py",
   "mimetype": "text/x-python",
   "name": "python",
   "nbconvert_exporter": "python",
   "pygments_lexer": "ipython3",
   "version": "3.10.5"
  },
  "papermill": {
   "default_parameters": {},
   "duration": 99.905132,
   "end_time": "2023-03-09T18:24:08.420323",
   "environment_variables": {},
   "exception": null,
   "input_path": "__notebook__.ipynb",
   "output_path": "__notebook__.ipynb",
   "parameters": {},
   "start_time": "2023-03-09T18:22:28.515191",
   "version": "2.4.0"
  }
 },
 "nbformat": 4,
 "nbformat_minor": 5
}
